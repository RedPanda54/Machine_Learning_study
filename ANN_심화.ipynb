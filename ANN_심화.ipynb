{
  "nbformat": 4,
  "nbformat_minor": 0,
  "metadata": {
    "colab": {
      "provenance": [],
      "authorship_tag": "ABX9TyOuHT7DsUDZYdmG3AkhYSxC",
      "include_colab_link": true
    },
    "kernelspec": {
      "name": "python3",
      "display_name": "Python 3"
    },
    "language_info": {
      "name": "python"
    },
    "gpuClass": "standard"
  },
  "cells": [
    {
      "cell_type": "markdown",
      "metadata": {
        "id": "view-in-github",
        "colab_type": "text"
      },
      "source": [
        "<a href=\"https://colab.research.google.com/github/RedPanda54/Machine_Learning_study/blob/main/ANN_%EC%8B%AC%ED%99%94.ipynb\" target=\"_parent\"><img src=\"https://colab.research.google.com/assets/colab-badge.svg\" alt=\"Open In Colab\"/></a>"
      ]
    },
    {
      "cell_type": "code",
      "execution_count": 1,
      "metadata": {
        "id": "C93YhmWBvB9s",
        "colab": {
          "base_uri": "https://localhost:8080/"
        },
        "outputId": "5d3f8414-85b9-4c87-e723-5be6322d53d3"
      },
      "outputs": [
        {
          "output_type": "stream",
          "name": "stdout",
          "text": [
            "<class 'pandas.core.frame.DataFrame'>\n",
            "RangeIndex: 100000 entries, 0 to 99999\n",
            "Data columns (total 9 columns):\n",
            " #   Column               Non-Null Count   Dtype  \n",
            "---  ------               --------------   -----  \n",
            " 0   gender               100000 non-null  object \n",
            " 1   age                  100000 non-null  float64\n",
            " 2   hypertension         100000 non-null  int64  \n",
            " 3   heart_disease        100000 non-null  int64  \n",
            " 4   smoking_history      100000 non-null  object \n",
            " 5   bmi                  100000 non-null  float64\n",
            " 6   HbA1c_level          100000 non-null  float64\n",
            " 7   blood_glucose_level  100000 non-null  int64  \n",
            " 8   diabetes             100000 non-null  int64  \n",
            "dtypes: float64(3), int64(4), object(2)\n",
            "memory usage: 6.9+ MB\n"
          ]
        }
      ],
      "source": [
        "import numpy as np\n",
        "import pandas as pd\n",
        "import matplotlib.pyplot as plt\n",
        "from matplotlib_inline.backend_inline import set_matplotlib_formats\n",
        "import seaborn as sns\n",
        "\n",
        "np.random.seed(10)\n",
        "\n",
        "URL = \"https://raw.githubusercontent.com/RedPanda54/Machine_Learning_study/main/diabetes_prediction_dataset.csv\"\n",
        "df = pd.read_csv(URL)\n",
        "df.info()"
      ]
    },
    {
      "cell_type": "code",
      "source": [
        "#중복행 제거\n",
        "df.drop_duplicates(inplace=True)\n",
        "df # 3854개의 행이 제거되었다."
      ],
      "metadata": {
        "colab": {
          "base_uri": "https://localhost:8080/",
          "height": 424
        },
        "id": "5cnBysCvQSAb",
        "outputId": "a2e8acd0-9528-4db6-fdd2-c48959a0f18a"
      },
      "execution_count": 2,
      "outputs": [
        {
          "output_type": "execute_result",
          "data": {
            "text/plain": [
              "       gender   age  hypertension  heart_disease smoking_history    bmi  \\\n",
              "0      Female  80.0             0              1           never  25.19   \n",
              "1      Female  54.0             0              0         No Info  27.32   \n",
              "2        Male  28.0             0              0           never  27.32   \n",
              "3      Female  36.0             0              0         current  23.45   \n",
              "4        Male  76.0             1              1         current  20.14   \n",
              "...       ...   ...           ...            ...             ...    ...   \n",
              "99994  Female  36.0             0              0         No Info  24.60   \n",
              "99996  Female   2.0             0              0         No Info  17.37   \n",
              "99997    Male  66.0             0              0          former  27.83   \n",
              "99998  Female  24.0             0              0           never  35.42   \n",
              "99999  Female  57.0             0              0         current  22.43   \n",
              "\n",
              "       HbA1c_level  blood_glucose_level  diabetes  \n",
              "0              6.6                  140         0  \n",
              "1              6.6                   80         0  \n",
              "2              5.7                  158         0  \n",
              "3              5.0                  155         0  \n",
              "4              4.8                  155         0  \n",
              "...            ...                  ...       ...  \n",
              "99994          4.8                  145         0  \n",
              "99996          6.5                  100         0  \n",
              "99997          5.7                  155         0  \n",
              "99998          4.0                  100         0  \n",
              "99999          6.6                   90         0  \n",
              "\n",
              "[96146 rows x 9 columns]"
            ],
            "text/html": [
              "\n",
              "  <div id=\"df-ab5196bc-1e76-4ab4-abba-227db0f0d717\">\n",
              "    <div class=\"colab-df-container\">\n",
              "      <div>\n",
              "<style scoped>\n",
              "    .dataframe tbody tr th:only-of-type {\n",
              "        vertical-align: middle;\n",
              "    }\n",
              "\n",
              "    .dataframe tbody tr th {\n",
              "        vertical-align: top;\n",
              "    }\n",
              "\n",
              "    .dataframe thead th {\n",
              "        text-align: right;\n",
              "    }\n",
              "</style>\n",
              "<table border=\"1\" class=\"dataframe\">\n",
              "  <thead>\n",
              "    <tr style=\"text-align: right;\">\n",
              "      <th></th>\n",
              "      <th>gender</th>\n",
              "      <th>age</th>\n",
              "      <th>hypertension</th>\n",
              "      <th>heart_disease</th>\n",
              "      <th>smoking_history</th>\n",
              "      <th>bmi</th>\n",
              "      <th>HbA1c_level</th>\n",
              "      <th>blood_glucose_level</th>\n",
              "      <th>diabetes</th>\n",
              "    </tr>\n",
              "  </thead>\n",
              "  <tbody>\n",
              "    <tr>\n",
              "      <th>0</th>\n",
              "      <td>Female</td>\n",
              "      <td>80.0</td>\n",
              "      <td>0</td>\n",
              "      <td>1</td>\n",
              "      <td>never</td>\n",
              "      <td>25.19</td>\n",
              "      <td>6.6</td>\n",
              "      <td>140</td>\n",
              "      <td>0</td>\n",
              "    </tr>\n",
              "    <tr>\n",
              "      <th>1</th>\n",
              "      <td>Female</td>\n",
              "      <td>54.0</td>\n",
              "      <td>0</td>\n",
              "      <td>0</td>\n",
              "      <td>No Info</td>\n",
              "      <td>27.32</td>\n",
              "      <td>6.6</td>\n",
              "      <td>80</td>\n",
              "      <td>0</td>\n",
              "    </tr>\n",
              "    <tr>\n",
              "      <th>2</th>\n",
              "      <td>Male</td>\n",
              "      <td>28.0</td>\n",
              "      <td>0</td>\n",
              "      <td>0</td>\n",
              "      <td>never</td>\n",
              "      <td>27.32</td>\n",
              "      <td>5.7</td>\n",
              "      <td>158</td>\n",
              "      <td>0</td>\n",
              "    </tr>\n",
              "    <tr>\n",
              "      <th>3</th>\n",
              "      <td>Female</td>\n",
              "      <td>36.0</td>\n",
              "      <td>0</td>\n",
              "      <td>0</td>\n",
              "      <td>current</td>\n",
              "      <td>23.45</td>\n",
              "      <td>5.0</td>\n",
              "      <td>155</td>\n",
              "      <td>0</td>\n",
              "    </tr>\n",
              "    <tr>\n",
              "      <th>4</th>\n",
              "      <td>Male</td>\n",
              "      <td>76.0</td>\n",
              "      <td>1</td>\n",
              "      <td>1</td>\n",
              "      <td>current</td>\n",
              "      <td>20.14</td>\n",
              "      <td>4.8</td>\n",
              "      <td>155</td>\n",
              "      <td>0</td>\n",
              "    </tr>\n",
              "    <tr>\n",
              "      <th>...</th>\n",
              "      <td>...</td>\n",
              "      <td>...</td>\n",
              "      <td>...</td>\n",
              "      <td>...</td>\n",
              "      <td>...</td>\n",
              "      <td>...</td>\n",
              "      <td>...</td>\n",
              "      <td>...</td>\n",
              "      <td>...</td>\n",
              "    </tr>\n",
              "    <tr>\n",
              "      <th>99994</th>\n",
              "      <td>Female</td>\n",
              "      <td>36.0</td>\n",
              "      <td>0</td>\n",
              "      <td>0</td>\n",
              "      <td>No Info</td>\n",
              "      <td>24.60</td>\n",
              "      <td>4.8</td>\n",
              "      <td>145</td>\n",
              "      <td>0</td>\n",
              "    </tr>\n",
              "    <tr>\n",
              "      <th>99996</th>\n",
              "      <td>Female</td>\n",
              "      <td>2.0</td>\n",
              "      <td>0</td>\n",
              "      <td>0</td>\n",
              "      <td>No Info</td>\n",
              "      <td>17.37</td>\n",
              "      <td>6.5</td>\n",
              "      <td>100</td>\n",
              "      <td>0</td>\n",
              "    </tr>\n",
              "    <tr>\n",
              "      <th>99997</th>\n",
              "      <td>Male</td>\n",
              "      <td>66.0</td>\n",
              "      <td>0</td>\n",
              "      <td>0</td>\n",
              "      <td>former</td>\n",
              "      <td>27.83</td>\n",
              "      <td>5.7</td>\n",
              "      <td>155</td>\n",
              "      <td>0</td>\n",
              "    </tr>\n",
              "    <tr>\n",
              "      <th>99998</th>\n",
              "      <td>Female</td>\n",
              "      <td>24.0</td>\n",
              "      <td>0</td>\n",
              "      <td>0</td>\n",
              "      <td>never</td>\n",
              "      <td>35.42</td>\n",
              "      <td>4.0</td>\n",
              "      <td>100</td>\n",
              "      <td>0</td>\n",
              "    </tr>\n",
              "    <tr>\n",
              "      <th>99999</th>\n",
              "      <td>Female</td>\n",
              "      <td>57.0</td>\n",
              "      <td>0</td>\n",
              "      <td>0</td>\n",
              "      <td>current</td>\n",
              "      <td>22.43</td>\n",
              "      <td>6.6</td>\n",
              "      <td>90</td>\n",
              "      <td>0</td>\n",
              "    </tr>\n",
              "  </tbody>\n",
              "</table>\n",
              "<p>96146 rows × 9 columns</p>\n",
              "</div>\n",
              "      <button class=\"colab-df-convert\" onclick=\"convertToInteractive('df-ab5196bc-1e76-4ab4-abba-227db0f0d717')\"\n",
              "              title=\"Convert this dataframe to an interactive table.\"\n",
              "              style=\"display:none;\">\n",
              "        \n",
              "  <svg xmlns=\"http://www.w3.org/2000/svg\" height=\"24px\"viewBox=\"0 0 24 24\"\n",
              "       width=\"24px\">\n",
              "    <path d=\"M0 0h24v24H0V0z\" fill=\"none\"/>\n",
              "    <path d=\"M18.56 5.44l.94 2.06.94-2.06 2.06-.94-2.06-.94-.94-2.06-.94 2.06-2.06.94zm-11 1L8.5 8.5l.94-2.06 2.06-.94-2.06-.94L8.5 2.5l-.94 2.06-2.06.94zm10 10l.94 2.06.94-2.06 2.06-.94-2.06-.94-.94-2.06-.94 2.06-2.06.94z\"/><path d=\"M17.41 7.96l-1.37-1.37c-.4-.4-.92-.59-1.43-.59-.52 0-1.04.2-1.43.59L10.3 9.45l-7.72 7.72c-.78.78-.78 2.05 0 2.83L4 21.41c.39.39.9.59 1.41.59.51 0 1.02-.2 1.41-.59l7.78-7.78 2.81-2.81c.8-.78.8-2.07 0-2.86zM5.41 20L4 18.59l7.72-7.72 1.47 1.35L5.41 20z\"/>\n",
              "  </svg>\n",
              "      </button>\n",
              "      \n",
              "  <style>\n",
              "    .colab-df-container {\n",
              "      display:flex;\n",
              "      flex-wrap:wrap;\n",
              "      gap: 12px;\n",
              "    }\n",
              "\n",
              "    .colab-df-convert {\n",
              "      background-color: #E8F0FE;\n",
              "      border: none;\n",
              "      border-radius: 50%;\n",
              "      cursor: pointer;\n",
              "      display: none;\n",
              "      fill: #1967D2;\n",
              "      height: 32px;\n",
              "      padding: 0 0 0 0;\n",
              "      width: 32px;\n",
              "    }\n",
              "\n",
              "    .colab-df-convert:hover {\n",
              "      background-color: #E2EBFA;\n",
              "      box-shadow: 0px 1px 2px rgba(60, 64, 67, 0.3), 0px 1px 3px 1px rgba(60, 64, 67, 0.15);\n",
              "      fill: #174EA6;\n",
              "    }\n",
              "\n",
              "    [theme=dark] .colab-df-convert {\n",
              "      background-color: #3B4455;\n",
              "      fill: #D2E3FC;\n",
              "    }\n",
              "\n",
              "    [theme=dark] .colab-df-convert:hover {\n",
              "      background-color: #434B5C;\n",
              "      box-shadow: 0px 1px 3px 1px rgba(0, 0, 0, 0.15);\n",
              "      filter: drop-shadow(0px 1px 2px rgba(0, 0, 0, 0.3));\n",
              "      fill: #FFFFFF;\n",
              "    }\n",
              "  </style>\n",
              "\n",
              "      <script>\n",
              "        const buttonEl =\n",
              "          document.querySelector('#df-ab5196bc-1e76-4ab4-abba-227db0f0d717 button.colab-df-convert');\n",
              "        buttonEl.style.display =\n",
              "          google.colab.kernel.accessAllowed ? 'block' : 'none';\n",
              "\n",
              "        async function convertToInteractive(key) {\n",
              "          const element = document.querySelector('#df-ab5196bc-1e76-4ab4-abba-227db0f0d717');\n",
              "          const dataTable =\n",
              "            await google.colab.kernel.invokeFunction('convertToInteractive',\n",
              "                                                     [key], {});\n",
              "          if (!dataTable) return;\n",
              "\n",
              "          const docLinkHtml = 'Like what you see? Visit the ' +\n",
              "            '<a target=\"_blank\" href=https://colab.research.google.com/notebooks/data_table.ipynb>data table notebook</a>'\n",
              "            + ' to learn more about interactive tables.';\n",
              "          element.innerHTML = '';\n",
              "          dataTable['output_type'] = 'display_data';\n",
              "          await google.colab.output.renderOutput(dataTable, element);\n",
              "          const docLink = document.createElement('div');\n",
              "          docLink.innerHTML = docLinkHtml;\n",
              "          element.appendChild(docLink);\n",
              "        }\n",
              "      </script>\n",
              "    </div>\n",
              "  </div>\n",
              "  "
            ]
          },
          "metadata": {},
          "execution_count": 2
        }
      ]
    },
    {
      "cell_type": "code",
      "source": [
        "# Label Encoding for gender column\n",
        "from sklearn import preprocessing\n",
        "label_encoder = preprocessing.LabelEncoder()\n",
        "df['gender'] = label_encoder.fit_transform(df['gender']) # Female = 0, Male = 1\n",
        "df.head()"
      ],
      "metadata": {
        "colab": {
          "base_uri": "https://localhost:8080/",
          "height": 206
        },
        "id": "PMmF13uhXOYh",
        "outputId": "b8b30b17-ef15-4d70-ae90-9c2d6068be39"
      },
      "execution_count": 3,
      "outputs": [
        {
          "output_type": "execute_result",
          "data": {
            "text/plain": [
              "   gender   age  hypertension  heart_disease smoking_history    bmi  \\\n",
              "0       0  80.0             0              1           never  25.19   \n",
              "1       0  54.0             0              0         No Info  27.32   \n",
              "2       1  28.0             0              0           never  27.32   \n",
              "3       0  36.0             0              0         current  23.45   \n",
              "4       1  76.0             1              1         current  20.14   \n",
              "\n",
              "   HbA1c_level  blood_glucose_level  diabetes  \n",
              "0          6.6                  140         0  \n",
              "1          6.6                   80         0  \n",
              "2          5.7                  158         0  \n",
              "3          5.0                  155         0  \n",
              "4          4.8                  155         0  "
            ],
            "text/html": [
              "\n",
              "  <div id=\"df-eaf337f3-d5ab-4829-88fa-3a9e3ed941f6\">\n",
              "    <div class=\"colab-df-container\">\n",
              "      <div>\n",
              "<style scoped>\n",
              "    .dataframe tbody tr th:only-of-type {\n",
              "        vertical-align: middle;\n",
              "    }\n",
              "\n",
              "    .dataframe tbody tr th {\n",
              "        vertical-align: top;\n",
              "    }\n",
              "\n",
              "    .dataframe thead th {\n",
              "        text-align: right;\n",
              "    }\n",
              "</style>\n",
              "<table border=\"1\" class=\"dataframe\">\n",
              "  <thead>\n",
              "    <tr style=\"text-align: right;\">\n",
              "      <th></th>\n",
              "      <th>gender</th>\n",
              "      <th>age</th>\n",
              "      <th>hypertension</th>\n",
              "      <th>heart_disease</th>\n",
              "      <th>smoking_history</th>\n",
              "      <th>bmi</th>\n",
              "      <th>HbA1c_level</th>\n",
              "      <th>blood_glucose_level</th>\n",
              "      <th>diabetes</th>\n",
              "    </tr>\n",
              "  </thead>\n",
              "  <tbody>\n",
              "    <tr>\n",
              "      <th>0</th>\n",
              "      <td>0</td>\n",
              "      <td>80.0</td>\n",
              "      <td>0</td>\n",
              "      <td>1</td>\n",
              "      <td>never</td>\n",
              "      <td>25.19</td>\n",
              "      <td>6.6</td>\n",
              "      <td>140</td>\n",
              "      <td>0</td>\n",
              "    </tr>\n",
              "    <tr>\n",
              "      <th>1</th>\n",
              "      <td>0</td>\n",
              "      <td>54.0</td>\n",
              "      <td>0</td>\n",
              "      <td>0</td>\n",
              "      <td>No Info</td>\n",
              "      <td>27.32</td>\n",
              "      <td>6.6</td>\n",
              "      <td>80</td>\n",
              "      <td>0</td>\n",
              "    </tr>\n",
              "    <tr>\n",
              "      <th>2</th>\n",
              "      <td>1</td>\n",
              "      <td>28.0</td>\n",
              "      <td>0</td>\n",
              "      <td>0</td>\n",
              "      <td>never</td>\n",
              "      <td>27.32</td>\n",
              "      <td>5.7</td>\n",
              "      <td>158</td>\n",
              "      <td>0</td>\n",
              "    </tr>\n",
              "    <tr>\n",
              "      <th>3</th>\n",
              "      <td>0</td>\n",
              "      <td>36.0</td>\n",
              "      <td>0</td>\n",
              "      <td>0</td>\n",
              "      <td>current</td>\n",
              "      <td>23.45</td>\n",
              "      <td>5.0</td>\n",
              "      <td>155</td>\n",
              "      <td>0</td>\n",
              "    </tr>\n",
              "    <tr>\n",
              "      <th>4</th>\n",
              "      <td>1</td>\n",
              "      <td>76.0</td>\n",
              "      <td>1</td>\n",
              "      <td>1</td>\n",
              "      <td>current</td>\n",
              "      <td>20.14</td>\n",
              "      <td>4.8</td>\n",
              "      <td>155</td>\n",
              "      <td>0</td>\n",
              "    </tr>\n",
              "  </tbody>\n",
              "</table>\n",
              "</div>\n",
              "      <button class=\"colab-df-convert\" onclick=\"convertToInteractive('df-eaf337f3-d5ab-4829-88fa-3a9e3ed941f6')\"\n",
              "              title=\"Convert this dataframe to an interactive table.\"\n",
              "              style=\"display:none;\">\n",
              "        \n",
              "  <svg xmlns=\"http://www.w3.org/2000/svg\" height=\"24px\"viewBox=\"0 0 24 24\"\n",
              "       width=\"24px\">\n",
              "    <path d=\"M0 0h24v24H0V0z\" fill=\"none\"/>\n",
              "    <path d=\"M18.56 5.44l.94 2.06.94-2.06 2.06-.94-2.06-.94-.94-2.06-.94 2.06-2.06.94zm-11 1L8.5 8.5l.94-2.06 2.06-.94-2.06-.94L8.5 2.5l-.94 2.06-2.06.94zm10 10l.94 2.06.94-2.06 2.06-.94-2.06-.94-.94-2.06-.94 2.06-2.06.94z\"/><path d=\"M17.41 7.96l-1.37-1.37c-.4-.4-.92-.59-1.43-.59-.52 0-1.04.2-1.43.59L10.3 9.45l-7.72 7.72c-.78.78-.78 2.05 0 2.83L4 21.41c.39.39.9.59 1.41.59.51 0 1.02-.2 1.41-.59l7.78-7.78 2.81-2.81c.8-.78.8-2.07 0-2.86zM5.41 20L4 18.59l7.72-7.72 1.47 1.35L5.41 20z\"/>\n",
              "  </svg>\n",
              "      </button>\n",
              "      \n",
              "  <style>\n",
              "    .colab-df-container {\n",
              "      display:flex;\n",
              "      flex-wrap:wrap;\n",
              "      gap: 12px;\n",
              "    }\n",
              "\n",
              "    .colab-df-convert {\n",
              "      background-color: #E8F0FE;\n",
              "      border: none;\n",
              "      border-radius: 50%;\n",
              "      cursor: pointer;\n",
              "      display: none;\n",
              "      fill: #1967D2;\n",
              "      height: 32px;\n",
              "      padding: 0 0 0 0;\n",
              "      width: 32px;\n",
              "    }\n",
              "\n",
              "    .colab-df-convert:hover {\n",
              "      background-color: #E2EBFA;\n",
              "      box-shadow: 0px 1px 2px rgba(60, 64, 67, 0.3), 0px 1px 3px 1px rgba(60, 64, 67, 0.15);\n",
              "      fill: #174EA6;\n",
              "    }\n",
              "\n",
              "    [theme=dark] .colab-df-convert {\n",
              "      background-color: #3B4455;\n",
              "      fill: #D2E3FC;\n",
              "    }\n",
              "\n",
              "    [theme=dark] .colab-df-convert:hover {\n",
              "      background-color: #434B5C;\n",
              "      box-shadow: 0px 1px 3px 1px rgba(0, 0, 0, 0.15);\n",
              "      filter: drop-shadow(0px 1px 2px rgba(0, 0, 0, 0.3));\n",
              "      fill: #FFFFFF;\n",
              "    }\n",
              "  </style>\n",
              "\n",
              "      <script>\n",
              "        const buttonEl =\n",
              "          document.querySelector('#df-eaf337f3-d5ab-4829-88fa-3a9e3ed941f6 button.colab-df-convert');\n",
              "        buttonEl.style.display =\n",
              "          google.colab.kernel.accessAllowed ? 'block' : 'none';\n",
              "\n",
              "        async function convertToInteractive(key) {\n",
              "          const element = document.querySelector('#df-eaf337f3-d5ab-4829-88fa-3a9e3ed941f6');\n",
              "          const dataTable =\n",
              "            await google.colab.kernel.invokeFunction('convertToInteractive',\n",
              "                                                     [key], {});\n",
              "          if (!dataTable) return;\n",
              "\n",
              "          const docLinkHtml = 'Like what you see? Visit the ' +\n",
              "            '<a target=\"_blank\" href=https://colab.research.google.com/notebooks/data_table.ipynb>data table notebook</a>'\n",
              "            + ' to learn more about interactive tables.';\n",
              "          element.innerHTML = '';\n",
              "          dataTable['output_type'] = 'display_data';\n",
              "          await google.colab.output.renderOutput(dataTable, element);\n",
              "          const docLink = document.createElement('div');\n",
              "          docLink.innerHTML = docLinkHtml;\n",
              "          element.appendChild(docLink);\n",
              "        }\n",
              "      </script>\n",
              "    </div>\n",
              "  </div>\n",
              "  "
            ]
          },
          "metadata": {},
          "execution_count": 3
        }
      ]
    },
    {
      "cell_type": "code",
      "source": [
        "# smoking history을 숫자형 데이터로 전환\n",
        "smoking_history_mapping = {'never': 0, 'No Info': -1, 'current': 2, 'former': 1, 'ever': 2, 'not current': 0, 'unknown': 999}\n",
        "df['smoking_history'] = df['smoking_history'].map(smoking_history_mapping)\n",
        "df.head()"
      ],
      "metadata": {
        "colab": {
          "base_uri": "https://localhost:8080/",
          "height": 206
        },
        "id": "RlpzYOhXyIOp",
        "outputId": "d660c510-f384-4956-f74e-f03faa71ea20"
      },
      "execution_count": 4,
      "outputs": [
        {
          "output_type": "execute_result",
          "data": {
            "text/plain": [
              "   gender   age  hypertension  heart_disease  smoking_history    bmi  \\\n",
              "0       0  80.0             0              1                0  25.19   \n",
              "1       0  54.0             0              0               -1  27.32   \n",
              "2       1  28.0             0              0                0  27.32   \n",
              "3       0  36.0             0              0                2  23.45   \n",
              "4       1  76.0             1              1                2  20.14   \n",
              "\n",
              "   HbA1c_level  blood_glucose_level  diabetes  \n",
              "0          6.6                  140         0  \n",
              "1          6.6                   80         0  \n",
              "2          5.7                  158         0  \n",
              "3          5.0                  155         0  \n",
              "4          4.8                  155         0  "
            ],
            "text/html": [
              "\n",
              "  <div id=\"df-9b0193a8-e36b-4738-98af-18d43dcb88d9\">\n",
              "    <div class=\"colab-df-container\">\n",
              "      <div>\n",
              "<style scoped>\n",
              "    .dataframe tbody tr th:only-of-type {\n",
              "        vertical-align: middle;\n",
              "    }\n",
              "\n",
              "    .dataframe tbody tr th {\n",
              "        vertical-align: top;\n",
              "    }\n",
              "\n",
              "    .dataframe thead th {\n",
              "        text-align: right;\n",
              "    }\n",
              "</style>\n",
              "<table border=\"1\" class=\"dataframe\">\n",
              "  <thead>\n",
              "    <tr style=\"text-align: right;\">\n",
              "      <th></th>\n",
              "      <th>gender</th>\n",
              "      <th>age</th>\n",
              "      <th>hypertension</th>\n",
              "      <th>heart_disease</th>\n",
              "      <th>smoking_history</th>\n",
              "      <th>bmi</th>\n",
              "      <th>HbA1c_level</th>\n",
              "      <th>blood_glucose_level</th>\n",
              "      <th>diabetes</th>\n",
              "    </tr>\n",
              "  </thead>\n",
              "  <tbody>\n",
              "    <tr>\n",
              "      <th>0</th>\n",
              "      <td>0</td>\n",
              "      <td>80.0</td>\n",
              "      <td>0</td>\n",
              "      <td>1</td>\n",
              "      <td>0</td>\n",
              "      <td>25.19</td>\n",
              "      <td>6.6</td>\n",
              "      <td>140</td>\n",
              "      <td>0</td>\n",
              "    </tr>\n",
              "    <tr>\n",
              "      <th>1</th>\n",
              "      <td>0</td>\n",
              "      <td>54.0</td>\n",
              "      <td>0</td>\n",
              "      <td>0</td>\n",
              "      <td>-1</td>\n",
              "      <td>27.32</td>\n",
              "      <td>6.6</td>\n",
              "      <td>80</td>\n",
              "      <td>0</td>\n",
              "    </tr>\n",
              "    <tr>\n",
              "      <th>2</th>\n",
              "      <td>1</td>\n",
              "      <td>28.0</td>\n",
              "      <td>0</td>\n",
              "      <td>0</td>\n",
              "      <td>0</td>\n",
              "      <td>27.32</td>\n",
              "      <td>5.7</td>\n",
              "      <td>158</td>\n",
              "      <td>0</td>\n",
              "    </tr>\n",
              "    <tr>\n",
              "      <th>3</th>\n",
              "      <td>0</td>\n",
              "      <td>36.0</td>\n",
              "      <td>0</td>\n",
              "      <td>0</td>\n",
              "      <td>2</td>\n",
              "      <td>23.45</td>\n",
              "      <td>5.0</td>\n",
              "      <td>155</td>\n",
              "      <td>0</td>\n",
              "    </tr>\n",
              "    <tr>\n",
              "      <th>4</th>\n",
              "      <td>1</td>\n",
              "      <td>76.0</td>\n",
              "      <td>1</td>\n",
              "      <td>1</td>\n",
              "      <td>2</td>\n",
              "      <td>20.14</td>\n",
              "      <td>4.8</td>\n",
              "      <td>155</td>\n",
              "      <td>0</td>\n",
              "    </tr>\n",
              "  </tbody>\n",
              "</table>\n",
              "</div>\n",
              "      <button class=\"colab-df-convert\" onclick=\"convertToInteractive('df-9b0193a8-e36b-4738-98af-18d43dcb88d9')\"\n",
              "              title=\"Convert this dataframe to an interactive table.\"\n",
              "              style=\"display:none;\">\n",
              "        \n",
              "  <svg xmlns=\"http://www.w3.org/2000/svg\" height=\"24px\"viewBox=\"0 0 24 24\"\n",
              "       width=\"24px\">\n",
              "    <path d=\"M0 0h24v24H0V0z\" fill=\"none\"/>\n",
              "    <path d=\"M18.56 5.44l.94 2.06.94-2.06 2.06-.94-2.06-.94-.94-2.06-.94 2.06-2.06.94zm-11 1L8.5 8.5l.94-2.06 2.06-.94-2.06-.94L8.5 2.5l-.94 2.06-2.06.94zm10 10l.94 2.06.94-2.06 2.06-.94-2.06-.94-.94-2.06-.94 2.06-2.06.94z\"/><path d=\"M17.41 7.96l-1.37-1.37c-.4-.4-.92-.59-1.43-.59-.52 0-1.04.2-1.43.59L10.3 9.45l-7.72 7.72c-.78.78-.78 2.05 0 2.83L4 21.41c.39.39.9.59 1.41.59.51 0 1.02-.2 1.41-.59l7.78-7.78 2.81-2.81c.8-.78.8-2.07 0-2.86zM5.41 20L4 18.59l7.72-7.72 1.47 1.35L5.41 20z\"/>\n",
              "  </svg>\n",
              "      </button>\n",
              "      \n",
              "  <style>\n",
              "    .colab-df-container {\n",
              "      display:flex;\n",
              "      flex-wrap:wrap;\n",
              "      gap: 12px;\n",
              "    }\n",
              "\n",
              "    .colab-df-convert {\n",
              "      background-color: #E8F0FE;\n",
              "      border: none;\n",
              "      border-radius: 50%;\n",
              "      cursor: pointer;\n",
              "      display: none;\n",
              "      fill: #1967D2;\n",
              "      height: 32px;\n",
              "      padding: 0 0 0 0;\n",
              "      width: 32px;\n",
              "    }\n",
              "\n",
              "    .colab-df-convert:hover {\n",
              "      background-color: #E2EBFA;\n",
              "      box-shadow: 0px 1px 2px rgba(60, 64, 67, 0.3), 0px 1px 3px 1px rgba(60, 64, 67, 0.15);\n",
              "      fill: #174EA6;\n",
              "    }\n",
              "\n",
              "    [theme=dark] .colab-df-convert {\n",
              "      background-color: #3B4455;\n",
              "      fill: #D2E3FC;\n",
              "    }\n",
              "\n",
              "    [theme=dark] .colab-df-convert:hover {\n",
              "      background-color: #434B5C;\n",
              "      box-shadow: 0px 1px 3px 1px rgba(0, 0, 0, 0.15);\n",
              "      filter: drop-shadow(0px 1px 2px rgba(0, 0, 0, 0.3));\n",
              "      fill: #FFFFFF;\n",
              "    }\n",
              "  </style>\n",
              "\n",
              "      <script>\n",
              "        const buttonEl =\n",
              "          document.querySelector('#df-9b0193a8-e36b-4738-98af-18d43dcb88d9 button.colab-df-convert');\n",
              "        buttonEl.style.display =\n",
              "          google.colab.kernel.accessAllowed ? 'block' : 'none';\n",
              "\n",
              "        async function convertToInteractive(key) {\n",
              "          const element = document.querySelector('#df-9b0193a8-e36b-4738-98af-18d43dcb88d9');\n",
              "          const dataTable =\n",
              "            await google.colab.kernel.invokeFunction('convertToInteractive',\n",
              "                                                     [key], {});\n",
              "          if (!dataTable) return;\n",
              "\n",
              "          const docLinkHtml = 'Like what you see? Visit the ' +\n",
              "            '<a target=\"_blank\" href=https://colab.research.google.com/notebooks/data_table.ipynb>data table notebook</a>'\n",
              "            + ' to learn more about interactive tables.';\n",
              "          element.innerHTML = '';\n",
              "          dataTable['output_type'] = 'display_data';\n",
              "          await google.colab.output.renderOutput(dataTable, element);\n",
              "          const docLink = document.createElement('div');\n",
              "          docLink.innerHTML = docLinkHtml;\n",
              "          element.appendChild(docLink);\n",
              "        }\n",
              "      </script>\n",
              "    </div>\n",
              "  </div>\n",
              "  "
            ]
          },
          "metadata": {},
          "execution_count": 4
        }
      ]
    },
    {
      "cell_type": "code",
      "source": [
        "df = df[df['age'].mod(1) == 0] # 'age' 열의 값이 정수인 행들만 선택\n",
        "df # 필터링 되어 94133개의 행만 남았다."
      ],
      "metadata": {
        "colab": {
          "base_uri": "https://localhost:8080/",
          "height": 424
        },
        "id": "mEPbQNz7gnu-",
        "outputId": "b18839b5-0cb5-4f5c-f966-27a79dd7e56c"
      },
      "execution_count": 5,
      "outputs": [
        {
          "output_type": "execute_result",
          "data": {
            "text/plain": [
              "       gender   age  hypertension  heart_disease  smoking_history    bmi  \\\n",
              "0           0  80.0             0              1                0  25.19   \n",
              "1           0  54.0             0              0               -1  27.32   \n",
              "2           1  28.0             0              0                0  27.32   \n",
              "3           0  36.0             0              0                2  23.45   \n",
              "4           1  76.0             1              1                2  20.14   \n",
              "...       ...   ...           ...            ...              ...    ...   \n",
              "99994       0  36.0             0              0               -1  24.60   \n",
              "99996       0   2.0             0              0               -1  17.37   \n",
              "99997       1  66.0             0              0                1  27.83   \n",
              "99998       0  24.0             0              0                0  35.42   \n",
              "99999       0  57.0             0              0                2  22.43   \n",
              "\n",
              "       HbA1c_level  blood_glucose_level  diabetes  \n",
              "0              6.6                  140         0  \n",
              "1              6.6                   80         0  \n",
              "2              5.7                  158         0  \n",
              "3              5.0                  155         0  \n",
              "4              4.8                  155         0  \n",
              "...            ...                  ...       ...  \n",
              "99994          4.8                  145         0  \n",
              "99996          6.5                  100         0  \n",
              "99997          5.7                  155         0  \n",
              "99998          4.0                  100         0  \n",
              "99999          6.6                   90         0  \n",
              "\n",
              "[94133 rows x 9 columns]"
            ],
            "text/html": [
              "\n",
              "  <div id=\"df-b5a9aedc-b6a1-4e8e-923b-dfee9ce6bc3e\">\n",
              "    <div class=\"colab-df-container\">\n",
              "      <div>\n",
              "<style scoped>\n",
              "    .dataframe tbody tr th:only-of-type {\n",
              "        vertical-align: middle;\n",
              "    }\n",
              "\n",
              "    .dataframe tbody tr th {\n",
              "        vertical-align: top;\n",
              "    }\n",
              "\n",
              "    .dataframe thead th {\n",
              "        text-align: right;\n",
              "    }\n",
              "</style>\n",
              "<table border=\"1\" class=\"dataframe\">\n",
              "  <thead>\n",
              "    <tr style=\"text-align: right;\">\n",
              "      <th></th>\n",
              "      <th>gender</th>\n",
              "      <th>age</th>\n",
              "      <th>hypertension</th>\n",
              "      <th>heart_disease</th>\n",
              "      <th>smoking_history</th>\n",
              "      <th>bmi</th>\n",
              "      <th>HbA1c_level</th>\n",
              "      <th>blood_glucose_level</th>\n",
              "      <th>diabetes</th>\n",
              "    </tr>\n",
              "  </thead>\n",
              "  <tbody>\n",
              "    <tr>\n",
              "      <th>0</th>\n",
              "      <td>0</td>\n",
              "      <td>80.0</td>\n",
              "      <td>0</td>\n",
              "      <td>1</td>\n",
              "      <td>0</td>\n",
              "      <td>25.19</td>\n",
              "      <td>6.6</td>\n",
              "      <td>140</td>\n",
              "      <td>0</td>\n",
              "    </tr>\n",
              "    <tr>\n",
              "      <th>1</th>\n",
              "      <td>0</td>\n",
              "      <td>54.0</td>\n",
              "      <td>0</td>\n",
              "      <td>0</td>\n",
              "      <td>-1</td>\n",
              "      <td>27.32</td>\n",
              "      <td>6.6</td>\n",
              "      <td>80</td>\n",
              "      <td>0</td>\n",
              "    </tr>\n",
              "    <tr>\n",
              "      <th>2</th>\n",
              "      <td>1</td>\n",
              "      <td>28.0</td>\n",
              "      <td>0</td>\n",
              "      <td>0</td>\n",
              "      <td>0</td>\n",
              "      <td>27.32</td>\n",
              "      <td>5.7</td>\n",
              "      <td>158</td>\n",
              "      <td>0</td>\n",
              "    </tr>\n",
              "    <tr>\n",
              "      <th>3</th>\n",
              "      <td>0</td>\n",
              "      <td>36.0</td>\n",
              "      <td>0</td>\n",
              "      <td>0</td>\n",
              "      <td>2</td>\n",
              "      <td>23.45</td>\n",
              "      <td>5.0</td>\n",
              "      <td>155</td>\n",
              "      <td>0</td>\n",
              "    </tr>\n",
              "    <tr>\n",
              "      <th>4</th>\n",
              "      <td>1</td>\n",
              "      <td>76.0</td>\n",
              "      <td>1</td>\n",
              "      <td>1</td>\n",
              "      <td>2</td>\n",
              "      <td>20.14</td>\n",
              "      <td>4.8</td>\n",
              "      <td>155</td>\n",
              "      <td>0</td>\n",
              "    </tr>\n",
              "    <tr>\n",
              "      <th>...</th>\n",
              "      <td>...</td>\n",
              "      <td>...</td>\n",
              "      <td>...</td>\n",
              "      <td>...</td>\n",
              "      <td>...</td>\n",
              "      <td>...</td>\n",
              "      <td>...</td>\n",
              "      <td>...</td>\n",
              "      <td>...</td>\n",
              "    </tr>\n",
              "    <tr>\n",
              "      <th>99994</th>\n",
              "      <td>0</td>\n",
              "      <td>36.0</td>\n",
              "      <td>0</td>\n",
              "      <td>0</td>\n",
              "      <td>-1</td>\n",
              "      <td>24.60</td>\n",
              "      <td>4.8</td>\n",
              "      <td>145</td>\n",
              "      <td>0</td>\n",
              "    </tr>\n",
              "    <tr>\n",
              "      <th>99996</th>\n",
              "      <td>0</td>\n",
              "      <td>2.0</td>\n",
              "      <td>0</td>\n",
              "      <td>0</td>\n",
              "      <td>-1</td>\n",
              "      <td>17.37</td>\n",
              "      <td>6.5</td>\n",
              "      <td>100</td>\n",
              "      <td>0</td>\n",
              "    </tr>\n",
              "    <tr>\n",
              "      <th>99997</th>\n",
              "      <td>1</td>\n",
              "      <td>66.0</td>\n",
              "      <td>0</td>\n",
              "      <td>0</td>\n",
              "      <td>1</td>\n",
              "      <td>27.83</td>\n",
              "      <td>5.7</td>\n",
              "      <td>155</td>\n",
              "      <td>0</td>\n",
              "    </tr>\n",
              "    <tr>\n",
              "      <th>99998</th>\n",
              "      <td>0</td>\n",
              "      <td>24.0</td>\n",
              "      <td>0</td>\n",
              "      <td>0</td>\n",
              "      <td>0</td>\n",
              "      <td>35.42</td>\n",
              "      <td>4.0</td>\n",
              "      <td>100</td>\n",
              "      <td>0</td>\n",
              "    </tr>\n",
              "    <tr>\n",
              "      <th>99999</th>\n",
              "      <td>0</td>\n",
              "      <td>57.0</td>\n",
              "      <td>0</td>\n",
              "      <td>0</td>\n",
              "      <td>2</td>\n",
              "      <td>22.43</td>\n",
              "      <td>6.6</td>\n",
              "      <td>90</td>\n",
              "      <td>0</td>\n",
              "    </tr>\n",
              "  </tbody>\n",
              "</table>\n",
              "<p>94133 rows × 9 columns</p>\n",
              "</div>\n",
              "      <button class=\"colab-df-convert\" onclick=\"convertToInteractive('df-b5a9aedc-b6a1-4e8e-923b-dfee9ce6bc3e')\"\n",
              "              title=\"Convert this dataframe to an interactive table.\"\n",
              "              style=\"display:none;\">\n",
              "        \n",
              "  <svg xmlns=\"http://www.w3.org/2000/svg\" height=\"24px\"viewBox=\"0 0 24 24\"\n",
              "       width=\"24px\">\n",
              "    <path d=\"M0 0h24v24H0V0z\" fill=\"none\"/>\n",
              "    <path d=\"M18.56 5.44l.94 2.06.94-2.06 2.06-.94-2.06-.94-.94-2.06-.94 2.06-2.06.94zm-11 1L8.5 8.5l.94-2.06 2.06-.94-2.06-.94L8.5 2.5l-.94 2.06-2.06.94zm10 10l.94 2.06.94-2.06 2.06-.94-2.06-.94-.94-2.06-.94 2.06-2.06.94z\"/><path d=\"M17.41 7.96l-1.37-1.37c-.4-.4-.92-.59-1.43-.59-.52 0-1.04.2-1.43.59L10.3 9.45l-7.72 7.72c-.78.78-.78 2.05 0 2.83L4 21.41c.39.39.9.59 1.41.59.51 0 1.02-.2 1.41-.59l7.78-7.78 2.81-2.81c.8-.78.8-2.07 0-2.86zM5.41 20L4 18.59l7.72-7.72 1.47 1.35L5.41 20z\"/>\n",
              "  </svg>\n",
              "      </button>\n",
              "      \n",
              "  <style>\n",
              "    .colab-df-container {\n",
              "      display:flex;\n",
              "      flex-wrap:wrap;\n",
              "      gap: 12px;\n",
              "    }\n",
              "\n",
              "    .colab-df-convert {\n",
              "      background-color: #E8F0FE;\n",
              "      border: none;\n",
              "      border-radius: 50%;\n",
              "      cursor: pointer;\n",
              "      display: none;\n",
              "      fill: #1967D2;\n",
              "      height: 32px;\n",
              "      padding: 0 0 0 0;\n",
              "      width: 32px;\n",
              "    }\n",
              "\n",
              "    .colab-df-convert:hover {\n",
              "      background-color: #E2EBFA;\n",
              "      box-shadow: 0px 1px 2px rgba(60, 64, 67, 0.3), 0px 1px 3px 1px rgba(60, 64, 67, 0.15);\n",
              "      fill: #174EA6;\n",
              "    }\n",
              "\n",
              "    [theme=dark] .colab-df-convert {\n",
              "      background-color: #3B4455;\n",
              "      fill: #D2E3FC;\n",
              "    }\n",
              "\n",
              "    [theme=dark] .colab-df-convert:hover {\n",
              "      background-color: #434B5C;\n",
              "      box-shadow: 0px 1px 3px 1px rgba(0, 0, 0, 0.15);\n",
              "      filter: drop-shadow(0px 1px 2px rgba(0, 0, 0, 0.3));\n",
              "      fill: #FFFFFF;\n",
              "    }\n",
              "  </style>\n",
              "\n",
              "      <script>\n",
              "        const buttonEl =\n",
              "          document.querySelector('#df-b5a9aedc-b6a1-4e8e-923b-dfee9ce6bc3e button.colab-df-convert');\n",
              "        buttonEl.style.display =\n",
              "          google.colab.kernel.accessAllowed ? 'block' : 'none';\n",
              "\n",
              "        async function convertToInteractive(key) {\n",
              "          const element = document.querySelector('#df-b5a9aedc-b6a1-4e8e-923b-dfee9ce6bc3e');\n",
              "          const dataTable =\n",
              "            await google.colab.kernel.invokeFunction('convertToInteractive',\n",
              "                                                     [key], {});\n",
              "          if (!dataTable) return;\n",
              "\n",
              "          const docLinkHtml = 'Like what you see? Visit the ' +\n",
              "            '<a target=\"_blank\" href=https://colab.research.google.com/notebooks/data_table.ipynb>data table notebook</a>'\n",
              "            + ' to learn more about interactive tables.';\n",
              "          element.innerHTML = '';\n",
              "          dataTable['output_type'] = 'display_data';\n",
              "          await google.colab.output.renderOutput(dataTable, element);\n",
              "          const docLink = document.createElement('div');\n",
              "          docLink.innerHTML = docLinkHtml;\n",
              "          element.appendChild(docLink);\n",
              "        }\n",
              "      </script>\n",
              "    </div>\n",
              "  </div>\n",
              "  "
            ]
          },
          "metadata": {},
          "execution_count": 5
        }
      ]
    },
    {
      "cell_type": "code",
      "source": [
        "df['age'] = df['age'].astype(int) # age열에는 정수만 남았기 때문에 데이터 타입을 int로 변환"
      ],
      "metadata": {
        "colab": {
          "base_uri": "https://localhost:8080/"
        },
        "id": "Ly5Ux6s-g23y",
        "outputId": "32d61ccd-0dd5-4c2d-f29e-d660def49364"
      },
      "execution_count": 6,
      "outputs": [
        {
          "output_type": "stream",
          "name": "stderr",
          "text": [
            "<ipython-input-6-f970472458f0>:1: SettingWithCopyWarning: \n",
            "A value is trying to be set on a copy of a slice from a DataFrame.\n",
            "Try using .loc[row_indexer,col_indexer] = value instead\n",
            "\n",
            "See the caveats in the documentation: https://pandas.pydata.org/pandas-docs/stable/user_guide/indexing.html#returning-a-view-versus-a-copy\n",
            "  df['age'] = df['age'].astype(int) # age열에는 정수만 남았기 때문에 데이터 타입을 int로 변환\n"
          ]
        }
      ]
    },
    {
      "cell_type": "code",
      "source": [
        "X = df.iloc[:,:-1].values # 마지막 열을 제외한 모든 열을 선택\n",
        "y = df.iloc[:,-1].values  # 마지막 열을 선택, 타켓 변수 = diabetes"
      ],
      "metadata": {
        "id": "Qe2Ky8gaiZrF"
      },
      "execution_count": 7,
      "outputs": []
    },
    {
      "cell_type": "code",
      "source": [
        "from sklearn.model_selection import train_test_split # train set과 test set을 나누기 위해 import\n",
        "\n",
        "# 데이터를 train set과 test set으로 분할\n",
        "X_train, X_test, y_train, y_test = train_test_split(X, y, train_size=0.8, random_state=42)\n",
        "\n",
        "# train set에서 validation set을 따로 분할\n",
        "X_train, X_val, y_train, y_val = train_test_split(X_train, y_train, test_size=0.2, random_state=42)\n",
        "X_train, X_val, y_train, y_val = train_test_split(X_train, y_train, test_size=0.2, random_state=42)"
      ],
      "metadata": {
        "id": "r7OG8IRCif9z"
      },
      "execution_count": 8,
      "outputs": []
    },
    {
      "cell_type": "code",
      "source": [
        "# standardization\n",
        "from sklearn import preprocessing\n",
        "stand = preprocessing.StandardScaler()\n",
        "\n",
        "X_train = stand.fit_transform(X_train) # train set의 독립변수\n",
        "X_test = stand.transform(X_test) # test set의 독립변수\n",
        "X_val  = stand.transform(X_val)  # validation의 독립변수"
      ],
      "metadata": {
        "id": "UocOwsJFij8L"
      },
      "execution_count": 9,
      "outputs": []
    },
    {
      "cell_type": "code",
      "source": [
        "X_train"
      ],
      "metadata": {
        "colab": {
          "base_uri": "https://localhost:8080/"
        },
        "id": "8GEcMIhW9SHA",
        "outputId": "3576be01-12dd-4749-ea4d-2216bb41bd42"
      },
      "execution_count": 10,
      "outputs": [
        {
          "output_type": "execute_result",
          "data": {
            "text/plain": [
              "array([[-0.84060846,  1.47575305, -0.29627002, ...,  0.26223806,\n",
              "        -0.50124054,  0.03942913],\n",
              "       [-0.84060846,  0.01311052, -0.29627002, ..., -0.0310244 ,\n",
              "         0.62259817,  0.03942913],\n",
              "       [ 1.18798925, -0.35255011, -0.29627002, ..., -0.0833927 ,\n",
              "        -0.50124054,  0.4777377 ],\n",
              "       ...,\n",
              "       [-0.84060846,  0.24164842, -0.29627002, ...,  1.67917458,\n",
              "         0.52894495, -1.29984706],\n",
              "       [ 1.18798925,  0.74443179, -0.29627002, ...,  0.22183966,\n",
              "         3.05758204,  3.93550531],\n",
              "       [-0.84060846, -0.94674864, -0.29627002, ..., -0.98562366,\n",
              "        -1.43777279,  1.5004577 ]])"
            ]
          },
          "metadata": {},
          "execution_count": 10
        }
      ]
    },
    {
      "cell_type": "code",
      "source": [
        "X_test"
      ],
      "metadata": {
        "colab": {
          "base_uri": "https://localhost:8080/"
        },
        "id": "5wma2G629SLj",
        "outputId": "dce40744-6ba3-4f37-c145-0692f8101dba"
      },
      "execution_count": 11,
      "outputs": [
        {
          "output_type": "execute_result",
          "data": {
            "text/plain": [
              "array([[ 1.18798925,  0.60730905, -0.29627002, ...,  0.37894456,\n",
              "         0.15433204, -0.93458992],\n",
              "       [-0.84060846, -0.1697198 , -0.29627002, ..., -0.97814248,\n",
              "        -0.50124054,  1.5004577 ],\n",
              "       [-0.84060846,  1.1558    , -0.29627002, ..., -0.0310244 ,\n",
              "        -0.68854699,  0.03942913],\n",
              "       ...,\n",
              "       [ 1.18798925, -0.99245622, -0.29627002, ..., -0.41106862,\n",
              "        -0.50124054,  0.50208817],\n",
              "       [-0.84060846, -0.8096259 , -0.29627002, ...,  1.17793516,\n",
              "         0.43529172, -0.93458992],\n",
              "       [ 1.18798925, -1.26670169, -0.29627002, ..., -0.91978923,\n",
              "         0.24798527, -0.20407563]])"
            ]
          },
          "metadata": {},
          "execution_count": 11
        }
      ]
    },
    {
      "cell_type": "code",
      "source": [
        "X_val"
      ],
      "metadata": {
        "colab": {
          "base_uri": "https://localhost:8080/"
        },
        "id": "inG_r9mZ9SPi",
        "outputId": "5e2bf372-b62d-49b4-dce8-e8d483d00280"
      },
      "execution_count": 12,
      "outputs": [
        {
          "output_type": "execute_result",
          "data": {
            "text/plain": [
              "array([[-0.84060846, -0.71821074, -0.29627002, ..., -0.0310244 ,\n",
              "         0.24798527,  0.50208817],\n",
              "       [ 1.18798925, -1.58665475, -0.29627002, ..., -1.80705782,\n",
              "        -0.50124054,  0.50208817],\n",
              "       [-0.84060846,  1.65858337, -0.29627002, ..., -1.06941294,\n",
              "        -0.96950667, -0.30147754],\n",
              "       ...,\n",
              "       [-0.84060846,  0.01311052, -0.29627002, ...,  1.11210073,\n",
              "         0.43529172, -0.93458992],\n",
              "       [-0.84060846,  0.24164842, -0.29627002, ..., -0.31530945,\n",
              "        -0.96950667, -1.29984706],\n",
              "       [-0.84060846,  0.0588181 ,  3.37529938, ..., -0.0310244 ,\n",
              "         0.99721108, -1.17809468]])"
            ]
          },
          "metadata": {},
          "execution_count": 12
        }
      ]
    },
    {
      "cell_type": "code",
      "source": [
        "import tensorflow as tf\n",
        "ann = tf.keras.models.Sequential() # Sequential 모델을 생성. 레이어를 순차적으로 쌓아 구성하는 기본적인 신경망 모델\n",
        "ann.add(tf.keras.layers.Dense(units = 6, activation = 'relu')) # 첫 번째 은닉층을 추가. 뉴런 수는 6개, 'relu'함수를 activation으로 사용.\n",
        "ann.add(tf.keras.layers.Dense(units = 6, activation = 'relu')) # 두 번째 은닉층을 추가. 뉴런 수는 6개, 'relu'함수를 activation으로 사용.\n",
        "ann.add(tf.keras.layers.Dense(units = 1, activation = 'sigmoid')) # 출력층을 추가. 뉴런 수는 1개, 'sigmoid'함수를 activation으로 사용."
      ],
      "metadata": {
        "id": "M3Dxa7SjiwJs"
      },
      "execution_count": 13,
      "outputs": []
    },
    {
      "cell_type": "code",
      "source": [
        "# 컴파일 및 훈련\n",
        "ann.compile(optimizer = 'adam', loss = 'binary_crossentropy', metrics = ['accuracy'])\n",
        "ann.fit(X_train, y_train, batch_size=32, epochs = 30, validation_data = (X_val, y_val))"
      ],
      "metadata": {
        "colab": {
          "base_uri": "https://localhost:8080/"
        },
        "id": "dE7uAJdfjFXO",
        "outputId": "62e38ed6-50be-41bd-a1f0-8eb80e67d536"
      },
      "execution_count": 41,
      "outputs": [
        {
          "output_type": "stream",
          "name": "stdout",
          "text": [
            "Epoch 1/30\n",
            "1507/1507 [==============================] - 5s 2ms/step - loss: 0.1193 - accuracy: 0.9581 - val_loss: 0.1171 - val_accuracy: 0.9581\n",
            "Epoch 2/30\n",
            "1507/1507 [==============================] - 4s 3ms/step - loss: 0.1192 - accuracy: 0.9586 - val_loss: 0.1169 - val_accuracy: 0.9585\n",
            "Epoch 3/30\n",
            "1507/1507 [==============================] - 6s 4ms/step - loss: 0.1191 - accuracy: 0.9586 - val_loss: 0.1168 - val_accuracy: 0.9583\n",
            "Epoch 4/30\n",
            "1507/1507 [==============================] - 3s 2ms/step - loss: 0.1191 - accuracy: 0.9584 - val_loss: 0.1169 - val_accuracy: 0.9589\n",
            "Epoch 5/30\n",
            "1507/1507 [==============================] - 3s 2ms/step - loss: 0.1190 - accuracy: 0.9585 - val_loss: 0.1169 - val_accuracy: 0.9574\n",
            "Epoch 6/30\n",
            "1507/1507 [==============================] - 7s 5ms/step - loss: 0.1190 - accuracy: 0.9579 - val_loss: 0.1171 - val_accuracy: 0.9589\n",
            "Epoch 7/30\n",
            "1507/1507 [==============================] - 5s 3ms/step - loss: 0.1189 - accuracy: 0.9584 - val_loss: 0.1167 - val_accuracy: 0.9586\n",
            "Epoch 8/30\n",
            "1507/1507 [==============================] - 5s 3ms/step - loss: 0.1188 - accuracy: 0.9581 - val_loss: 0.1167 - val_accuracy: 0.9573\n",
            "Epoch 9/30\n",
            "1507/1507 [==============================] - 3s 2ms/step - loss: 0.1187 - accuracy: 0.9582 - val_loss: 0.1167 - val_accuracy: 0.9582\n",
            "Epoch 10/30\n",
            "1507/1507 [==============================] - 3s 2ms/step - loss: 0.1187 - accuracy: 0.9583 - val_loss: 0.1164 - val_accuracy: 0.9575\n",
            "Epoch 11/30\n",
            "1507/1507 [==============================] - 6s 4ms/step - loss: 0.1185 - accuracy: 0.9580 - val_loss: 0.1166 - val_accuracy: 0.9576\n",
            "Epoch 12/30\n",
            "1507/1507 [==============================] - 6s 4ms/step - loss: 0.1185 - accuracy: 0.9579 - val_loss: 0.1167 - val_accuracy: 0.9579\n",
            "Epoch 13/30\n",
            "1507/1507 [==============================] - 6s 4ms/step - loss: 0.1184 - accuracy: 0.9582 - val_loss: 0.1164 - val_accuracy: 0.9588\n",
            "Epoch 14/30\n",
            "1507/1507 [==============================] - 7s 5ms/step - loss: 0.1183 - accuracy: 0.9584 - val_loss: 0.1165 - val_accuracy: 0.9568\n",
            "Epoch 15/30\n",
            "1507/1507 [==============================] - 9s 6ms/step - loss: 0.1182 - accuracy: 0.9581 - val_loss: 0.1176 - val_accuracy: 0.9582\n",
            "Epoch 16/30\n",
            "1507/1507 [==============================] - 6s 4ms/step - loss: 0.1182 - accuracy: 0.9580 - val_loss: 0.1169 - val_accuracy: 0.9580\n",
            "Epoch 17/30\n",
            "1507/1507 [==============================] - 6s 4ms/step - loss: 0.1182 - accuracy: 0.9579 - val_loss: 0.1162 - val_accuracy: 0.9574\n",
            "Epoch 18/30\n",
            "1507/1507 [==============================] - 3s 2ms/step - loss: 0.1183 - accuracy: 0.9582 - val_loss: 0.1160 - val_accuracy: 0.9571\n",
            "Epoch 19/30\n",
            "1507/1507 [==============================] - 4s 3ms/step - loss: 0.1181 - accuracy: 0.9579 - val_loss: 0.1158 - val_accuracy: 0.9578\n",
            "Epoch 20/30\n",
            "1507/1507 [==============================] - 3s 2ms/step - loss: 0.1181 - accuracy: 0.9581 - val_loss: 0.1158 - val_accuracy: 0.9573\n",
            "Epoch 21/30\n",
            "1507/1507 [==============================] - 4s 3ms/step - loss: 0.1181 - accuracy: 0.9582 - val_loss: 0.1163 - val_accuracy: 0.9586\n",
            "Epoch 22/30\n",
            "1507/1507 [==============================] - 3s 2ms/step - loss: 0.1182 - accuracy: 0.9582 - val_loss: 0.1160 - val_accuracy: 0.9578\n",
            "Epoch 23/30\n",
            "1507/1507 [==============================] - 4s 3ms/step - loss: 0.1180 - accuracy: 0.9580 - val_loss: 0.1158 - val_accuracy: 0.9573\n",
            "Epoch 24/30\n",
            "1507/1507 [==============================] - 4s 3ms/step - loss: 0.1178 - accuracy: 0.9583 - val_loss: 0.1161 - val_accuracy: 0.9582\n",
            "Epoch 25/30\n",
            "1507/1507 [==============================] - 4s 3ms/step - loss: 0.1179 - accuracy: 0.9580 - val_loss: 0.1155 - val_accuracy: 0.9573\n",
            "Epoch 26/30\n",
            "1507/1507 [==============================] - 4s 3ms/step - loss: 0.1177 - accuracy: 0.9579 - val_loss: 0.1157 - val_accuracy: 0.9574\n",
            "Epoch 27/30\n",
            "1507/1507 [==============================] - 5s 4ms/step - loss: 0.1176 - accuracy: 0.9580 - val_loss: 0.1155 - val_accuracy: 0.9579\n",
            "Epoch 28/30\n",
            "1507/1507 [==============================] - 3s 2ms/step - loss: 0.1177 - accuracy: 0.9580 - val_loss: 0.1154 - val_accuracy: 0.9581\n",
            "Epoch 29/30\n",
            "1507/1507 [==============================] - 3s 2ms/step - loss: 0.1175 - accuracy: 0.9579 - val_loss: 0.1152 - val_accuracy: 0.9577\n",
            "Epoch 30/30\n",
            "1507/1507 [==============================] - 3s 2ms/step - loss: 0.1174 - accuracy: 0.9581 - val_loss: 0.1152 - val_accuracy: 0.9578\n"
          ]
        },
        {
          "output_type": "execute_result",
          "data": {
            "text/plain": [
              "<keras.callbacks.History at 0x7fa1ae76af20>"
            ]
          },
          "metadata": {},
          "execution_count": 41
        }
      ]
    },
    {
      "cell_type": "code",
      "source": [
        "# 기본 신경망 정확도\n",
        "ann.evaluate(X_test, y_test)"
      ],
      "metadata": {
        "colab": {
          "base_uri": "https://localhost:8080/"
        },
        "id": "Yaa9cL4LDdyL",
        "outputId": "4eb2f772-ea47-49f5-be4a-2bebf3490dea"
      },
      "execution_count": 42,
      "outputs": [
        {
          "output_type": "stream",
          "name": "stdout",
          "text": [
            "589/589 [==============================] - 1s 1ms/step - loss: 0.1134 - accuracy: 0.9596\n"
          ]
        },
        {
          "output_type": "execute_result",
          "data": {
            "text/plain": [
              "[0.11339639872312546, 0.9596324563026428]"
            ]
          },
          "metadata": {},
          "execution_count": 42
        }
      ]
    },
    {
      "cell_type": "markdown",
      "source": [
        "**He initialization**"
      ],
      "metadata": {
        "id": "6qiRoNML_bxS"
      }
    },
    {
      "cell_type": "code",
      "source": [
        "# He initialization\n",
        "# 뉴런의 개수나 Epoch, 함수 종류도 똑같이 맞췄다.\n",
        "H_model = tf.keras.Sequential([\n",
        "    tf.keras.layers.Dense(units=6, activation='relu', kernel_initializer='he_normal'),\n",
        "    tf.keras.layers.Dense(units=6, activation='relu', kernel_initializer='he_normal'),\n",
        "    tf.keras.layers.Dense(units=1, activation='sigmoid', kernel_initializer='he_normal')\n",
        "])\n",
        "\n",
        "# 컴파일 및 훈련\n",
        "H_model.compile(optimizer='adam', loss='binary_crossentropy', metrics=['accuracy'])\n",
        "H_model.fit(X_train, y_train, batch_size=32, epochs=30, validation_data = (X_val, y_val))\n"
      ],
      "metadata": {
        "colab": {
          "base_uri": "https://localhost:8080/"
        },
        "id": "eAceVDTa_nOn",
        "outputId": "af2dba41-6894-450a-ab45-2d90636dbd5a"
      },
      "execution_count": 43,
      "outputs": [
        {
          "output_type": "stream",
          "name": "stdout",
          "text": [
            "Epoch 1/30\n",
            "1507/1507 [==============================] - 4s 2ms/step - loss: 0.2227 - accuracy: 0.9300 - val_loss: 0.1381 - val_accuracy: 0.9482\n",
            "Epoch 2/30\n",
            "1507/1507 [==============================] - 5s 3ms/step - loss: 0.1317 - accuracy: 0.9526 - val_loss: 0.1246 - val_accuracy: 0.9553\n",
            "Epoch 3/30\n",
            "1507/1507 [==============================] - 5s 3ms/step - loss: 0.1241 - accuracy: 0.9571 - val_loss: 0.1197 - val_accuracy: 0.9578\n",
            "Epoch 4/30\n",
            "1507/1507 [==============================] - 7s 5ms/step - loss: 0.1212 - accuracy: 0.9579 - val_loss: 0.1176 - val_accuracy: 0.9589\n",
            "Epoch 5/30\n",
            "1507/1507 [==============================] - 5s 3ms/step - loss: 0.1197 - accuracy: 0.9580 - val_loss: 0.1163 - val_accuracy: 0.9588\n",
            "Epoch 6/30\n",
            "1507/1507 [==============================] - 4s 2ms/step - loss: 0.1187 - accuracy: 0.9586 - val_loss: 0.1155 - val_accuracy: 0.9586\n",
            "Epoch 7/30\n",
            "1507/1507 [==============================] - 4s 3ms/step - loss: 0.1174 - accuracy: 0.9588 - val_loss: 0.1147 - val_accuracy: 0.9593\n",
            "Epoch 8/30\n",
            "1507/1507 [==============================] - 3s 2ms/step - loss: 0.1157 - accuracy: 0.9595 - val_loss: 0.1139 - val_accuracy: 0.9596\n",
            "Epoch 9/30\n",
            "1507/1507 [==============================] - 3s 2ms/step - loss: 0.1133 - accuracy: 0.9602 - val_loss: 0.1096 - val_accuracy: 0.9613\n",
            "Epoch 10/30\n",
            "1507/1507 [==============================] - 3s 2ms/step - loss: 0.1096 - accuracy: 0.9623 - val_loss: 0.1060 - val_accuracy: 0.9628\n",
            "Epoch 11/30\n",
            "1507/1507 [==============================] - 4s 3ms/step - loss: 0.1064 - accuracy: 0.9634 - val_loss: 0.1033 - val_accuracy: 0.9640\n",
            "Epoch 12/30\n",
            "1507/1507 [==============================] - 3s 2ms/step - loss: 0.1034 - accuracy: 0.9643 - val_loss: 0.1008 - val_accuracy: 0.9648\n",
            "Epoch 13/30\n",
            "1507/1507 [==============================] - 3s 2ms/step - loss: 0.1013 - accuracy: 0.9653 - val_loss: 0.0985 - val_accuracy: 0.9654\n",
            "Epoch 14/30\n",
            "1507/1507 [==============================] - 4s 2ms/step - loss: 0.0989 - accuracy: 0.9664 - val_loss: 0.0966 - val_accuracy: 0.9658\n",
            "Epoch 15/30\n",
            "1507/1507 [==============================] - 3s 2ms/step - loss: 0.0965 - accuracy: 0.9672 - val_loss: 0.0945 - val_accuracy: 0.9676\n",
            "Epoch 16/30\n",
            "1507/1507 [==============================] - 3s 2ms/step - loss: 0.0948 - accuracy: 0.9678 - val_loss: 0.0922 - val_accuracy: 0.9682\n",
            "Epoch 17/30\n",
            "1507/1507 [==============================] - 3s 2ms/step - loss: 0.0931 - accuracy: 0.9684 - val_loss: 0.0910 - val_accuracy: 0.9687\n",
            "Epoch 18/30\n",
            "1507/1507 [==============================] - 4s 2ms/step - loss: 0.0919 - accuracy: 0.9687 - val_loss: 0.0908 - val_accuracy: 0.9681\n",
            "Epoch 19/30\n",
            "1507/1507 [==============================] - 3s 2ms/step - loss: 0.0910 - accuracy: 0.9692 - val_loss: 0.0890 - val_accuracy: 0.9694\n",
            "Epoch 20/30\n",
            "1507/1507 [==============================] - 3s 2ms/step - loss: 0.0904 - accuracy: 0.9693 - val_loss: 0.0885 - val_accuracy: 0.9696\n",
            "Epoch 21/30\n",
            "1507/1507 [==============================] - 3s 2ms/step - loss: 0.0899 - accuracy: 0.9694 - val_loss: 0.0879 - val_accuracy: 0.9696\n",
            "Epoch 22/30\n",
            "1507/1507 [==============================] - 4s 3ms/step - loss: 0.0893 - accuracy: 0.9697 - val_loss: 0.0885 - val_accuracy: 0.9695\n",
            "Epoch 23/30\n",
            "1507/1507 [==============================] - 3s 2ms/step - loss: 0.0891 - accuracy: 0.9697 - val_loss: 0.0878 - val_accuracy: 0.9695\n",
            "Epoch 24/30\n",
            "1507/1507 [==============================] - 3s 2ms/step - loss: 0.0890 - accuracy: 0.9696 - val_loss: 0.0873 - val_accuracy: 0.9696\n",
            "Epoch 25/30\n",
            "1507/1507 [==============================] - 3s 2ms/step - loss: 0.0887 - accuracy: 0.9697 - val_loss: 0.0877 - val_accuracy: 0.9696\n",
            "Epoch 26/30\n",
            "1507/1507 [==============================] - 5s 3ms/step - loss: 0.0886 - accuracy: 0.9697 - val_loss: 0.0872 - val_accuracy: 0.9698\n",
            "Epoch 27/30\n",
            "1507/1507 [==============================] - 3s 2ms/step - loss: 0.0886 - accuracy: 0.9698 - val_loss: 0.0872 - val_accuracy: 0.9697\n",
            "Epoch 28/30\n",
            "1507/1507 [==============================] - 3s 2ms/step - loss: 0.0883 - accuracy: 0.9698 - val_loss: 0.0872 - val_accuracy: 0.9698\n",
            "Epoch 29/30\n",
            "1507/1507 [==============================] - 4s 2ms/step - loss: 0.0886 - accuracy: 0.9697 - val_loss: 0.0872 - val_accuracy: 0.9698\n",
            "Epoch 30/30\n",
            "1507/1507 [==============================] - 4s 2ms/step - loss: 0.0880 - accuracy: 0.9699 - val_loss: 0.0881 - val_accuracy: 0.9690\n"
          ]
        },
        {
          "output_type": "execute_result",
          "data": {
            "text/plain": [
              "<keras.callbacks.History at 0x7fa1b3e0ca30>"
            ]
          },
          "metadata": {},
          "execution_count": 43
        }
      ]
    },
    {
      "cell_type": "code",
      "source": [
        "# H_model의 정확도\n",
        "H_model.evaluate(X_test, y_test)"
      ],
      "metadata": {
        "colab": {
          "base_uri": "https://localhost:8080/"
        },
        "id": "SBh7VONcCrQ2",
        "outputId": "9dbc22a7-7d92-4533-af6b-130be49f9487"
      },
      "execution_count": 44,
      "outputs": [
        {
          "output_type": "stream",
          "name": "stdout",
          "text": [
            "589/589 [==============================] - 1s 1ms/step - loss: 0.0864 - accuracy: 0.9694\n"
          ]
        },
        {
          "output_type": "execute_result",
          "data": {
            "text/plain": [
              "[0.08635757863521576, 0.9693525433540344]"
            ]
          },
          "metadata": {},
          "execution_count": 44
        }
      ]
    },
    {
      "cell_type": "markdown",
      "source": [
        "**Xavier initialization**"
      ],
      "metadata": {
        "id": "MdoRmgJf_jSD"
      }
    },
    {
      "cell_type": "code",
      "source": [
        "# Xavier initialization\n",
        "# 마찬가지로 parameter값을 맞췄다.\n",
        "X_model = tf.keras.Sequential([\n",
        "    tf.keras.layers.Dense(units=6, activation='relu', kernel_initializer='glorot_uniform'),\n",
        "    tf.keras.layers.Dense(units=6, activation='relu', kernel_initializer='glorot_uniform'),\n",
        "    tf.keras.layers.Dense(units=1, activation='sigmoid', kernel_initializer='glorot_uniform')\n",
        "])\n",
        "\n",
        "# 컴파일 및 훈련\n",
        "X_model.compile(optimizer='adam', loss='binary_crossentropy', metrics=['accuracy'])\n",
        "X_model.fit(X_train, y_train, batch_size=32, epochs=30, validation_data = (X_val, y_val))"
      ],
      "metadata": {
        "colab": {
          "base_uri": "https://localhost:8080/"
        },
        "id": "WSD7QOnL_n7_",
        "outputId": "4e9cd75d-906a-42fa-fb02-68e6951755f9"
      },
      "execution_count": 45,
      "outputs": [
        {
          "output_type": "stream",
          "name": "stdout",
          "text": [
            "Epoch 1/30\n",
            "1507/1507 [==============================] - 5s 3ms/step - loss: 0.2374 - accuracy: 0.9066 - val_loss: 0.1641 - val_accuracy: 0.9100\n",
            "Epoch 2/30\n",
            "1507/1507 [==============================] - 3s 2ms/step - loss: 0.1514 - accuracy: 0.9411 - val_loss: 0.1408 - val_accuracy: 0.9557\n",
            "Epoch 3/30\n",
            "1507/1507 [==============================] - 3s 2ms/step - loss: 0.1381 - accuracy: 0.9563 - val_loss: 0.1315 - val_accuracy: 0.9577\n",
            "Epoch 4/30\n",
            "1507/1507 [==============================] - 3s 2ms/step - loss: 0.1313 - accuracy: 0.9576 - val_loss: 0.1269 - val_accuracy: 0.9574\n",
            "Epoch 5/30\n",
            "1507/1507 [==============================] - 4s 3ms/step - loss: 0.1274 - accuracy: 0.9581 - val_loss: 0.1241 - val_accuracy: 0.9580\n",
            "Epoch 6/30\n",
            "1507/1507 [==============================] - 3s 2ms/step - loss: 0.1252 - accuracy: 0.9578 - val_loss: 0.1227 - val_accuracy: 0.9573\n",
            "Epoch 7/30\n",
            "1507/1507 [==============================] - 3s 2ms/step - loss: 0.1237 - accuracy: 0.9585 - val_loss: 0.1212 - val_accuracy: 0.9580\n",
            "Epoch 8/30\n",
            "1507/1507 [==============================] - 4s 2ms/step - loss: 0.1230 - accuracy: 0.9581 - val_loss: 0.1204 - val_accuracy: 0.9573\n",
            "Epoch 9/30\n",
            "1507/1507 [==============================] - 3s 2ms/step - loss: 0.1223 - accuracy: 0.9588 - val_loss: 0.1197 - val_accuracy: 0.9578\n",
            "Epoch 10/30\n",
            "1507/1507 [==============================] - 3s 2ms/step - loss: 0.1217 - accuracy: 0.9585 - val_loss: 0.1194 - val_accuracy: 0.9585\n",
            "Epoch 11/30\n",
            "1507/1507 [==============================] - 3s 2ms/step - loss: 0.1214 - accuracy: 0.9584 - val_loss: 0.1188 - val_accuracy: 0.9584\n",
            "Epoch 12/30\n",
            "1507/1507 [==============================] - 4s 3ms/step - loss: 0.1213 - accuracy: 0.9588 - val_loss: 0.1190 - val_accuracy: 0.9581\n",
            "Epoch 13/30\n",
            "1507/1507 [==============================] - 3s 2ms/step - loss: 0.1210 - accuracy: 0.9580 - val_loss: 0.1186 - val_accuracy: 0.9585\n",
            "Epoch 14/30\n",
            "1507/1507 [==============================] - 3s 2ms/step - loss: 0.1207 - accuracy: 0.9585 - val_loss: 0.1196 - val_accuracy: 0.9584\n",
            "Epoch 15/30\n",
            "1507/1507 [==============================] - 3s 2ms/step - loss: 0.1206 - accuracy: 0.9588 - val_loss: 0.1186 - val_accuracy: 0.9580\n",
            "Epoch 16/30\n",
            "1507/1507 [==============================] - 4s 3ms/step - loss: 0.1205 - accuracy: 0.9584 - val_loss: 0.1194 - val_accuracy: 0.9583\n",
            "Epoch 17/30\n",
            "1507/1507 [==============================] - 3s 2ms/step - loss: 0.1204 - accuracy: 0.9584 - val_loss: 0.1181 - val_accuracy: 0.9581\n",
            "Epoch 18/30\n",
            "1507/1507 [==============================] - 3s 2ms/step - loss: 0.1202 - accuracy: 0.9590 - val_loss: 0.1184 - val_accuracy: 0.9572\n",
            "Epoch 19/30\n",
            "1507/1507 [==============================] - 3s 2ms/step - loss: 0.1201 - accuracy: 0.9585 - val_loss: 0.1191 - val_accuracy: 0.9581\n",
            "Epoch 20/30\n",
            "1507/1507 [==============================] - 4s 3ms/step - loss: 0.1202 - accuracy: 0.9583 - val_loss: 0.1179 - val_accuracy: 0.9582\n",
            "Epoch 21/30\n",
            "1507/1507 [==============================] - 3s 2ms/step - loss: 0.1201 - accuracy: 0.9585 - val_loss: 0.1181 - val_accuracy: 0.9570\n",
            "Epoch 22/30\n",
            "1507/1507 [==============================] - 3s 2ms/step - loss: 0.1199 - accuracy: 0.9583 - val_loss: 0.1177 - val_accuracy: 0.9581\n",
            "Epoch 23/30\n",
            "1507/1507 [==============================] - 4s 3ms/step - loss: 0.1198 - accuracy: 0.9582 - val_loss: 0.1177 - val_accuracy: 0.9578\n",
            "Epoch 24/30\n",
            "1507/1507 [==============================] - 3s 2ms/step - loss: 0.1199 - accuracy: 0.9584 - val_loss: 0.1180 - val_accuracy: 0.9583\n",
            "Epoch 25/30\n",
            "1507/1507 [==============================] - 3s 2ms/step - loss: 0.1197 - accuracy: 0.9585 - val_loss: 0.1179 - val_accuracy: 0.9580\n",
            "Epoch 26/30\n",
            "1507/1507 [==============================] - 3s 2ms/step - loss: 0.1198 - accuracy: 0.9584 - val_loss: 0.1174 - val_accuracy: 0.9570\n",
            "Epoch 27/30\n",
            "1507/1507 [==============================] - 4s 3ms/step - loss: 0.1196 - accuracy: 0.9584 - val_loss: 0.1194 - val_accuracy: 0.9585\n",
            "Epoch 28/30\n",
            "1507/1507 [==============================] - 3s 2ms/step - loss: 0.1196 - accuracy: 0.9583 - val_loss: 0.1172 - val_accuracy: 0.9579\n",
            "Epoch 29/30\n",
            "1507/1507 [==============================] - 3s 2ms/step - loss: 0.1196 - accuracy: 0.9589 - val_loss: 0.1175 - val_accuracy: 0.9578\n",
            "Epoch 30/30\n",
            "1507/1507 [==============================] - 3s 2ms/step - loss: 0.1196 - accuracy: 0.9584 - val_loss: 0.1174 - val_accuracy: 0.9589\n"
          ]
        },
        {
          "output_type": "execute_result",
          "data": {
            "text/plain": [
              "<keras.callbacks.History at 0x7fa1af25fcd0>"
            ]
          },
          "metadata": {},
          "execution_count": 45
        }
      ]
    },
    {
      "cell_type": "code",
      "source": [
        "# X_model의 정확도\n",
        "X_model.evaluate(X_test, y_test)"
      ],
      "metadata": {
        "colab": {
          "base_uri": "https://localhost:8080/"
        },
        "id": "EduJIBI_Etxx",
        "outputId": "43ac2c52-cd11-460f-a813-1ff21c3fb2c2"
      },
      "execution_count": 46,
      "outputs": [
        {
          "output_type": "stream",
          "name": "stdout",
          "text": [
            "589/589 [==============================] - 1s 1ms/step - loss: 0.1165 - accuracy: 0.9595\n"
          ]
        },
        {
          "output_type": "execute_result",
          "data": {
            "text/plain": [
              "[0.1164611354470253, 0.9594730734825134]"
            ]
          },
          "metadata": {},
          "execution_count": 46
        }
      ]
    },
    {
      "cell_type": "markdown",
      "source": [
        "**Batch normalization**"
      ],
      "metadata": {
        "id": "_v-rmP12Kd4A"
      }
    },
    {
      "cell_type": "code",
      "source": [
        "#Batch normalization\n",
        "B_model = tf.keras.Sequential([\n",
        "    tf.keras.layers.Dense(units=6, activation='relu'),\n",
        "    tf.keras.layers.BatchNormalization(),\n",
        "    tf.keras.layers.Dense(units=6, activation='relu'),\n",
        "    tf.keras.layers.BatchNormalization(),\n",
        "    tf.keras.layers.Dense(units=1, activation='sigmoid')\n",
        "])\n",
        "\n",
        "# 컴파일 및 훈련\n",
        "B_model.compile(optimizer='adam', loss='binary_crossentropy', metrics=['accuracy'])\n",
        "B_model.fit(X_train, y_train, batch_size=32, epochs=30)"
      ],
      "metadata": {
        "colab": {
          "base_uri": "https://localhost:8080/"
        },
        "id": "N4p1PBCiKb1T",
        "outputId": "2ddfe9be-b163-4231-8265-0ce5225497e7"
      },
      "execution_count": 39,
      "outputs": [
        {
          "output_type": "stream",
          "name": "stdout",
          "text": [
            "Epoch 1/30\n",
            "1507/1507 [==============================] - 6s 3ms/step - loss: 0.2720 - accuracy: 0.9030\n",
            "Epoch 2/30\n",
            "1507/1507 [==============================] - 3s 2ms/step - loss: 0.1421 - accuracy: 0.9480\n",
            "Epoch 3/30\n",
            "1507/1507 [==============================] - 3s 2ms/step - loss: 0.1380 - accuracy: 0.9497\n",
            "Epoch 4/30\n",
            "1507/1507 [==============================] - 3s 2ms/step - loss: 0.1353 - accuracy: 0.9504\n",
            "Epoch 5/30\n",
            "1507/1507 [==============================] - 4s 2ms/step - loss: 0.1304 - accuracy: 0.9528\n",
            "Epoch 6/30\n",
            "1507/1507 [==============================] - 3s 2ms/step - loss: 0.1260 - accuracy: 0.9556\n",
            "Epoch 7/30\n",
            "1507/1507 [==============================] - 3s 2ms/step - loss: 0.1229 - accuracy: 0.9562\n",
            "Epoch 8/30\n",
            "1507/1507 [==============================] - 4s 2ms/step - loss: 0.1221 - accuracy: 0.9568\n",
            "Epoch 9/30\n",
            "1507/1507 [==============================] - 3s 2ms/step - loss: 0.1186 - accuracy: 0.9582\n",
            "Epoch 10/30\n",
            "1507/1507 [==============================] - 3s 2ms/step - loss: 0.1167 - accuracy: 0.9582\n",
            "Epoch 11/30\n",
            "1507/1507 [==============================] - 3s 2ms/step - loss: 0.1187 - accuracy: 0.9581\n",
            "Epoch 12/30\n",
            "1507/1507 [==============================] - 4s 3ms/step - loss: 0.1163 - accuracy: 0.9579\n",
            "Epoch 13/30\n",
            "1507/1507 [==============================] - 3s 2ms/step - loss: 0.1150 - accuracy: 0.9596\n",
            "Epoch 14/30\n",
            "1507/1507 [==============================] - 3s 2ms/step - loss: 0.1145 - accuracy: 0.9592\n",
            "Epoch 15/30\n",
            "1507/1507 [==============================] - 3s 2ms/step - loss: 0.1146 - accuracy: 0.9598\n",
            "Epoch 16/30\n",
            "1507/1507 [==============================] - 4s 3ms/step - loss: 0.1140 - accuracy: 0.9599\n",
            "Epoch 17/30\n",
            "1507/1507 [==============================] - 3s 2ms/step - loss: 0.1132 - accuracy: 0.9603\n",
            "Epoch 18/30\n",
            "1507/1507 [==============================] - 3s 2ms/step - loss: 0.1155 - accuracy: 0.9586\n",
            "Epoch 19/30\n",
            "1507/1507 [==============================] - 3s 2ms/step - loss: 0.1141 - accuracy: 0.9597\n",
            "Epoch 20/30\n",
            "1507/1507 [==============================] - 4s 3ms/step - loss: 0.1147 - accuracy: 0.9594\n",
            "Epoch 21/30\n",
            "1507/1507 [==============================] - 3s 2ms/step - loss: 0.1136 - accuracy: 0.9592\n",
            "Epoch 22/30\n",
            "1507/1507 [==============================] - 3s 2ms/step - loss: 0.1135 - accuracy: 0.9594\n",
            "Epoch 23/30\n",
            "1507/1507 [==============================] - 3s 2ms/step - loss: 0.1123 - accuracy: 0.9603\n",
            "Epoch 24/30\n",
            "1507/1507 [==============================] - 4s 3ms/step - loss: 0.1110 - accuracy: 0.9610\n",
            "Epoch 25/30\n",
            "1507/1507 [==============================] - 3s 2ms/step - loss: 0.1116 - accuracy: 0.9608\n",
            "Epoch 26/30\n",
            "1507/1507 [==============================] - 3s 2ms/step - loss: 0.1122 - accuracy: 0.9603\n",
            "Epoch 27/30\n",
            "1507/1507 [==============================] - 4s 3ms/step - loss: 0.1113 - accuracy: 0.9601\n",
            "Epoch 28/30\n",
            "1507/1507 [==============================] - 3s 2ms/step - loss: 0.1119 - accuracy: 0.9601\n",
            "Epoch 29/30\n",
            "1507/1507 [==============================] - 3s 2ms/step - loss: 0.1108 - accuracy: 0.9612\n",
            "Epoch 30/30\n",
            "1507/1507 [==============================] - 3s 2ms/step - loss: 0.1106 - accuracy: 0.9613\n"
          ]
        },
        {
          "output_type": "execute_result",
          "data": {
            "text/plain": [
              "<keras.callbacks.History at 0x7fa1c0461bd0>"
            ]
          },
          "metadata": {},
          "execution_count": 39
        }
      ]
    },
    {
      "cell_type": "code",
      "source": [
        "# B_model의 정확도\n",
        "B_model.evaluate(X_test, y_test)"
      ],
      "metadata": {
        "colab": {
          "base_uri": "https://localhost:8080/"
        },
        "id": "2JKkukTCK5oc",
        "outputId": "1599ed81-8b8c-46b5-8b67-1e4de451e348"
      },
      "execution_count": 40,
      "outputs": [
        {
          "output_type": "stream",
          "name": "stdout",
          "text": [
            "589/589 [==============================] - 1s 1ms/step - loss: 0.0959 - accuracy: 0.9655\n"
          ]
        },
        {
          "output_type": "execute_result",
          "data": {
            "text/plain": [
              "[0.09593004733324051, 0.9655282497406006]"
            ]
          },
          "metadata": {},
          "execution_count": 40
        }
      ]
    },
    {
      "cell_type": "markdown",
      "source": [
        "**L1 regularity**"
      ],
      "metadata": {
        "id": "jbxjJQSkLrn-"
      }
    },
    {
      "cell_type": "code",
      "source": [
        "# L1 regularity\n",
        "# L2 regularity를 사용하고 싶으면 regularizers.l2로 바꾸면 된다.\n",
        "L1_model = tf.keras.models.Sequential()\n",
        "L1_model.add(tf.keras.layers.Dense(units = 6, kernel_regularizer=tf.keras.regularizers.l1(0.01), activation = 'relu'))\n",
        "L1_model.add(tf.keras.layers.Dense(units = 6, kernel_regularizer=tf.keras.regularizers.l1(0.01), activation = 'relu'))\n",
        "L1_model.add(tf.keras.layers.Dense(units = 1, activation = 'sigmoid'))\n",
        "\n",
        "# 컴파일 및 훈련\n",
        "L1_model.compile(optimizer = 'adam', loss = 'binary_crossentropy', metrics = ['accuracy'])\n",
        "history = L1_model.fit(X_train, y_train, batch_size=32, epochs = 30, validation_data = (X_val, y_val))"
      ],
      "metadata": {
        "colab": {
          "base_uri": "https://localhost:8080/"
        },
        "id": "R98w1fFqLr-h",
        "outputId": "bf9380da-341c-453c-ba55-4d9da44c6b79"
      },
      "execution_count": 56,
      "outputs": [
        {
          "output_type": "stream",
          "name": "stdout",
          "text": [
            "Epoch 1/30\n",
            "1507/1507 [==============================] - 5s 2ms/step - loss: 0.3628 - accuracy: 0.9076 - val_loss: 0.2249 - val_accuracy: 0.9100\n",
            "Epoch 2/30\n",
            "1507/1507 [==============================] - 3s 2ms/step - loss: 0.2027 - accuracy: 0.9464 - val_loss: 0.1867 - val_accuracy: 0.9551\n",
            "Epoch 3/30\n",
            "1507/1507 [==============================] - 3s 2ms/step - loss: 0.1813 - accuracy: 0.9554 - val_loss: 0.1733 - val_accuracy: 0.9578\n",
            "Epoch 4/30\n",
            "1507/1507 [==============================] - 4s 3ms/step - loss: 0.1717 - accuracy: 0.9563 - val_loss: 0.1671 - val_accuracy: 0.9576\n",
            "Epoch 5/30\n",
            "1507/1507 [==============================] - 3s 2ms/step - loss: 0.1669 - accuracy: 0.9572 - val_loss: 0.1631 - val_accuracy: 0.9575\n",
            "Epoch 6/30\n",
            "1507/1507 [==============================] - 3s 2ms/step - loss: 0.1637 - accuracy: 0.9573 - val_loss: 0.1604 - val_accuracy: 0.9570\n",
            "Epoch 7/30\n",
            "1507/1507 [==============================] - 3s 2ms/step - loss: 0.1614 - accuracy: 0.9572 - val_loss: 0.1583 - val_accuracy: 0.9578\n",
            "Epoch 8/30\n",
            "1507/1507 [==============================] - 4s 3ms/step - loss: 0.1596 - accuracy: 0.9575 - val_loss: 0.1561 - val_accuracy: 0.9575\n",
            "Epoch 9/30\n",
            "1507/1507 [==============================] - 3s 2ms/step - loss: 0.1582 - accuracy: 0.9577 - val_loss: 0.1548 - val_accuracy: 0.9575\n",
            "Epoch 10/30\n",
            "1507/1507 [==============================] - 3s 2ms/step - loss: 0.1566 - accuracy: 0.9580 - val_loss: 0.1531 - val_accuracy: 0.9577\n",
            "Epoch 11/30\n",
            "1507/1507 [==============================] - 4s 2ms/step - loss: 0.1550 - accuracy: 0.9578 - val_loss: 0.1515 - val_accuracy: 0.9582\n",
            "Epoch 12/30\n",
            "1507/1507 [==============================] - 3s 2ms/step - loss: 0.1535 - accuracy: 0.9578 - val_loss: 0.1500 - val_accuracy: 0.9575\n",
            "Epoch 13/30\n",
            "1507/1507 [==============================] - 3s 2ms/step - loss: 0.1514 - accuracy: 0.9578 - val_loss: 0.1477 - val_accuracy: 0.9578\n",
            "Epoch 14/30\n",
            "1507/1507 [==============================] - 3s 2ms/step - loss: 0.1486 - accuracy: 0.9579 - val_loss: 0.1441 - val_accuracy: 0.9581\n",
            "Epoch 15/30\n",
            "1507/1507 [==============================] - 4s 2ms/step - loss: 0.1460 - accuracy: 0.9578 - val_loss: 0.1434 - val_accuracy: 0.9573\n",
            "Epoch 16/30\n",
            "1507/1507 [==============================] - 3s 2ms/step - loss: 0.1448 - accuracy: 0.9581 - val_loss: 0.1420 - val_accuracy: 0.9573\n",
            "Epoch 17/30\n",
            "1507/1507 [==============================] - 3s 2ms/step - loss: 0.1441 - accuracy: 0.9581 - val_loss: 0.1419 - val_accuracy: 0.9582\n",
            "Epoch 18/30\n",
            "1507/1507 [==============================] - 3s 2ms/step - loss: 0.1438 - accuracy: 0.9581 - val_loss: 0.1410 - val_accuracy: 0.9579\n",
            "Epoch 19/30\n",
            "1507/1507 [==============================] - 4s 3ms/step - loss: 0.1435 - accuracy: 0.9578 - val_loss: 0.1409 - val_accuracy: 0.9573\n",
            "Epoch 20/30\n",
            "1507/1507 [==============================] - 3s 2ms/step - loss: 0.1433 - accuracy: 0.9579 - val_loss: 0.1405 - val_accuracy: 0.9579\n",
            "Epoch 21/30\n",
            "1507/1507 [==============================] - 3s 2ms/step - loss: 0.1429 - accuracy: 0.9581 - val_loss: 0.1404 - val_accuracy: 0.9583\n",
            "Epoch 22/30\n",
            "1507/1507 [==============================] - 3s 2ms/step - loss: 0.1427 - accuracy: 0.9581 - val_loss: 0.1398 - val_accuracy: 0.9586\n",
            "Epoch 23/30\n",
            "1507/1507 [==============================] - 4s 3ms/step - loss: 0.1425 - accuracy: 0.9580 - val_loss: 0.1400 - val_accuracy: 0.9568\n",
            "Epoch 24/30\n",
            "1507/1507 [==============================] - 3s 2ms/step - loss: 0.1424 - accuracy: 0.9579 - val_loss: 0.1401 - val_accuracy: 0.9568\n",
            "Epoch 25/30\n",
            "1507/1507 [==============================] - 3s 2ms/step - loss: 0.1420 - accuracy: 0.9581 - val_loss: 0.1395 - val_accuracy: 0.9581\n",
            "Epoch 26/30\n",
            "1507/1507 [==============================] - 3s 2ms/step - loss: 0.1419 - accuracy: 0.9580 - val_loss: 0.1393 - val_accuracy: 0.9573\n",
            "Epoch 27/30\n",
            "1507/1507 [==============================] - 4s 3ms/step - loss: 0.1417 - accuracy: 0.9581 - val_loss: 0.1389 - val_accuracy: 0.9573\n",
            "Epoch 28/30\n",
            "1507/1507 [==============================] - 3s 2ms/step - loss: 0.1416 - accuracy: 0.9584 - val_loss: 0.1389 - val_accuracy: 0.9575\n",
            "Epoch 29/30\n",
            "1507/1507 [==============================] - 3s 2ms/step - loss: 0.1415 - accuracy: 0.9578 - val_loss: 0.1384 - val_accuracy: 0.9575\n",
            "Epoch 30/30\n",
            "1507/1507 [==============================] - 3s 2ms/step - loss: 0.1411 - accuracy: 0.9584 - val_loss: 0.1384 - val_accuracy: 0.9575\n"
          ]
        }
      ]
    },
    {
      "cell_type": "code",
      "source": [
        "# 훈련 세트와 검증 세트의 손실 값 저장\n",
        "train_loss = history.history['loss']\n",
        "val_loss = history.history['val_loss']\n",
        "\n",
        "# epoch에 따른 손실 값 그래프\n",
        "plt.plot(range(1, len(train_loss) + 1), train_loss, label='Train Loss')\n",
        "plt.plot(range(1, len(val_loss) + 1), val_loss, label='Validation Loss')\n",
        "plt.grid(True)\n",
        "plt.xlabel('Epoch')\n",
        "plt.ylabel('Loss')\n",
        "plt.legend()\n",
        "plt.show()"
      ],
      "metadata": {
        "colab": {
          "base_uri": "https://localhost:8080/",
          "height": 449
        },
        "id": "cEQyh4W7UvPO",
        "outputId": "3d34a4e8-7c88-4cc8-c9fe-81a5476b6599"
      },
      "execution_count": 57,
      "outputs": [
        {
          "output_type": "display_data",
          "data": {
            "text/plain": [
              "<Figure size 640x480 with 1 Axes>"
            ],
            "image/png": "[encoded data removed]"
          },
          "metadata": {}
        }
      ]
    },
    {
      "cell_type": "code",
      "source": [
        "# L1_model의 정확도\n",
        "L1_model.evaluate(X_test, y_test)"
      ],
      "metadata": {
        "colab": {
          "base_uri": "https://localhost:8080/"
        },
        "id": "xtv90ttSNzzS",
        "outputId": "ae0a523a-7404-4540-fc1c-139c22c15313"
      },
      "execution_count": 58,
      "outputs": [
        {
          "output_type": "stream",
          "name": "stdout",
          "text": [
            "589/589 [==============================] - 1s 2ms/step - loss: 0.1373 - accuracy: 0.9584\n"
          ]
        },
        {
          "output_type": "execute_result",
          "data": {
            "text/plain": [
              "[0.13732624053955078, 0.9584107995033264]"
            ]
          },
          "metadata": {},
          "execution_count": 58
        }
      ]
    },
    {
      "cell_type": "markdown",
      "source": [
        "**Drop out**"
      ],
      "metadata": {
        "id": "laWjWb_xTTlD"
      }
    },
    {
      "cell_type": "code",
      "source": [
        "# Drop out\n",
        "# 초기화는 He initialization을 사용.\n",
        "D_model = tf.keras.Sequential([\n",
        "    tf.keras.layers.Dense(units=6, activation='relu', kernel_initializer='he_normal'),\n",
        "    tf.keras.layers.Dropout(rate=0.2),\n",
        "    tf.keras.layers.Dense(units=6, activation='relu', kernel_initializer='he_normal'),\n",
        "    tf.keras.layers.Dropout(rate=0.2),\n",
        "    tf.keras.layers.Dense(units=1, activation='sigmoid', kernel_initializer='he_normal')\n",
        "])\n",
        "\n",
        "# 컴파일 및 훈련\n",
        "D_model.compile(optimizer = 'adam', loss = 'binary_crossentropy', metrics = ['accuracy'])\n",
        "history = D_model.fit(X_train, y_train, batch_size=32, epochs = 30, validation_data = (X_val, y_val))"
      ],
      "metadata": {
        "colab": {
          "base_uri": "https://localhost:8080/"
        },
        "id": "v1GWuzaETVd1",
        "outputId": "bbf702c6-1090-4444-9d42-238ad65429da"
      },
      "execution_count": 60,
      "outputs": [
        {
          "output_type": "stream",
          "name": "stdout",
          "text": [
            "Epoch 1/30\n",
            "1507/1507 [==============================] - 4s 2ms/step - loss: 0.3015 - accuracy: 0.9106 - val_loss: 0.1484 - val_accuracy: 0.9470\n",
            "Epoch 2/30\n",
            "1507/1507 [==============================] - 4s 3ms/step - loss: 0.1721 - accuracy: 0.9374 - val_loss: 0.1315 - val_accuracy: 0.9548\n",
            "Epoch 3/30\n",
            "1507/1507 [==============================] - 3s 2ms/step - loss: 0.1565 - accuracy: 0.9396 - val_loss: 0.1260 - val_accuracy: 0.9567\n",
            "Epoch 4/30\n",
            "1507/1507 [==============================] - 3s 2ms/step - loss: 0.1480 - accuracy: 0.9413 - val_loss: 0.1230 - val_accuracy: 0.9571\n",
            "Epoch 5/30\n",
            "1507/1507 [==============================] - 3s 2ms/step - loss: 0.1456 - accuracy: 0.9402 - val_loss: 0.1196 - val_accuracy: 0.9576\n",
            "Epoch 6/30\n",
            "1507/1507 [==============================] - 4s 3ms/step - loss: 0.1425 - accuracy: 0.9418 - val_loss: 0.1178 - val_accuracy: 0.9581\n",
            "Epoch 7/30\n",
            "1507/1507 [==============================] - 3s 2ms/step - loss: 0.1425 - accuracy: 0.9408 - val_loss: 0.1175 - val_accuracy: 0.9572\n",
            "Epoch 8/30\n",
            "1507/1507 [==============================] - 3s 2ms/step - loss: 0.1394 - accuracy: 0.9411 - val_loss: 0.1161 - val_accuracy: 0.9567\n",
            "Epoch 9/30\n",
            "1507/1507 [==============================] - 4s 2ms/step - loss: 0.1384 - accuracy: 0.9414 - val_loss: 0.1146 - val_accuracy: 0.9569\n",
            "Epoch 10/30\n",
            "1507/1507 [==============================] - 3s 2ms/step - loss: 0.1381 - accuracy: 0.9484 - val_loss: 0.1137 - val_accuracy: 0.9576\n",
            "Epoch 11/30\n",
            "1507/1507 [==============================] - 3s 2ms/step - loss: 0.1373 - accuracy: 0.9538 - val_loss: 0.1122 - val_accuracy: 0.9588\n",
            "Epoch 12/30\n",
            "1507/1507 [==============================] - 3s 2ms/step - loss: 0.1369 - accuracy: 0.9531 - val_loss: 0.1127 - val_accuracy: 0.9581\n",
            "Epoch 13/30\n",
            "1507/1507 [==============================] - 4s 3ms/step - loss: 0.1358 - accuracy: 0.9534 - val_loss: 0.1122 - val_accuracy: 0.9587\n",
            "Epoch 14/30\n",
            "1507/1507 [==============================] - 3s 2ms/step - loss: 0.1347 - accuracy: 0.9541 - val_loss: 0.1103 - val_accuracy: 0.9591\n",
            "Epoch 15/30\n",
            "1507/1507 [==============================] - 3s 2ms/step - loss: 0.1360 - accuracy: 0.9536 - val_loss: 0.1100 - val_accuracy: 0.9583\n",
            "Epoch 16/30\n",
            "1507/1507 [==============================] - 3s 2ms/step - loss: 0.1354 - accuracy: 0.9542 - val_loss: 0.1091 - val_accuracy: 0.9578\n",
            "Epoch 17/30\n",
            "1507/1507 [==============================] - 4s 3ms/step - loss: 0.1347 - accuracy: 0.9539 - val_loss: 0.1095 - val_accuracy: 0.9587\n",
            "Epoch 18/30\n",
            "1507/1507 [==============================] - 3s 2ms/step - loss: 0.1361 - accuracy: 0.9536 - val_loss: 0.1095 - val_accuracy: 0.9588\n",
            "Epoch 19/30\n",
            "1507/1507 [==============================] - 3s 2ms/step - loss: 0.1346 - accuracy: 0.9537 - val_loss: 0.1091 - val_accuracy: 0.9578\n",
            "Epoch 20/30\n",
            "1507/1507 [==============================] - 3s 2ms/step - loss: 0.1331 - accuracy: 0.9542 - val_loss: 0.1090 - val_accuracy: 0.9578\n",
            "Epoch 21/30\n",
            "1507/1507 [==============================] - 4s 3ms/step - loss: 0.1346 - accuracy: 0.9534 - val_loss: 0.1105 - val_accuracy: 0.9582\n",
            "Epoch 22/30\n",
            "1507/1507 [==============================] - 3s 2ms/step - loss: 0.1345 - accuracy: 0.9545 - val_loss: 0.1097 - val_accuracy: 0.9581\n",
            "Epoch 23/30\n",
            "1507/1507 [==============================] - 3s 2ms/step - loss: 0.1337 - accuracy: 0.9541 - val_loss: 0.1087 - val_accuracy: 0.9583\n",
            "Epoch 24/30\n",
            "1507/1507 [==============================] - 4s 2ms/step - loss: 0.1331 - accuracy: 0.9543 - val_loss: 0.1084 - val_accuracy: 0.9580\n",
            "Epoch 25/30\n",
            "1507/1507 [==============================] - 4s 2ms/step - loss: 0.1339 - accuracy: 0.9544 - val_loss: 0.1081 - val_accuracy: 0.9583\n",
            "Epoch 26/30\n",
            "1507/1507 [==============================] - 3s 2ms/step - loss: 0.1343 - accuracy: 0.9546 - val_loss: 0.1077 - val_accuracy: 0.9579\n",
            "Epoch 27/30\n",
            "1507/1507 [==============================] - 3s 2ms/step - loss: 0.1335 - accuracy: 0.9549 - val_loss: 0.1080 - val_accuracy: 0.9582\n",
            "Epoch 28/30\n",
            "1507/1507 [==============================] - 4s 3ms/step - loss: 0.1335 - accuracy: 0.9548 - val_loss: 0.1092 - val_accuracy: 0.9582\n",
            "Epoch 29/30\n",
            "1507/1507 [==============================] - 3s 2ms/step - loss: 0.1332 - accuracy: 0.9539 - val_loss: 0.1084 - val_accuracy: 0.9577\n",
            "Epoch 30/30\n",
            "1507/1507 [==============================] - 3s 2ms/step - loss: 0.1341 - accuracy: 0.9542 - val_loss: 0.1084 - val_accuracy: 0.9588\n"
          ]
        }
      ]
    },
    {
      "cell_type": "code",
      "source": [
        "# 훈련 세트와 검증 세트의 손실 값 저장\n",
        "train_loss = history.history['loss']\n",
        "val_loss = history.history['val_loss']\n",
        "\n",
        "# epoch에 따른 손실 값 그래프\n",
        "plt.plot(range(1, len(train_loss) + 1), train_loss, label='Train Loss')\n",
        "plt.plot(range(1, len(val_loss) + 1), val_loss, label='Validation Loss')\n",
        "plt.grid(True)\n",
        "plt.xlabel('Epoch')\n",
        "plt.ylabel('Loss')\n",
        "plt.legend()\n",
        "plt.show()"
      ],
      "metadata": {
        "colab": {
          "base_uri": "https://localhost:8080/",
          "height": 449
        },
        "id": "FfbHA5idXDHy",
        "outputId": "97e59a6c-26e6-40c4-c82b-73859cc2cf1e"
      },
      "execution_count": 61,
      "outputs": [
        {
          "output_type": "display_data",
          "data": {
            "text/plain": [
              "<Figure size 640x480 with 1 Axes>"
            ],
            "image/png": "[encoded data removed]"
          },
          "metadata": {}
        }
      ]
    },
    {
      "cell_type": "code",
      "source": [
        "# D_model의 정확도\n",
        "D_model.evaluate(X_test, y_test)"
      ],
      "metadata": {
        "colab": {
          "base_uri": "https://localhost:8080/"
        },
        "id": "pQCPD1DCUcIU",
        "outputId": "f06f9568-75fd-454f-cd52-b72905b4d86a"
      },
      "execution_count": 62,
      "outputs": [
        {
          "output_type": "stream",
          "name": "stdout",
          "text": [
            "589/589 [==============================] - 1s 1ms/step - loss: 0.1070 - accuracy: 0.9595\n"
          ]
        },
        {
          "output_type": "execute_result",
          "data": {
            "text/plain": [
              "[0.10701631754636765, 0.9594730734825134]"
            ]
          },
          "metadata": {},
          "execution_count": 62
        }
      ]
    },
    {
      "cell_type": "markdown",
      "source": [
        "**일부러 성능 저하시키기**"
      ],
      "metadata": {
        "id": "rdiAT2kIZya7"
      }
    },
    {
      "cell_type": "code",
      "source": [
        "any_model = tf.keras.models.Sequential()\n",
        "any_model.add(tf.keras.layers.Dense(units = 6, activation = 'relu'))\n",
        "any_model.add(tf.keras.layers.Dense(units = 6, activation = 'relu'))\n",
        "any_model.add(tf.keras.layers.Dense(units = 1, activation = 'sigmoid'))\n",
        "\n",
        "# 컴파일 및 훈련\n",
        "any_model.compile(optimizer = 'adam', loss = 'binary_crossentropy', metrics = ['accuracy'])\n",
        "any_model.fit(X_train, y_train, batch_size=32, epochs = 1, validation_data = (X_val, y_val))"
      ],
      "metadata": {
        "colab": {
          "base_uri": "https://localhost:8080/"
        },
        "id": "-I0kq8owZx8a",
        "outputId": "6f68ed50-74f3-4746-ce80-bf6b8d83c6c6"
      },
      "execution_count": 65,
      "outputs": [
        {
          "output_type": "stream",
          "name": "stdout",
          "text": [
            "1507/1507 [==============================] - 4s 2ms/step - loss: 0.3254 - accuracy: 0.9108 - val_loss: 0.1983 - val_accuracy: 0.9100\n"
          ]
        },
        {
          "output_type": "execute_result",
          "data": {
            "text/plain": [
              "<keras.callbacks.History at 0x7fa1ade0fca0>"
            ]
          },
          "metadata": {},
          "execution_count": 65
        }
      ]
    },
    {
      "cell_type": "code",
      "source": [
        "# 입력 데이터에 잡음 추가\n",
        "noise_factor = 5\n",
        "noisy_X_train = X_train + noise_factor * np.random.randn(*X_train.shape)\n",
        "noisy_X_val = X_val + noise_factor * np.random.randn(*X_val.shape)\n",
        "\n",
        "any_model = tf.keras.models.Sequential()\n",
        "any_model.add(tf.keras.layers.Dense(units = 6, activation = 'relu'))\n",
        "any_model.add(tf.keras.layers.Dense(units = 6, activation = 'relu'))\n",
        "any_model.add(tf.keras.layers.Dense(units = 1, activation = 'sigmoid'))\n",
        "\n",
        "# 모델 컴파일\n",
        "any.compile(optimizer='adam', loss='categorical_crossentropy', metrics=['accuracy'])\n",
        "\n",
        "# 잡음이 추가된 데이터로 모델 학습\n",
        "history = any.fit(noisy_X_train, y_train, batch_size=32, epochs=10, validation_data=(noisy_X_val, y_val))\n"
      ],
      "metadata": {
        "colab": {
          "base_uri": "https://localhost:8080/"
        },
        "id": "kZt_PctBbqQM",
        "outputId": "a5e47efa-a35c-4808-b408-674898a19d81"
      },
      "execution_count": 77,
      "outputs": [
        {
          "output_type": "stream",
          "name": "stdout",
          "text": [
            "Epoch 1/10\n",
            "1507/1507 [==============================] - 79s 2ms/step - loss: 0.0000e+00 - accuracy: 0.9108 - val_loss: 0.0000e+00 - val_accuracy: 0.9100\n",
            "Epoch 2/10\n",
            "1507/1507 [==============================] - 4s 2ms/step - loss: 0.0000e+00 - accuracy: 0.9108 - val_loss: 0.0000e+00 - val_accuracy: 0.9100\n",
            "Epoch 3/10\n",
            "1507/1507 [==============================] - 4s 3ms/step - loss: 0.0000e+00 - accuracy: 0.9108 - val_loss: 0.0000e+00 - val_accuracy: 0.9100\n",
            "Epoch 4/10\n",
            "1507/1507 [==============================] - 3s 2ms/step - loss: 0.0000e+00 - accuracy: 0.9108 - val_loss: 0.0000e+00 - val_accuracy: 0.9100\n",
            "Epoch 5/10\n",
            "1507/1507 [==============================] - 3s 2ms/step - loss: 0.0000e+00 - accuracy: 0.9108 - val_loss: 0.0000e+00 - val_accuracy: 0.9100\n",
            "Epoch 6/10\n",
            "1507/1507 [==============================] - 4s 3ms/step - loss: 0.0000e+00 - accuracy: 0.9108 - val_loss: 0.0000e+00 - val_accuracy: 0.9100\n",
            "Epoch 7/10\n",
            "1507/1507 [==============================] - 3s 2ms/step - loss: 0.0000e+00 - accuracy: 0.9108 - val_loss: 0.0000e+00 - val_accuracy: 0.9100\n",
            "Epoch 8/10\n",
            "1507/1507 [==============================] - 3s 2ms/step - loss: 0.0000e+00 - accuracy: 0.9108 - val_loss: 0.0000e+00 - val_accuracy: 0.9100\n",
            "Epoch 9/10\n",
            "1507/1507 [==============================] - 3s 2ms/step - loss: 0.0000e+00 - accuracy: 0.9108 - val_loss: 0.0000e+00 - val_accuracy: 0.9100\n",
            "Epoch 10/10\n",
            "1507/1507 [==============================] - 4s 3ms/step - loss: 0.0000e+00 - accuracy: 0.9108 - val_loss: 0.0000e+00 - val_accuracy: 0.9100\n"
          ]
        }
      ]
    },
    {
      "cell_type": "code",
      "source": [
        "any.evaluate(X_test, y_test)"
      ],
      "metadata": {
        "colab": {
          "base_uri": "https://localhost:8080/"
        },
        "id": "e5kQyG0Ec8MJ",
        "outputId": "0acbe000-c575-421a-df77-f36bbc7957ef"
      },
      "execution_count": 73,
      "outputs": [
        {
          "output_type": "stream",
          "name": "stdout",
          "text": [
            "589/589 [==============================] - 1s 2ms/step - loss: 0.0000e+00 - accuracy: 0.9070\n"
          ]
        },
        {
          "output_type": "execute_result",
          "data": {
            "text/plain": [
              "[0.0, 0.9070484042167664]"
            ]
          },
          "metadata": {},
          "execution_count": 73
        }
      ]
    }
  ]
}