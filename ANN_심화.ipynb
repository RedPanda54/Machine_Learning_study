{
  "nbformat": 4,
  "nbformat_minor": 0,
  "metadata": {
    "colab": {
      "provenance": [],
      "authorship_tag": "ABX9TyOve5adSL7BROuJ+lfdg2IK",
      "include_colab_link": true
    },
    "kernelspec": {
      "name": "python3",
      "display_name": "Python 3"
    },
    "language_info": {
      "name": "python"
    },
    "gpuClass": "standard"
  },
  "cells": [
    {
      "cell_type": "markdown",
      "metadata": {
        "id": "view-in-github",
        "colab_type": "text"
      },
      "source": [
        "<a href=\"https://colab.research.google.com/github/RedPanda54/Machine_Learning_study/blob/main/ANN_%EC%8B%AC%ED%99%94.ipynb\" target=\"_parent\"><img src=\"https://colab.research.google.com/assets/colab-badge.svg\" alt=\"Open In Colab\"/></a>"
      ]
    },
    {
      "cell_type": "markdown",
      "source": [
        "**앞서 살펴본 Basic part와 같은 전처리 과정과 기본 신경망 구성**"
      ],
      "metadata": {
        "id": "seRPLB23FK0T"
      }
    },
    {
      "cell_type": "code",
      "execution_count": 1,
      "metadata": {
        "id": "C93YhmWBvB9s",
        "colab": {
          "base_uri": "https://localhost:8080/"
        },
        "outputId": "2d91432d-3f96-4e73-e004-f7f943464de8"
      },
      "outputs": [
        {
          "output_type": "stream",
          "name": "stdout",
          "text": [
            "<class 'pandas.core.frame.DataFrame'>\n",
            "RangeIndex: 100000 entries, 0 to 99999\n",
            "Data columns (total 9 columns):\n",
            " #   Column               Non-Null Count   Dtype  \n",
            "---  ------               --------------   -----  \n",
            " 0   gender               100000 non-null  object \n",
            " 1   age                  100000 non-null  float64\n",
            " 2   hypertension         100000 non-null  int64  \n",
            " 3   heart_disease        100000 non-null  int64  \n",
            " 4   smoking_history      100000 non-null  object \n",
            " 5   bmi                  100000 non-null  float64\n",
            " 6   HbA1c_level          100000 non-null  float64\n",
            " 7   blood_glucose_level  100000 non-null  int64  \n",
            " 8   diabetes             100000 non-null  int64  \n",
            "dtypes: float64(3), int64(4), object(2)\n",
            "memory usage: 6.9+ MB\n"
          ]
        }
      ],
      "source": [
        "import numpy as np\n",
        "import pandas as pd\n",
        "import matplotlib.pyplot as plt\n",
        "from matplotlib_inline.backend_inline import set_matplotlib_formats\n",
        "import seaborn as sns\n",
        "\n",
        "np.random.seed(10)\n",
        "\n",
        "URL = \"https://raw.githubusercontent.com/RedPanda54/Machine_Learning_study/main/diabetes_prediction_dataset.csv\"\n",
        "df = pd.read_csv(URL)\n",
        "df.info()"
      ]
    },
    {
      "cell_type": "code",
      "source": [
        "#중복행 제거\n",
        "df.drop_duplicates(inplace=True)\n",
        "df"
      ],
      "metadata": {
        "colab": {
          "base_uri": "https://localhost:8080/",
          "height": 424
        },
        "id": "5cnBysCvQSAb",
        "outputId": "4a639860-c574-423d-e8a6-198432eec3dd"
      },
      "execution_count": 3,
      "outputs": [
        {
          "output_type": "execute_result",
          "data": {
            "text/plain": [
              "       gender   age  hypertension  heart_disease smoking_history    bmi  \\\n",
              "0      Female  80.0             0              1           never  25.19   \n",
              "1      Female  54.0             0              0         No Info  27.32   \n",
              "2        Male  28.0             0              0           never  27.32   \n",
              "3      Female  36.0             0              0         current  23.45   \n",
              "4        Male  76.0             1              1         current  20.14   \n",
              "...       ...   ...           ...            ...             ...    ...   \n",
              "99994  Female  36.0             0              0         No Info  24.60   \n",
              "99996  Female   2.0             0              0         No Info  17.37   \n",
              "99997    Male  66.0             0              0          former  27.83   \n",
              "99998  Female  24.0             0              0           never  35.42   \n",
              "99999  Female  57.0             0              0         current  22.43   \n",
              "\n",
              "       HbA1c_level  blood_glucose_level  diabetes  \n",
              "0              6.6                  140         0  \n",
              "1              6.6                   80         0  \n",
              "2              5.7                  158         0  \n",
              "3              5.0                  155         0  \n",
              "4              4.8                  155         0  \n",
              "...            ...                  ...       ...  \n",
              "99994          4.8                  145         0  \n",
              "99996          6.5                  100         0  \n",
              "99997          5.7                  155         0  \n",
              "99998          4.0                  100         0  \n",
              "99999          6.6                   90         0  \n",
              "\n",
              "[96146 rows x 9 columns]"
            ],
            "text/html": [
              "\n",
              "  <div id=\"df-9a108cc9-d931-4330-90b3-5446caeff81e\">\n",
              "    <div class=\"colab-df-container\">\n",
              "      <div>\n",
              "<style scoped>\n",
              "    .dataframe tbody tr th:only-of-type {\n",
              "        vertical-align: middle;\n",
              "    }\n",
              "\n",
              "    .dataframe tbody tr th {\n",
              "        vertical-align: top;\n",
              "    }\n",
              "\n",
              "    .dataframe thead th {\n",
              "        text-align: right;\n",
              "    }\n",
              "</style>\n",
              "<table border=\"1\" class=\"dataframe\">\n",
              "  <thead>\n",
              "    <tr style=\"text-align: right;\">\n",
              "      <th></th>\n",
              "      <th>gender</th>\n",
              "      <th>age</th>\n",
              "      <th>hypertension</th>\n",
              "      <th>heart_disease</th>\n",
              "      <th>smoking_history</th>\n",
              "      <th>bmi</th>\n",
              "      <th>HbA1c_level</th>\n",
              "      <th>blood_glucose_level</th>\n",
              "      <th>diabetes</th>\n",
              "    </tr>\n",
              "  </thead>\n",
              "  <tbody>\n",
              "    <tr>\n",
              "      <th>0</th>\n",
              "      <td>Female</td>\n",
              "      <td>80.0</td>\n",
              "      <td>0</td>\n",
              "      <td>1</td>\n",
              "      <td>never</td>\n",
              "      <td>25.19</td>\n",
              "      <td>6.6</td>\n",
              "      <td>140</td>\n",
              "      <td>0</td>\n",
              "    </tr>\n",
              "    <tr>\n",
              "      <th>1</th>\n",
              "      <td>Female</td>\n",
              "      <td>54.0</td>\n",
              "      <td>0</td>\n",
              "      <td>0</td>\n",
              "      <td>No Info</td>\n",
              "      <td>27.32</td>\n",
              "      <td>6.6</td>\n",
              "      <td>80</td>\n",
              "      <td>0</td>\n",
              "    </tr>\n",
              "    <tr>\n",
              "      <th>2</th>\n",
              "      <td>Male</td>\n",
              "      <td>28.0</td>\n",
              "      <td>0</td>\n",
              "      <td>0</td>\n",
              "      <td>never</td>\n",
              "      <td>27.32</td>\n",
              "      <td>5.7</td>\n",
              "      <td>158</td>\n",
              "      <td>0</td>\n",
              "    </tr>\n",
              "    <tr>\n",
              "      <th>3</th>\n",
              "      <td>Female</td>\n",
              "      <td>36.0</td>\n",
              "      <td>0</td>\n",
              "      <td>0</td>\n",
              "      <td>current</td>\n",
              "      <td>23.45</td>\n",
              "      <td>5.0</td>\n",
              "      <td>155</td>\n",
              "      <td>0</td>\n",
              "    </tr>\n",
              "    <tr>\n",
              "      <th>4</th>\n",
              "      <td>Male</td>\n",
              "      <td>76.0</td>\n",
              "      <td>1</td>\n",
              "      <td>1</td>\n",
              "      <td>current</td>\n",
              "      <td>20.14</td>\n",
              "      <td>4.8</td>\n",
              "      <td>155</td>\n",
              "      <td>0</td>\n",
              "    </tr>\n",
              "    <tr>\n",
              "      <th>...</th>\n",
              "      <td>...</td>\n",
              "      <td>...</td>\n",
              "      <td>...</td>\n",
              "      <td>...</td>\n",
              "      <td>...</td>\n",
              "      <td>...</td>\n",
              "      <td>...</td>\n",
              "      <td>...</td>\n",
              "      <td>...</td>\n",
              "    </tr>\n",
              "    <tr>\n",
              "      <th>99994</th>\n",
              "      <td>Female</td>\n",
              "      <td>36.0</td>\n",
              "      <td>0</td>\n",
              "      <td>0</td>\n",
              "      <td>No Info</td>\n",
              "      <td>24.60</td>\n",
              "      <td>4.8</td>\n",
              "      <td>145</td>\n",
              "      <td>0</td>\n",
              "    </tr>\n",
              "    <tr>\n",
              "      <th>99996</th>\n",
              "      <td>Female</td>\n",
              "      <td>2.0</td>\n",
              "      <td>0</td>\n",
              "      <td>0</td>\n",
              "      <td>No Info</td>\n",
              "      <td>17.37</td>\n",
              "      <td>6.5</td>\n",
              "      <td>100</td>\n",
              "      <td>0</td>\n",
              "    </tr>\n",
              "    <tr>\n",
              "      <th>99997</th>\n",
              "      <td>Male</td>\n",
              "      <td>66.0</td>\n",
              "      <td>0</td>\n",
              "      <td>0</td>\n",
              "      <td>former</td>\n",
              "      <td>27.83</td>\n",
              "      <td>5.7</td>\n",
              "      <td>155</td>\n",
              "      <td>0</td>\n",
              "    </tr>\n",
              "    <tr>\n",
              "      <th>99998</th>\n",
              "      <td>Female</td>\n",
              "      <td>24.0</td>\n",
              "      <td>0</td>\n",
              "      <td>0</td>\n",
              "      <td>never</td>\n",
              "      <td>35.42</td>\n",
              "      <td>4.0</td>\n",
              "      <td>100</td>\n",
              "      <td>0</td>\n",
              "    </tr>\n",
              "    <tr>\n",
              "      <th>99999</th>\n",
              "      <td>Female</td>\n",
              "      <td>57.0</td>\n",
              "      <td>0</td>\n",
              "      <td>0</td>\n",
              "      <td>current</td>\n",
              "      <td>22.43</td>\n",
              "      <td>6.6</td>\n",
              "      <td>90</td>\n",
              "      <td>0</td>\n",
              "    </tr>\n",
              "  </tbody>\n",
              "</table>\n",
              "<p>96146 rows × 9 columns</p>\n",
              "</div>\n",
              "      <button class=\"colab-df-convert\" onclick=\"convertToInteractive('df-9a108cc9-d931-4330-90b3-5446caeff81e')\"\n",
              "              title=\"Convert this dataframe to an interactive table.\"\n",
              "              style=\"display:none;\">\n",
              "        \n",
              "  <svg xmlns=\"http://www.w3.org/2000/svg\" height=\"24px\"viewBox=\"0 0 24 24\"\n",
              "       width=\"24px\">\n",
              "    <path d=\"M0 0h24v24H0V0z\" fill=\"none\"/>\n",
              "    <path d=\"M18.56 5.44l.94 2.06.94-2.06 2.06-.94-2.06-.94-.94-2.06-.94 2.06-2.06.94zm-11 1L8.5 8.5l.94-2.06 2.06-.94-2.06-.94L8.5 2.5l-.94 2.06-2.06.94zm10 10l.94 2.06.94-2.06 2.06-.94-2.06-.94-.94-2.06-.94 2.06-2.06.94z\"/><path d=\"M17.41 7.96l-1.37-1.37c-.4-.4-.92-.59-1.43-.59-.52 0-1.04.2-1.43.59L10.3 9.45l-7.72 7.72c-.78.78-.78 2.05 0 2.83L4 21.41c.39.39.9.59 1.41.59.51 0 1.02-.2 1.41-.59l7.78-7.78 2.81-2.81c.8-.78.8-2.07 0-2.86zM5.41 20L4 18.59l7.72-7.72 1.47 1.35L5.41 20z\"/>\n",
              "  </svg>\n",
              "      </button>\n",
              "      \n",
              "  <style>\n",
              "    .colab-df-container {\n",
              "      display:flex;\n",
              "      flex-wrap:wrap;\n",
              "      gap: 12px;\n",
              "    }\n",
              "\n",
              "    .colab-df-convert {\n",
              "      background-color: #E8F0FE;\n",
              "      border: none;\n",
              "      border-radius: 50%;\n",
              "      cursor: pointer;\n",
              "      display: none;\n",
              "      fill: #1967D2;\n",
              "      height: 32px;\n",
              "      padding: 0 0 0 0;\n",
              "      width: 32px;\n",
              "    }\n",
              "\n",
              "    .colab-df-convert:hover {\n",
              "      background-color: #E2EBFA;\n",
              "      box-shadow: 0px 1px 2px rgba(60, 64, 67, 0.3), 0px 1px 3px 1px rgba(60, 64, 67, 0.15);\n",
              "      fill: #174EA6;\n",
              "    }\n",
              "\n",
              "    [theme=dark] .colab-df-convert {\n",
              "      background-color: #3B4455;\n",
              "      fill: #D2E3FC;\n",
              "    }\n",
              "\n",
              "    [theme=dark] .colab-df-convert:hover {\n",
              "      background-color: #434B5C;\n",
              "      box-shadow: 0px 1px 3px 1px rgba(0, 0, 0, 0.15);\n",
              "      filter: drop-shadow(0px 1px 2px rgba(0, 0, 0, 0.3));\n",
              "      fill: #FFFFFF;\n",
              "    }\n",
              "  </style>\n",
              "\n",
              "      <script>\n",
              "        const buttonEl =\n",
              "          document.querySelector('#df-9a108cc9-d931-4330-90b3-5446caeff81e button.colab-df-convert');\n",
              "        buttonEl.style.display =\n",
              "          google.colab.kernel.accessAllowed ? 'block' : 'none';\n",
              "\n",
              "        async function convertToInteractive(key) {\n",
              "          const element = document.querySelector('#df-9a108cc9-d931-4330-90b3-5446caeff81e');\n",
              "          const dataTable =\n",
              "            await google.colab.kernel.invokeFunction('convertToInteractive',\n",
              "                                                     [key], {});\n",
              "          if (!dataTable) return;\n",
              "\n",
              "          const docLinkHtml = 'Like what you see? Visit the ' +\n",
              "            '<a target=\"_blank\" href=https://colab.research.google.com/notebooks/data_table.ipynb>data table notebook</a>'\n",
              "            + ' to learn more about interactive tables.';\n",
              "          element.innerHTML = '';\n",
              "          dataTable['output_type'] = 'display_data';\n",
              "          await google.colab.output.renderOutput(dataTable, element);\n",
              "          const docLink = document.createElement('div');\n",
              "          docLink.innerHTML = docLinkHtml;\n",
              "          element.appendChild(docLink);\n",
              "        }\n",
              "      </script>\n",
              "    </div>\n",
              "  </div>\n",
              "  "
            ]
          },
          "metadata": {},
          "execution_count": 3
        }
      ]
    },
    {
      "cell_type": "code",
      "source": [
        "# Label Encoding for gender column\n",
        "from sklearn import preprocessing\n",
        "label_encoder = preprocessing.LabelEncoder()\n",
        "df['gender'] = label_encoder.fit_transform(df['gender'])\n",
        "df.head()"
      ],
      "metadata": {
        "colab": {
          "base_uri": "https://localhost:8080/",
          "height": 206
        },
        "id": "PMmF13uhXOYh",
        "outputId": "6d77a983-80c7-4c52-b0a4-a38de144cb7b"
      },
      "execution_count": 4,
      "outputs": [
        {
          "output_type": "execute_result",
          "data": {
            "text/plain": [
              "   gender   age  hypertension  heart_disease smoking_history    bmi  \\\n",
              "0       0  80.0             0              1           never  25.19   \n",
              "1       0  54.0             0              0         No Info  27.32   \n",
              "2       1  28.0             0              0           never  27.32   \n",
              "3       0  36.0             0              0         current  23.45   \n",
              "4       1  76.0             1              1         current  20.14   \n",
              "\n",
              "   HbA1c_level  blood_glucose_level  diabetes  \n",
              "0          6.6                  140         0  \n",
              "1          6.6                   80         0  \n",
              "2          5.7                  158         0  \n",
              "3          5.0                  155         0  \n",
              "4          4.8                  155         0  "
            ],
            "text/html": [
              "\n",
              "  <div id=\"df-19bd713a-b204-4393-b0b4-4abdc34611a1\">\n",
              "    <div class=\"colab-df-container\">\n",
              "      <div>\n",
              "<style scoped>\n",
              "    .dataframe tbody tr th:only-of-type {\n",
              "        vertical-align: middle;\n",
              "    }\n",
              "\n",
              "    .dataframe tbody tr th {\n",
              "        vertical-align: top;\n",
              "    }\n",
              "\n",
              "    .dataframe thead th {\n",
              "        text-align: right;\n",
              "    }\n",
              "</style>\n",
              "<table border=\"1\" class=\"dataframe\">\n",
              "  <thead>\n",
              "    <tr style=\"text-align: right;\">\n",
              "      <th></th>\n",
              "      <th>gender</th>\n",
              "      <th>age</th>\n",
              "      <th>hypertension</th>\n",
              "      <th>heart_disease</th>\n",
              "      <th>smoking_history</th>\n",
              "      <th>bmi</th>\n",
              "      <th>HbA1c_level</th>\n",
              "      <th>blood_glucose_level</th>\n",
              "      <th>diabetes</th>\n",
              "    </tr>\n",
              "  </thead>\n",
              "  <tbody>\n",
              "    <tr>\n",
              "      <th>0</th>\n",
              "      <td>0</td>\n",
              "      <td>80.0</td>\n",
              "      <td>0</td>\n",
              "      <td>1</td>\n",
              "      <td>never</td>\n",
              "      <td>25.19</td>\n",
              "      <td>6.6</td>\n",
              "      <td>140</td>\n",
              "      <td>0</td>\n",
              "    </tr>\n",
              "    <tr>\n",
              "      <th>1</th>\n",
              "      <td>0</td>\n",
              "      <td>54.0</td>\n",
              "      <td>0</td>\n",
              "      <td>0</td>\n",
              "      <td>No Info</td>\n",
              "      <td>27.32</td>\n",
              "      <td>6.6</td>\n",
              "      <td>80</td>\n",
              "      <td>0</td>\n",
              "    </tr>\n",
              "    <tr>\n",
              "      <th>2</th>\n",
              "      <td>1</td>\n",
              "      <td>28.0</td>\n",
              "      <td>0</td>\n",
              "      <td>0</td>\n",
              "      <td>never</td>\n",
              "      <td>27.32</td>\n",
              "      <td>5.7</td>\n",
              "      <td>158</td>\n",
              "      <td>0</td>\n",
              "    </tr>\n",
              "    <tr>\n",
              "      <th>3</th>\n",
              "      <td>0</td>\n",
              "      <td>36.0</td>\n",
              "      <td>0</td>\n",
              "      <td>0</td>\n",
              "      <td>current</td>\n",
              "      <td>23.45</td>\n",
              "      <td>5.0</td>\n",
              "      <td>155</td>\n",
              "      <td>0</td>\n",
              "    </tr>\n",
              "    <tr>\n",
              "      <th>4</th>\n",
              "      <td>1</td>\n",
              "      <td>76.0</td>\n",
              "      <td>1</td>\n",
              "      <td>1</td>\n",
              "      <td>current</td>\n",
              "      <td>20.14</td>\n",
              "      <td>4.8</td>\n",
              "      <td>155</td>\n",
              "      <td>0</td>\n",
              "    </tr>\n",
              "  </tbody>\n",
              "</table>\n",
              "</div>\n",
              "      <button class=\"colab-df-convert\" onclick=\"convertToInteractive('df-19bd713a-b204-4393-b0b4-4abdc34611a1')\"\n",
              "              title=\"Convert this dataframe to an interactive table.\"\n",
              "              style=\"display:none;\">\n",
              "        \n",
              "  <svg xmlns=\"http://www.w3.org/2000/svg\" height=\"24px\"viewBox=\"0 0 24 24\"\n",
              "       width=\"24px\">\n",
              "    <path d=\"M0 0h24v24H0V0z\" fill=\"none\"/>\n",
              "    <path d=\"M18.56 5.44l.94 2.06.94-2.06 2.06-.94-2.06-.94-.94-2.06-.94 2.06-2.06.94zm-11 1L8.5 8.5l.94-2.06 2.06-.94-2.06-.94L8.5 2.5l-.94 2.06-2.06.94zm10 10l.94 2.06.94-2.06 2.06-.94-2.06-.94-.94-2.06-.94 2.06-2.06.94z\"/><path d=\"M17.41 7.96l-1.37-1.37c-.4-.4-.92-.59-1.43-.59-.52 0-1.04.2-1.43.59L10.3 9.45l-7.72 7.72c-.78.78-.78 2.05 0 2.83L4 21.41c.39.39.9.59 1.41.59.51 0 1.02-.2 1.41-.59l7.78-7.78 2.81-2.81c.8-.78.8-2.07 0-2.86zM5.41 20L4 18.59l7.72-7.72 1.47 1.35L5.41 20z\"/>\n",
              "  </svg>\n",
              "      </button>\n",
              "      \n",
              "  <style>\n",
              "    .colab-df-container {\n",
              "      display:flex;\n",
              "      flex-wrap:wrap;\n",
              "      gap: 12px;\n",
              "    }\n",
              "\n",
              "    .colab-df-convert {\n",
              "      background-color: #E8F0FE;\n",
              "      border: none;\n",
              "      border-radius: 50%;\n",
              "      cursor: pointer;\n",
              "      display: none;\n",
              "      fill: #1967D2;\n",
              "      height: 32px;\n",
              "      padding: 0 0 0 0;\n",
              "      width: 32px;\n",
              "    }\n",
              "\n",
              "    .colab-df-convert:hover {\n",
              "      background-color: #E2EBFA;\n",
              "      box-shadow: 0px 1px 2px rgba(60, 64, 67, 0.3), 0px 1px 3px 1px rgba(60, 64, 67, 0.15);\n",
              "      fill: #174EA6;\n",
              "    }\n",
              "\n",
              "    [theme=dark] .colab-df-convert {\n",
              "      background-color: #3B4455;\n",
              "      fill: #D2E3FC;\n",
              "    }\n",
              "\n",
              "    [theme=dark] .colab-df-convert:hover {\n",
              "      background-color: #434B5C;\n",
              "      box-shadow: 0px 1px 3px 1px rgba(0, 0, 0, 0.15);\n",
              "      filter: drop-shadow(0px 1px 2px rgba(0, 0, 0, 0.3));\n",
              "      fill: #FFFFFF;\n",
              "    }\n",
              "  </style>\n",
              "\n",
              "      <script>\n",
              "        const buttonEl =\n",
              "          document.querySelector('#df-19bd713a-b204-4393-b0b4-4abdc34611a1 button.colab-df-convert');\n",
              "        buttonEl.style.display =\n",
              "          google.colab.kernel.accessAllowed ? 'block' : 'none';\n",
              "\n",
              "        async function convertToInteractive(key) {\n",
              "          const element = document.querySelector('#df-19bd713a-b204-4393-b0b4-4abdc34611a1');\n",
              "          const dataTable =\n",
              "            await google.colab.kernel.invokeFunction('convertToInteractive',\n",
              "                                                     [key], {});\n",
              "          if (!dataTable) return;\n",
              "\n",
              "          const docLinkHtml = 'Like what you see? Visit the ' +\n",
              "            '<a target=\"_blank\" href=https://colab.research.google.com/notebooks/data_table.ipynb>data table notebook</a>'\n",
              "            + ' to learn more about interactive tables.';\n",
              "          element.innerHTML = '';\n",
              "          dataTable['output_type'] = 'display_data';\n",
              "          await google.colab.output.renderOutput(dataTable, element);\n",
              "          const docLink = document.createElement('div');\n",
              "          docLink.innerHTML = docLinkHtml;\n",
              "          element.appendChild(docLink);\n",
              "        }\n",
              "      </script>\n",
              "    </div>\n",
              "  </div>\n",
              "  "
            ]
          },
          "metadata": {},
          "execution_count": 4
        }
      ]
    },
    {
      "cell_type": "code",
      "source": [
        "# smoking history을 숫자형 데이터로 전환\n",
        "smoking_history_mapping = {'never': 0, 'No Info': -1, 'current': 2, 'former': 1, 'ever': 2, 'not current': 0, 'unknown': 999}\n",
        "df['smoking_history'] = df['smoking_history'].map(smoking_history_mapping)\n",
        "df.head()"
      ],
      "metadata": {
        "colab": {
          "base_uri": "https://localhost:8080/",
          "height": 206
        },
        "id": "RlpzYOhXyIOp",
        "outputId": "c0c15882-6b4a-4796-ee9d-e15a1429dbfe"
      },
      "execution_count": 5,
      "outputs": [
        {
          "output_type": "execute_result",
          "data": {
            "text/plain": [
              "   gender   age  hypertension  heart_disease  smoking_history    bmi  \\\n",
              "0       0  80.0             0              1                0  25.19   \n",
              "1       0  54.0             0              0               -1  27.32   \n",
              "2       1  28.0             0              0                0  27.32   \n",
              "3       0  36.0             0              0                2  23.45   \n",
              "4       1  76.0             1              1                2  20.14   \n",
              "\n",
              "   HbA1c_level  blood_glucose_level  diabetes  \n",
              "0          6.6                  140         0  \n",
              "1          6.6                   80         0  \n",
              "2          5.7                  158         0  \n",
              "3          5.0                  155         0  \n",
              "4          4.8                  155         0  "
            ],
            "text/html": [
              "\n",
              "  <div id=\"df-a68fc39c-c4f8-453c-8134-82fed034bbaa\">\n",
              "    <div class=\"colab-df-container\">\n",
              "      <div>\n",
              "<style scoped>\n",
              "    .dataframe tbody tr th:only-of-type {\n",
              "        vertical-align: middle;\n",
              "    }\n",
              "\n",
              "    .dataframe tbody tr th {\n",
              "        vertical-align: top;\n",
              "    }\n",
              "\n",
              "    .dataframe thead th {\n",
              "        text-align: right;\n",
              "    }\n",
              "</style>\n",
              "<table border=\"1\" class=\"dataframe\">\n",
              "  <thead>\n",
              "    <tr style=\"text-align: right;\">\n",
              "      <th></th>\n",
              "      <th>gender</th>\n",
              "      <th>age</th>\n",
              "      <th>hypertension</th>\n",
              "      <th>heart_disease</th>\n",
              "      <th>smoking_history</th>\n",
              "      <th>bmi</th>\n",
              "      <th>HbA1c_level</th>\n",
              "      <th>blood_glucose_level</th>\n",
              "      <th>diabetes</th>\n",
              "    </tr>\n",
              "  </thead>\n",
              "  <tbody>\n",
              "    <tr>\n",
              "      <th>0</th>\n",
              "      <td>0</td>\n",
              "      <td>80.0</td>\n",
              "      <td>0</td>\n",
              "      <td>1</td>\n",
              "      <td>0</td>\n",
              "      <td>25.19</td>\n",
              "      <td>6.6</td>\n",
              "      <td>140</td>\n",
              "      <td>0</td>\n",
              "    </tr>\n",
              "    <tr>\n",
              "      <th>1</th>\n",
              "      <td>0</td>\n",
              "      <td>54.0</td>\n",
              "      <td>0</td>\n",
              "      <td>0</td>\n",
              "      <td>-1</td>\n",
              "      <td>27.32</td>\n",
              "      <td>6.6</td>\n",
              "      <td>80</td>\n",
              "      <td>0</td>\n",
              "    </tr>\n",
              "    <tr>\n",
              "      <th>2</th>\n",
              "      <td>1</td>\n",
              "      <td>28.0</td>\n",
              "      <td>0</td>\n",
              "      <td>0</td>\n",
              "      <td>0</td>\n",
              "      <td>27.32</td>\n",
              "      <td>5.7</td>\n",
              "      <td>158</td>\n",
              "      <td>0</td>\n",
              "    </tr>\n",
              "    <tr>\n",
              "      <th>3</th>\n",
              "      <td>0</td>\n",
              "      <td>36.0</td>\n",
              "      <td>0</td>\n",
              "      <td>0</td>\n",
              "      <td>2</td>\n",
              "      <td>23.45</td>\n",
              "      <td>5.0</td>\n",
              "      <td>155</td>\n",
              "      <td>0</td>\n",
              "    </tr>\n",
              "    <tr>\n",
              "      <th>4</th>\n",
              "      <td>1</td>\n",
              "      <td>76.0</td>\n",
              "      <td>1</td>\n",
              "      <td>1</td>\n",
              "      <td>2</td>\n",
              "      <td>20.14</td>\n",
              "      <td>4.8</td>\n",
              "      <td>155</td>\n",
              "      <td>0</td>\n",
              "    </tr>\n",
              "  </tbody>\n",
              "</table>\n",
              "</div>\n",
              "      <button class=\"colab-df-convert\" onclick=\"convertToInteractive('df-a68fc39c-c4f8-453c-8134-82fed034bbaa')\"\n",
              "              title=\"Convert this dataframe to an interactive table.\"\n",
              "              style=\"display:none;\">\n",
              "        \n",
              "  <svg xmlns=\"http://www.w3.org/2000/svg\" height=\"24px\"viewBox=\"0 0 24 24\"\n",
              "       width=\"24px\">\n",
              "    <path d=\"M0 0h24v24H0V0z\" fill=\"none\"/>\n",
              "    <path d=\"M18.56 5.44l.94 2.06.94-2.06 2.06-.94-2.06-.94-.94-2.06-.94 2.06-2.06.94zm-11 1L8.5 8.5l.94-2.06 2.06-.94-2.06-.94L8.5 2.5l-.94 2.06-2.06.94zm10 10l.94 2.06.94-2.06 2.06-.94-2.06-.94-.94-2.06-.94 2.06-2.06.94z\"/><path d=\"M17.41 7.96l-1.37-1.37c-.4-.4-.92-.59-1.43-.59-.52 0-1.04.2-1.43.59L10.3 9.45l-7.72 7.72c-.78.78-.78 2.05 0 2.83L4 21.41c.39.39.9.59 1.41.59.51 0 1.02-.2 1.41-.59l7.78-7.78 2.81-2.81c.8-.78.8-2.07 0-2.86zM5.41 20L4 18.59l7.72-7.72 1.47 1.35L5.41 20z\"/>\n",
              "  </svg>\n",
              "      </button>\n",
              "      \n",
              "  <style>\n",
              "    .colab-df-container {\n",
              "      display:flex;\n",
              "      flex-wrap:wrap;\n",
              "      gap: 12px;\n",
              "    }\n",
              "\n",
              "    .colab-df-convert {\n",
              "      background-color: #E8F0FE;\n",
              "      border: none;\n",
              "      border-radius: 50%;\n",
              "      cursor: pointer;\n",
              "      display: none;\n",
              "      fill: #1967D2;\n",
              "      height: 32px;\n",
              "      padding: 0 0 0 0;\n",
              "      width: 32px;\n",
              "    }\n",
              "\n",
              "    .colab-df-convert:hover {\n",
              "      background-color: #E2EBFA;\n",
              "      box-shadow: 0px 1px 2px rgba(60, 64, 67, 0.3), 0px 1px 3px 1px rgba(60, 64, 67, 0.15);\n",
              "      fill: #174EA6;\n",
              "    }\n",
              "\n",
              "    [theme=dark] .colab-df-convert {\n",
              "      background-color: #3B4455;\n",
              "      fill: #D2E3FC;\n",
              "    }\n",
              "\n",
              "    [theme=dark] .colab-df-convert:hover {\n",
              "      background-color: #434B5C;\n",
              "      box-shadow: 0px 1px 3px 1px rgba(0, 0, 0, 0.15);\n",
              "      filter: drop-shadow(0px 1px 2px rgba(0, 0, 0, 0.3));\n",
              "      fill: #FFFFFF;\n",
              "    }\n",
              "  </style>\n",
              "\n",
              "      <script>\n",
              "        const buttonEl =\n",
              "          document.querySelector('#df-a68fc39c-c4f8-453c-8134-82fed034bbaa button.colab-df-convert');\n",
              "        buttonEl.style.display =\n",
              "          google.colab.kernel.accessAllowed ? 'block' : 'none';\n",
              "\n",
              "        async function convertToInteractive(key) {\n",
              "          const element = document.querySelector('#df-a68fc39c-c4f8-453c-8134-82fed034bbaa');\n",
              "          const dataTable =\n",
              "            await google.colab.kernel.invokeFunction('convertToInteractive',\n",
              "                                                     [key], {});\n",
              "          if (!dataTable) return;\n",
              "\n",
              "          const docLinkHtml = 'Like what you see? Visit the ' +\n",
              "            '<a target=\"_blank\" href=https://colab.research.google.com/notebooks/data_table.ipynb>data table notebook</a>'\n",
              "            + ' to learn more about interactive tables.';\n",
              "          element.innerHTML = '';\n",
              "          dataTable['output_type'] = 'display_data';\n",
              "          await google.colab.output.renderOutput(dataTable, element);\n",
              "          const docLink = document.createElement('div');\n",
              "          docLink.innerHTML = docLinkHtml;\n",
              "          element.appendChild(docLink);\n",
              "        }\n",
              "      </script>\n",
              "    </div>\n",
              "  </div>\n",
              "  "
            ]
          },
          "metadata": {},
          "execution_count": 5
        }
      ]
    },
    {
      "cell_type": "code",
      "source": [
        "df = df[df['age'].mod(1) == 0] # 'age' 열의 값이 정수인 행들만 선택\n",
        "df"
      ],
      "metadata": {
        "colab": {
          "base_uri": "https://localhost:8080/",
          "height": 424
        },
        "id": "mEPbQNz7gnu-",
        "outputId": "8ba9dac6-95ba-4caf-a753-57c2b390a844"
      },
      "execution_count": 7,
      "outputs": [
        {
          "output_type": "execute_result",
          "data": {
            "text/plain": [
              "       gender   age  hypertension  heart_disease  smoking_history    bmi  \\\n",
              "0           0  80.0             0              1                0  25.19   \n",
              "1           0  54.0             0              0               -1  27.32   \n",
              "2           1  28.0             0              0                0  27.32   \n",
              "3           0  36.0             0              0                2  23.45   \n",
              "4           1  76.0             1              1                2  20.14   \n",
              "...       ...   ...           ...            ...              ...    ...   \n",
              "99994       0  36.0             0              0               -1  24.60   \n",
              "99996       0   2.0             0              0               -1  17.37   \n",
              "99997       1  66.0             0              0                1  27.83   \n",
              "99998       0  24.0             0              0                0  35.42   \n",
              "99999       0  57.0             0              0                2  22.43   \n",
              "\n",
              "       HbA1c_level  blood_glucose_level  diabetes  \n",
              "0              6.6                  140         0  \n",
              "1              6.6                   80         0  \n",
              "2              5.7                  158         0  \n",
              "3              5.0                  155         0  \n",
              "4              4.8                  155         0  \n",
              "...            ...                  ...       ...  \n",
              "99994          4.8                  145         0  \n",
              "99996          6.5                  100         0  \n",
              "99997          5.7                  155         0  \n",
              "99998          4.0                  100         0  \n",
              "99999          6.6                   90         0  \n",
              "\n",
              "[94133 rows x 9 columns]"
            ],
            "text/html": [
              "\n",
              "  <div id=\"df-7ceb0ea6-1a56-40ff-95f6-a46fb9930fb6\">\n",
              "    <div class=\"colab-df-container\">\n",
              "      <div>\n",
              "<style scoped>\n",
              "    .dataframe tbody tr th:only-of-type {\n",
              "        vertical-align: middle;\n",
              "    }\n",
              "\n",
              "    .dataframe tbody tr th {\n",
              "        vertical-align: top;\n",
              "    }\n",
              "\n",
              "    .dataframe thead th {\n",
              "        text-align: right;\n",
              "    }\n",
              "</style>\n",
              "<table border=\"1\" class=\"dataframe\">\n",
              "  <thead>\n",
              "    <tr style=\"text-align: right;\">\n",
              "      <th></th>\n",
              "      <th>gender</th>\n",
              "      <th>age</th>\n",
              "      <th>hypertension</th>\n",
              "      <th>heart_disease</th>\n",
              "      <th>smoking_history</th>\n",
              "      <th>bmi</th>\n",
              "      <th>HbA1c_level</th>\n",
              "      <th>blood_glucose_level</th>\n",
              "      <th>diabetes</th>\n",
              "    </tr>\n",
              "  </thead>\n",
              "  <tbody>\n",
              "    <tr>\n",
              "      <th>0</th>\n",
              "      <td>0</td>\n",
              "      <td>80.0</td>\n",
              "      <td>0</td>\n",
              "      <td>1</td>\n",
              "      <td>0</td>\n",
              "      <td>25.19</td>\n",
              "      <td>6.6</td>\n",
              "      <td>140</td>\n",
              "      <td>0</td>\n",
              "    </tr>\n",
              "    <tr>\n",
              "      <th>1</th>\n",
              "      <td>0</td>\n",
              "      <td>54.0</td>\n",
              "      <td>0</td>\n",
              "      <td>0</td>\n",
              "      <td>-1</td>\n",
              "      <td>27.32</td>\n",
              "      <td>6.6</td>\n",
              "      <td>80</td>\n",
              "      <td>0</td>\n",
              "    </tr>\n",
              "    <tr>\n",
              "      <th>2</th>\n",
              "      <td>1</td>\n",
              "      <td>28.0</td>\n",
              "      <td>0</td>\n",
              "      <td>0</td>\n",
              "      <td>0</td>\n",
              "      <td>27.32</td>\n",
              "      <td>5.7</td>\n",
              "      <td>158</td>\n",
              "      <td>0</td>\n",
              "    </tr>\n",
              "    <tr>\n",
              "      <th>3</th>\n",
              "      <td>0</td>\n",
              "      <td>36.0</td>\n",
              "      <td>0</td>\n",
              "      <td>0</td>\n",
              "      <td>2</td>\n",
              "      <td>23.45</td>\n",
              "      <td>5.0</td>\n",
              "      <td>155</td>\n",
              "      <td>0</td>\n",
              "    </tr>\n",
              "    <tr>\n",
              "      <th>4</th>\n",
              "      <td>1</td>\n",
              "      <td>76.0</td>\n",
              "      <td>1</td>\n",
              "      <td>1</td>\n",
              "      <td>2</td>\n",
              "      <td>20.14</td>\n",
              "      <td>4.8</td>\n",
              "      <td>155</td>\n",
              "      <td>0</td>\n",
              "    </tr>\n",
              "    <tr>\n",
              "      <th>...</th>\n",
              "      <td>...</td>\n",
              "      <td>...</td>\n",
              "      <td>...</td>\n",
              "      <td>...</td>\n",
              "      <td>...</td>\n",
              "      <td>...</td>\n",
              "      <td>...</td>\n",
              "      <td>...</td>\n",
              "      <td>...</td>\n",
              "    </tr>\n",
              "    <tr>\n",
              "      <th>99994</th>\n",
              "      <td>0</td>\n",
              "      <td>36.0</td>\n",
              "      <td>0</td>\n",
              "      <td>0</td>\n",
              "      <td>-1</td>\n",
              "      <td>24.60</td>\n",
              "      <td>4.8</td>\n",
              "      <td>145</td>\n",
              "      <td>0</td>\n",
              "    </tr>\n",
              "    <tr>\n",
              "      <th>99996</th>\n",
              "      <td>0</td>\n",
              "      <td>2.0</td>\n",
              "      <td>0</td>\n",
              "      <td>0</td>\n",
              "      <td>-1</td>\n",
              "      <td>17.37</td>\n",
              "      <td>6.5</td>\n",
              "      <td>100</td>\n",
              "      <td>0</td>\n",
              "    </tr>\n",
              "    <tr>\n",
              "      <th>99997</th>\n",
              "      <td>1</td>\n",
              "      <td>66.0</td>\n",
              "      <td>0</td>\n",
              "      <td>0</td>\n",
              "      <td>1</td>\n",
              "      <td>27.83</td>\n",
              "      <td>5.7</td>\n",
              "      <td>155</td>\n",
              "      <td>0</td>\n",
              "    </tr>\n",
              "    <tr>\n",
              "      <th>99998</th>\n",
              "      <td>0</td>\n",
              "      <td>24.0</td>\n",
              "      <td>0</td>\n",
              "      <td>0</td>\n",
              "      <td>0</td>\n",
              "      <td>35.42</td>\n",
              "      <td>4.0</td>\n",
              "      <td>100</td>\n",
              "      <td>0</td>\n",
              "    </tr>\n",
              "    <tr>\n",
              "      <th>99999</th>\n",
              "      <td>0</td>\n",
              "      <td>57.0</td>\n",
              "      <td>0</td>\n",
              "      <td>0</td>\n",
              "      <td>2</td>\n",
              "      <td>22.43</td>\n",
              "      <td>6.6</td>\n",
              "      <td>90</td>\n",
              "      <td>0</td>\n",
              "    </tr>\n",
              "  </tbody>\n",
              "</table>\n",
              "<p>94133 rows × 9 columns</p>\n",
              "</div>\n",
              "      <button class=\"colab-df-convert\" onclick=\"convertToInteractive('df-7ceb0ea6-1a56-40ff-95f6-a46fb9930fb6')\"\n",
              "              title=\"Convert this dataframe to an interactive table.\"\n",
              "              style=\"display:none;\">\n",
              "        \n",
              "  <svg xmlns=\"http://www.w3.org/2000/svg\" height=\"24px\"viewBox=\"0 0 24 24\"\n",
              "       width=\"24px\">\n",
              "    <path d=\"M0 0h24v24H0V0z\" fill=\"none\"/>\n",
              "    <path d=\"M18.56 5.44l.94 2.06.94-2.06 2.06-.94-2.06-.94-.94-2.06-.94 2.06-2.06.94zm-11 1L8.5 8.5l.94-2.06 2.06-.94-2.06-.94L8.5 2.5l-.94 2.06-2.06.94zm10 10l.94 2.06.94-2.06 2.06-.94-2.06-.94-.94-2.06-.94 2.06-2.06.94z\"/><path d=\"M17.41 7.96l-1.37-1.37c-.4-.4-.92-.59-1.43-.59-.52 0-1.04.2-1.43.59L10.3 9.45l-7.72 7.72c-.78.78-.78 2.05 0 2.83L4 21.41c.39.39.9.59 1.41.59.51 0 1.02-.2 1.41-.59l7.78-7.78 2.81-2.81c.8-.78.8-2.07 0-2.86zM5.41 20L4 18.59l7.72-7.72 1.47 1.35L5.41 20z\"/>\n",
              "  </svg>\n",
              "      </button>\n",
              "      \n",
              "  <style>\n",
              "    .colab-df-container {\n",
              "      display:flex;\n",
              "      flex-wrap:wrap;\n",
              "      gap: 12px;\n",
              "    }\n",
              "\n",
              "    .colab-df-convert {\n",
              "      background-color: #E8F0FE;\n",
              "      border: none;\n",
              "      border-radius: 50%;\n",
              "      cursor: pointer;\n",
              "      display: none;\n",
              "      fill: #1967D2;\n",
              "      height: 32px;\n",
              "      padding: 0 0 0 0;\n",
              "      width: 32px;\n",
              "    }\n",
              "\n",
              "    .colab-df-convert:hover {\n",
              "      background-color: #E2EBFA;\n",
              "      box-shadow: 0px 1px 2px rgba(60, 64, 67, 0.3), 0px 1px 3px 1px rgba(60, 64, 67, 0.15);\n",
              "      fill: #174EA6;\n",
              "    }\n",
              "\n",
              "    [theme=dark] .colab-df-convert {\n",
              "      background-color: #3B4455;\n",
              "      fill: #D2E3FC;\n",
              "    }\n",
              "\n",
              "    [theme=dark] .colab-df-convert:hover {\n",
              "      background-color: #434B5C;\n",
              "      box-shadow: 0px 1px 3px 1px rgba(0, 0, 0, 0.15);\n",
              "      filter: drop-shadow(0px 1px 2px rgba(0, 0, 0, 0.3));\n",
              "      fill: #FFFFFF;\n",
              "    }\n",
              "  </style>\n",
              "\n",
              "      <script>\n",
              "        const buttonEl =\n",
              "          document.querySelector('#df-7ceb0ea6-1a56-40ff-95f6-a46fb9930fb6 button.colab-df-convert');\n",
              "        buttonEl.style.display =\n",
              "          google.colab.kernel.accessAllowed ? 'block' : 'none';\n",
              "\n",
              "        async function convertToInteractive(key) {\n",
              "          const element = document.querySelector('#df-7ceb0ea6-1a56-40ff-95f6-a46fb9930fb6');\n",
              "          const dataTable =\n",
              "            await google.colab.kernel.invokeFunction('convertToInteractive',\n",
              "                                                     [key], {});\n",
              "          if (!dataTable) return;\n",
              "\n",
              "          const docLinkHtml = 'Like what you see? Visit the ' +\n",
              "            '<a target=\"_blank\" href=https://colab.research.google.com/notebooks/data_table.ipynb>data table notebook</a>'\n",
              "            + ' to learn more about interactive tables.';\n",
              "          element.innerHTML = '';\n",
              "          dataTable['output_type'] = 'display_data';\n",
              "          await google.colab.output.renderOutput(dataTable, element);\n",
              "          const docLink = document.createElement('div');\n",
              "          docLink.innerHTML = docLinkHtml;\n",
              "          element.appendChild(docLink);\n",
              "        }\n",
              "      </script>\n",
              "    </div>\n",
              "  </div>\n",
              "  "
            ]
          },
          "metadata": {},
          "execution_count": 7
        }
      ]
    },
    {
      "cell_type": "code",
      "source": [
        "df['age'] = df['age'].astype(int) # age열의 데이터 타입을 int로 변환"
      ],
      "metadata": {
        "id": "Ly5Ux6s-g23y"
      },
      "execution_count": 8,
      "outputs": []
    },
    {
      "cell_type": "code",
      "source": [
        "df.info()"
      ],
      "metadata": {
        "colab": {
          "base_uri": "https://localhost:8080/"
        },
        "id": "31cZnr0TFcGC",
        "outputId": "7193d83b-c482-41ba-ce91-4c55b76a31d6"
      },
      "execution_count": 9,
      "outputs": [
        {
          "output_type": "stream",
          "name": "stdout",
          "text": [
            "<class 'pandas.core.frame.DataFrame'>\n",
            "Int64Index: 94133 entries, 0 to 99999\n",
            "Data columns (total 9 columns):\n",
            " #   Column               Non-Null Count  Dtype  \n",
            "---  ------               --------------  -----  \n",
            " 0   gender               94133 non-null  int64  \n",
            " 1   age                  94133 non-null  int64  \n",
            " 2   hypertension         94133 non-null  int64  \n",
            " 3   heart_disease        94133 non-null  int64  \n",
            " 4   smoking_history      94133 non-null  int64  \n",
            " 5   bmi                  94133 non-null  float64\n",
            " 6   HbA1c_level          94133 non-null  float64\n",
            " 7   blood_glucose_level  94133 non-null  int64  \n",
            " 8   diabetes             94133 non-null  int64  \n",
            "dtypes: float64(2), int64(7)\n",
            "memory usage: 7.2 MB\n"
          ]
        }
      ]
    },
    {
      "cell_type": "code",
      "source": [
        "X = df.iloc[:,:-1].values # 마지막 열을 제외한 모든 열을 선택\n",
        "y = df.iloc[:,-1].values  # 마지막 열을 선택, 타켓 변수 = diabetes"
      ],
      "metadata": {
        "id": "Qe2Ky8gaiZrF"
      },
      "execution_count": 10,
      "outputs": []
    },
    {
      "cell_type": "code",
      "source": [
        "from sklearn.model_selection import train_test_split # train set과 test set을 나누기 위해 import\n",
        "\n",
        "# 데이터를 train set과 test set으로 분할\n",
        "X_train, X_test, y_train, y_test = train_test_split(X, y, train_size=0.8, random_state=42)\n",
        "\n",
        "# train set에서 validation set을 따로 분할\n",
        "X_train, X_val, y_train, y_val = train_test_split(X_train, y_train, test_size=0.2, random_state=42)\n",
        "X_train, X_val, y_train, y_val = train_test_split(X_train, y_train, test_size=0.2, random_state=42)"
      ],
      "metadata": {
        "id": "r7OG8IRCif9z"
      },
      "execution_count": 11,
      "outputs": []
    },
    {
      "cell_type": "code",
      "source": [
        "# standardization\n",
        "from sklearn import preprocessing\n",
        "stand = preprocessing.StandardScaler()\n",
        "\n",
        "X_train = stand.fit_transform(X_train) # train set의 독립변수\n",
        "X_test = stand.transform(X_test) # test set의 독립변수\n",
        "X_val  = stand.transform(X_val)  # validation의 독립변수"
      ],
      "metadata": {
        "id": "UocOwsJFij8L"
      },
      "execution_count": 12,
      "outputs": []
    },
    {
      "cell_type": "code",
      "source": [
        "X_train"
      ],
      "metadata": {
        "colab": {
          "base_uri": "https://localhost:8080/"
        },
        "id": "8GEcMIhW9SHA",
        "outputId": "cceea90f-dbdd-4a86-a427-0d9e384f9b0a"
      },
      "execution_count": 13,
      "outputs": [
        {
          "output_type": "execute_result",
          "data": {
            "text/plain": [
              "array([[-0.84060846,  1.47575305, -0.29627002, ...,  0.26223806,\n",
              "        -0.50124054,  0.03942913],\n",
              "       [-0.84060846,  0.01311052, -0.29627002, ..., -0.0310244 ,\n",
              "         0.62259817,  0.03942913],\n",
              "       [ 1.18798925, -0.35255011, -0.29627002, ..., -0.0833927 ,\n",
              "        -0.50124054,  0.4777377 ],\n",
              "       ...,\n",
              "       [-0.84060846,  0.24164842, -0.29627002, ...,  1.67917458,\n",
              "         0.52894495, -1.29984706],\n",
              "       [ 1.18798925,  0.74443179, -0.29627002, ...,  0.22183966,\n",
              "         3.05758204,  3.93550531],\n",
              "       [-0.84060846, -0.94674864, -0.29627002, ..., -0.98562366,\n",
              "        -1.43777279,  1.5004577 ]])"
            ]
          },
          "metadata": {},
          "execution_count": 13
        }
      ]
    },
    {
      "cell_type": "code",
      "source": [
        "X_test"
      ],
      "metadata": {
        "colab": {
          "base_uri": "https://localhost:8080/"
        },
        "id": "5wma2G629SLj",
        "outputId": "503bf579-2f8c-45b0-f8c7-264c64a17801"
      },
      "execution_count": 14,
      "outputs": [
        {
          "output_type": "execute_result",
          "data": {
            "text/plain": [
              "array([[ 1.18798925,  0.60730905, -0.29627002, ...,  0.37894456,\n",
              "         0.15433204, -0.93458992],\n",
              "       [-0.84060846, -0.1697198 , -0.29627002, ..., -0.97814248,\n",
              "        -0.50124054,  1.5004577 ],\n",
              "       [-0.84060846,  1.1558    , -0.29627002, ..., -0.0310244 ,\n",
              "        -0.68854699,  0.03942913],\n",
              "       ...,\n",
              "       [ 1.18798925, -0.99245622, -0.29627002, ..., -0.41106862,\n",
              "        -0.50124054,  0.50208817],\n",
              "       [-0.84060846, -0.8096259 , -0.29627002, ...,  1.17793516,\n",
              "         0.43529172, -0.93458992],\n",
              "       [ 1.18798925, -1.26670169, -0.29627002, ..., -0.91978923,\n",
              "         0.24798527, -0.20407563]])"
            ]
          },
          "metadata": {},
          "execution_count": 14
        }
      ]
    },
    {
      "cell_type": "code",
      "source": [
        "X_val"
      ],
      "metadata": {
        "colab": {
          "base_uri": "https://localhost:8080/"
        },
        "id": "inG_r9mZ9SPi",
        "outputId": "f4c8ab26-185c-4a18-88ba-fe0812134c03"
      },
      "execution_count": 15,
      "outputs": [
        {
          "output_type": "execute_result",
          "data": {
            "text/plain": [
              "array([[-0.84060846, -0.71821074, -0.29627002, ..., -0.0310244 ,\n",
              "         0.24798527,  0.50208817],\n",
              "       [ 1.18798925, -1.58665475, -0.29627002, ..., -1.80705782,\n",
              "        -0.50124054,  0.50208817],\n",
              "       [-0.84060846,  1.65858337, -0.29627002, ..., -1.06941294,\n",
              "        -0.96950667, -0.30147754],\n",
              "       ...,\n",
              "       [-0.84060846,  0.01311052, -0.29627002, ...,  1.11210073,\n",
              "         0.43529172, -0.93458992],\n",
              "       [-0.84060846,  0.24164842, -0.29627002, ..., -0.31530945,\n",
              "        -0.96950667, -1.29984706],\n",
              "       [-0.84060846,  0.0588181 ,  3.37529938, ..., -0.0310244 ,\n",
              "         0.99721108, -1.17809468]])"
            ]
          },
          "metadata": {},
          "execution_count": 15
        }
      ]
    },
    {
      "cell_type": "code",
      "source": [
        "# 신경망 모델 구성\n",
        "import tensorflow as tf\n",
        "ann = tf.keras.models.Sequential()\n",
        "ann.add(tf.keras.layers.Dense(units = 6, activation = 'relu'))\n",
        "ann.add(tf.keras.layers.Dense(units = 6, activation = 'relu'))\n",
        "ann.add(tf.keras.layers.Dense(units = 1, activation = 'sigmoid'))"
      ],
      "metadata": {
        "id": "M3Dxa7SjiwJs"
      },
      "execution_count": 17,
      "outputs": []
    },
    {
      "cell_type": "code",
      "source": [
        "# 컴파일 및 훈련\n",
        "ann.compile(optimizer = 'adam', loss = 'binary_crossentropy', metrics = ['accuracy'])\n",
        "ann.fit(X_train, y_train, batch_size=32, epochs = 30, validation_data = (X_val, y_val))"
      ],
      "metadata": {
        "colab": {
          "base_uri": "https://localhost:8080/"
        },
        "id": "dE7uAJdfjFXO",
        "outputId": "e653d220-906f-4082-9a54-4102a4645a41"
      },
      "execution_count": 18,
      "outputs": [
        {
          "output_type": "stream",
          "name": "stdout",
          "text": [
            "Epoch 1/30\n",
            "1507/1507 [==============================] - 4s 2ms/step - loss: 0.2209 - accuracy: 0.9315 - val_loss: 0.1258 - val_accuracy: 0.9559\n",
            "Epoch 2/30\n",
            "1507/1507 [==============================] - 3s 2ms/step - loss: 0.1245 - accuracy: 0.9566 - val_loss: 0.1200 - val_accuracy: 0.9571\n",
            "Epoch 3/30\n",
            "1507/1507 [==============================] - 2s 2ms/step - loss: 0.1222 - accuracy: 0.9569 - val_loss: 0.1189 - val_accuracy: 0.9572\n",
            "Epoch 4/30\n",
            "1507/1507 [==============================] - 3s 2ms/step - loss: 0.1217 - accuracy: 0.9580 - val_loss: 0.1207 - val_accuracy: 0.9553\n",
            "Epoch 5/30\n",
            "1507/1507 [==============================] - 3s 2ms/step - loss: 0.1213 - accuracy: 0.9580 - val_loss: 0.1185 - val_accuracy: 0.9576\n",
            "Epoch 6/30\n",
            "1507/1507 [==============================] - 3s 2ms/step - loss: 0.1212 - accuracy: 0.9577 - val_loss: 0.1188 - val_accuracy: 0.9575\n",
            "Epoch 7/30\n",
            "1507/1507 [==============================] - 3s 2ms/step - loss: 0.1212 - accuracy: 0.9577 - val_loss: 0.1182 - val_accuracy: 0.9574\n",
            "Epoch 8/30\n",
            "1507/1507 [==============================] - 3s 2ms/step - loss: 0.1209 - accuracy: 0.9579 - val_loss: 0.1184 - val_accuracy: 0.9583\n",
            "Epoch 9/30\n",
            "1507/1507 [==============================] - 3s 2ms/step - loss: 0.1210 - accuracy: 0.9577 - val_loss: 0.1186 - val_accuracy: 0.9573\n",
            "Epoch 10/30\n",
            "1507/1507 [==============================] - 3s 2ms/step - loss: 0.1210 - accuracy: 0.9575 - val_loss: 0.1181 - val_accuracy: 0.9581\n",
            "Epoch 11/30\n",
            "1507/1507 [==============================] - 3s 2ms/step - loss: 0.1207 - accuracy: 0.9580 - val_loss: 0.1205 - val_accuracy: 0.9554\n",
            "Epoch 12/30\n",
            "1507/1507 [==============================] - 2s 2ms/step - loss: 0.1208 - accuracy: 0.9577 - val_loss: 0.1178 - val_accuracy: 0.9573\n",
            "Epoch 13/30\n",
            "1507/1507 [==============================] - 2s 2ms/step - loss: 0.1205 - accuracy: 0.9580 - val_loss: 0.1177 - val_accuracy: 0.9578\n",
            "Epoch 14/30\n",
            "1507/1507 [==============================] - 3s 2ms/step - loss: 0.1205 - accuracy: 0.9579 - val_loss: 0.1181 - val_accuracy: 0.9565\n",
            "Epoch 15/30\n",
            "1507/1507 [==============================] - 3s 2ms/step - loss: 0.1204 - accuracy: 0.9578 - val_loss: 0.1181 - val_accuracy: 0.9563\n",
            "Epoch 16/30\n",
            "1507/1507 [==============================] - 3s 2ms/step - loss: 0.1200 - accuracy: 0.9579 - val_loss: 0.1176 - val_accuracy: 0.9576\n",
            "Epoch 17/30\n",
            "1507/1507 [==============================] - 3s 2ms/step - loss: 0.1198 - accuracy: 0.9577 - val_loss: 0.1180 - val_accuracy: 0.9578\n",
            "Epoch 18/30\n",
            "1507/1507 [==============================] - 3s 2ms/step - loss: 0.1198 - accuracy: 0.9581 - val_loss: 0.1174 - val_accuracy: 0.9578\n",
            "Epoch 19/30\n",
            "1507/1507 [==============================] - 3s 2ms/step - loss: 0.1197 - accuracy: 0.9580 - val_loss: 0.1175 - val_accuracy: 0.9577\n",
            "Epoch 20/30\n",
            "1507/1507 [==============================] - 3s 2ms/step - loss: 0.1196 - accuracy: 0.9580 - val_loss: 0.1172 - val_accuracy: 0.9576\n",
            "Epoch 21/30\n",
            "1507/1507 [==============================] - 3s 2ms/step - loss: 0.1194 - accuracy: 0.9579 - val_loss: 0.1169 - val_accuracy: 0.9578\n",
            "Epoch 22/30\n",
            "1507/1507 [==============================] - 3s 2ms/step - loss: 0.1193 - accuracy: 0.9578 - val_loss: 0.1169 - val_accuracy: 0.9574\n",
            "Epoch 23/30\n",
            "1507/1507 [==============================] - 3s 2ms/step - loss: 0.1191 - accuracy: 0.9580 - val_loss: 0.1174 - val_accuracy: 0.9572\n",
            "Epoch 24/30\n",
            "1507/1507 [==============================] - 3s 2ms/step - loss: 0.1191 - accuracy: 0.9580 - val_loss: 0.1169 - val_accuracy: 0.9568\n",
            "Epoch 25/30\n",
            "1507/1507 [==============================] - 4s 2ms/step - loss: 0.1191 - accuracy: 0.9578 - val_loss: 0.1171 - val_accuracy: 0.9579\n",
            "Epoch 26/30\n",
            "1507/1507 [==============================] - 3s 2ms/step - loss: 0.1191 - accuracy: 0.9576 - val_loss: 0.1167 - val_accuracy: 0.9574\n",
            "Epoch 27/30\n",
            "1507/1507 [==============================] - 3s 2ms/step - loss: 0.1189 - accuracy: 0.9579 - val_loss: 0.1169 - val_accuracy: 0.9574\n",
            "Epoch 28/30\n",
            "1507/1507 [==============================] - 3s 2ms/step - loss: 0.1188 - accuracy: 0.9576 - val_loss: 0.1176 - val_accuracy: 0.9554\n",
            "Epoch 29/30\n",
            "1507/1507 [==============================] - 3s 2ms/step - loss: 0.1188 - accuracy: 0.9578 - val_loss: 0.1169 - val_accuracy: 0.9568\n",
            "Epoch 30/30\n",
            "1507/1507 [==============================] - 3s 2ms/step - loss: 0.1190 - accuracy: 0.9577 - val_loss: 0.1165 - val_accuracy: 0.9569\n"
          ]
        },
        {
          "output_type": "execute_result",
          "data": {
            "text/plain": [
              "<keras.callbacks.History at 0x7f063c1d2350>"
            ]
          },
          "metadata": {},
          "execution_count": 18
        }
      ]
    },
    {
      "cell_type": "code",
      "source": [
        "# 기본 신경망 정확도\n",
        "ann.evaluate(X_test, y_test)"
      ],
      "metadata": {
        "colab": {
          "base_uri": "https://localhost:8080/"
        },
        "id": "Yaa9cL4LDdyL",
        "outputId": "0332fe99-6473-49ed-83ef-d277b3c6afee"
      },
      "execution_count": 19,
      "outputs": [
        {
          "output_type": "stream",
          "name": "stdout",
          "text": [
            "589/589 [==============================] - 1s 1ms/step - loss: 0.1147 - accuracy: 0.9590\n"
          ]
        },
        {
          "output_type": "execute_result",
          "data": {
            "text/plain": [
              "[0.11470173299312592, 0.9589950442314148]"
            ]
          },
          "metadata": {},
          "execution_count": 19
        }
      ]
    },
    {
      "cell_type": "markdown",
      "source": [
        "**He initialization**"
      ],
      "metadata": {
        "id": "6qiRoNML_bxS"
      }
    },
    {
      "cell_type": "code",
      "source": [
        "# He initialization\n",
        "# 뉴런의 개수나 Epoch, 함수 종류는 기존의 신경망과 똑같이 맞췄다.\n",
        "# kernel_initializer = he_normal\n",
        "H_model = tf.keras.Sequential([\n",
        "    tf.keras.layers.Dense(units=6, activation='relu', kernel_initializer='he_normal'),\n",
        "    tf.keras.layers.Dense(units=6, activation='relu', kernel_initializer='he_normal'),\n",
        "    tf.keras.layers.Dense(units=1, activation='sigmoid', kernel_initializer='he_normal')\n",
        "])"
      ],
      "metadata": {
        "id": "eAceVDTa_nOn"
      },
      "execution_count": 24,
      "outputs": []
    },
    {
      "cell_type": "code",
      "source": [
        "# 컴파일 및 훈련\n",
        "H_model.compile(optimizer='adam', loss='binary_crossentropy', metrics=['accuracy'])\n",
        "H_model.fit(X_train, y_train, batch_size=32, epochs=30, validation_data = (X_val, y_val))"
      ],
      "metadata": {
        "colab": {
          "base_uri": "https://localhost:8080/"
        },
        "id": "NB0UOOD3Hhxl",
        "outputId": "3199afde-b74c-4a11-dd2f-fb5352a360ab"
      },
      "execution_count": 25,
      "outputs": [
        {
          "output_type": "stream",
          "name": "stdout",
          "text": [
            "Epoch 1/30\n",
            "1507/1507 [==============================] - 4s 2ms/step - loss: 0.3292 - accuracy: 0.8666 - val_loss: 0.1319 - val_accuracy: 0.9543\n",
            "Epoch 2/30\n",
            "1507/1507 [==============================] - 4s 3ms/step - loss: 0.1274 - accuracy: 0.9564 - val_loss: 0.1210 - val_accuracy: 0.9568\n",
            "Epoch 3/30\n",
            "1507/1507 [==============================] - 4s 3ms/step - loss: 0.1224 - accuracy: 0.9574 - val_loss: 0.1194 - val_accuracy: 0.9576\n",
            "Epoch 4/30\n",
            "1507/1507 [==============================] - 4s 3ms/step - loss: 0.1213 - accuracy: 0.9578 - val_loss: 0.1185 - val_accuracy: 0.9572\n",
            "Epoch 5/30\n",
            "1507/1507 [==============================] - 6s 4ms/step - loss: 0.1202 - accuracy: 0.9579 - val_loss: 0.1171 - val_accuracy: 0.9583\n",
            "Epoch 6/30\n",
            "1507/1507 [==============================] - 3s 2ms/step - loss: 0.1179 - accuracy: 0.9596 - val_loss: 0.1142 - val_accuracy: 0.9602\n",
            "Epoch 7/30\n",
            "1507/1507 [==============================] - 5s 4ms/step - loss: 0.1150 - accuracy: 0.9609 - val_loss: 0.1114 - val_accuracy: 0.9617\n",
            "Epoch 8/30\n",
            "1507/1507 [==============================] - 5s 3ms/step - loss: 0.1122 - accuracy: 0.9615 - val_loss: 0.1093 - val_accuracy: 0.9622\n",
            "Epoch 9/30\n",
            "1507/1507 [==============================] - 5s 3ms/step - loss: 0.1101 - accuracy: 0.9624 - val_loss: 0.1074 - val_accuracy: 0.9635\n",
            "Epoch 10/30\n",
            "1507/1507 [==============================] - 5s 3ms/step - loss: 0.1086 - accuracy: 0.9631 - val_loss: 0.1065 - val_accuracy: 0.9634\n",
            "Epoch 11/30\n",
            "1507/1507 [==============================] - 4s 2ms/step - loss: 0.1076 - accuracy: 0.9633 - val_loss: 0.1057 - val_accuracy: 0.9643\n",
            "Epoch 12/30\n",
            "1507/1507 [==============================] - 4s 3ms/step - loss: 0.1069 - accuracy: 0.9634 - val_loss: 0.1056 - val_accuracy: 0.9637\n",
            "Epoch 13/30\n",
            "1507/1507 [==============================] - 5s 3ms/step - loss: 0.1064 - accuracy: 0.9631 - val_loss: 0.1045 - val_accuracy: 0.9645\n",
            "Epoch 14/30\n",
            "1507/1507 [==============================] - 3s 2ms/step - loss: 0.1060 - accuracy: 0.9639 - val_loss: 0.1052 - val_accuracy: 0.9632\n",
            "Epoch 15/30\n",
            "1507/1507 [==============================] - 4s 3ms/step - loss: 0.1057 - accuracy: 0.9638 - val_loss: 0.1049 - val_accuracy: 0.9636\n",
            "Epoch 16/30\n",
            "1507/1507 [==============================] - 5s 3ms/step - loss: 0.1054 - accuracy: 0.9637 - val_loss: 0.1040 - val_accuracy: 0.9645\n",
            "Epoch 17/30\n",
            "1507/1507 [==============================] - 5s 3ms/step - loss: 0.1051 - accuracy: 0.9636 - val_loss: 0.1038 - val_accuracy: 0.9648\n",
            "Epoch 18/30\n",
            "1507/1507 [==============================] - 4s 3ms/step - loss: 0.1049 - accuracy: 0.9639 - val_loss: 0.1040 - val_accuracy: 0.9635\n",
            "Epoch 19/30\n",
            "1507/1507 [==============================] - 6s 4ms/step - loss: 0.1047 - accuracy: 0.9637 - val_loss: 0.1043 - val_accuracy: 0.9634\n",
            "Epoch 20/30\n",
            "1507/1507 [==============================] - 4s 3ms/step - loss: 0.1046 - accuracy: 0.9638 - val_loss: 0.1033 - val_accuracy: 0.9641\n",
            "Epoch 21/30\n",
            "1507/1507 [==============================] - 3s 2ms/step - loss: 0.1044 - accuracy: 0.9639 - val_loss: 0.1030 - val_accuracy: 0.9646\n",
            "Epoch 22/30\n",
            "1507/1507 [==============================] - 5s 3ms/step - loss: 0.1040 - accuracy: 0.9636 - val_loss: 0.1028 - val_accuracy: 0.9635\n",
            "Epoch 23/30\n",
            "1507/1507 [==============================] - 4s 3ms/step - loss: 0.1040 - accuracy: 0.9637 - val_loss: 0.1027 - val_accuracy: 0.9640\n",
            "Epoch 24/30\n",
            "1507/1507 [==============================] - 5s 3ms/step - loss: 0.1040 - accuracy: 0.9639 - val_loss: 0.1029 - val_accuracy: 0.9645\n",
            "Epoch 25/30\n",
            "1507/1507 [==============================] - 4s 3ms/step - loss: 0.1038 - accuracy: 0.9635 - val_loss: 0.1024 - val_accuracy: 0.9647\n",
            "Epoch 26/30\n",
            "1507/1507 [==============================] - 4s 3ms/step - loss: 0.1037 - accuracy: 0.9640 - val_loss: 0.1029 - val_accuracy: 0.9635\n",
            "Epoch 27/30\n",
            "1507/1507 [==============================] - 5s 3ms/step - loss: 0.1036 - accuracy: 0.9639 - val_loss: 0.1026 - val_accuracy: 0.9642\n",
            "Epoch 28/30\n",
            "1507/1507 [==============================] - 3s 2ms/step - loss: 0.1036 - accuracy: 0.9638 - val_loss: 0.1022 - val_accuracy: 0.9651\n",
            "Epoch 29/30\n",
            "1507/1507 [==============================] - 3s 2ms/step - loss: 0.1035 - accuracy: 0.9640 - val_loss: 0.1025 - val_accuracy: 0.9645\n",
            "Epoch 30/30\n",
            "1507/1507 [==============================] - 3s 2ms/step - loss: 0.1036 - accuracy: 0.9639 - val_loss: 0.1031 - val_accuracy: 0.9628\n"
          ]
        },
        {
          "output_type": "execute_result",
          "data": {
            "text/plain": [
              "<keras.callbacks.History at 0x7f062ae31db0>"
            ]
          },
          "metadata": {},
          "execution_count": 25
        }
      ]
    },
    {
      "cell_type": "code",
      "source": [
        "# H_model의 정확도\n",
        "H_model.evaluate(X_test, y_test)"
      ],
      "metadata": {
        "colab": {
          "base_uri": "https://localhost:8080/"
        },
        "id": "SBh7VONcCrQ2",
        "outputId": "dffe5c1c-91ac-44b7-ef6d-497529a0c19e"
      },
      "execution_count": 26,
      "outputs": [
        {
          "output_type": "stream",
          "name": "stdout",
          "text": [
            "589/589 [==============================] - 1s 1ms/step - loss: 0.1007 - accuracy: 0.9641\n"
          ]
        },
        {
          "output_type": "execute_result",
          "data": {
            "text/plain": [
              "[0.10068409144878387, 0.9641472101211548]"
            ]
          },
          "metadata": {},
          "execution_count": 26
        }
      ]
    },
    {
      "cell_type": "markdown",
      "source": [
        "**Xavier initialization**"
      ],
      "metadata": {
        "id": "MdoRmgJf_jSD"
      }
    },
    {
      "cell_type": "code",
      "source": [
        "# Xavier initialization\n",
        "# X_model 구성\n",
        "# kernel_initializer = glorot_uniform\n",
        "X_model = tf.keras.Sequential([\n",
        "    tf.keras.layers.Dense(units=6, activation='relu', kernel_initializer='glorot_uniform'),\n",
        "    tf.keras.layers.Dense(units=6, activation='relu', kernel_initializer='glorot_uniform'),\n",
        "    tf.keras.layers.Dense(units=1, activation='sigmoid', kernel_initializer='glorot_uniform')\n",
        "])"
      ],
      "metadata": {
        "id": "WSD7QOnL_n7_"
      },
      "execution_count": 27,
      "outputs": []
    },
    {
      "cell_type": "code",
      "source": [
        "# 컴파일 및 훈련\n",
        "X_model.compile(optimizer='adam', loss='binary_crossentropy', metrics=['accuracy'])\n",
        "X_model.fit(X_train, y_train, batch_size=32, epochs=30, validation_data = (X_val, y_val))"
      ],
      "metadata": {
        "colab": {
          "base_uri": "https://localhost:8080/"
        },
        "id": "c9tu5JV5INok",
        "outputId": "4f9c2ac4-6026-4741-c7d7-217d5d2147ce"
      },
      "execution_count": 28,
      "outputs": [
        {
          "output_type": "stream",
          "name": "stdout",
          "text": [
            "Epoch 1/30\n",
            "1507/1507 [==============================] - 4s 2ms/step - loss: 0.2929 - accuracy: 0.8736 - val_loss: 0.1337 - val_accuracy: 0.9474\n",
            "Epoch 2/30\n",
            "1507/1507 [==============================] - 4s 2ms/step - loss: 0.1269 - accuracy: 0.9543 - val_loss: 0.1196 - val_accuracy: 0.9563\n",
            "Epoch 3/30\n",
            "1507/1507 [==============================] - 3s 2ms/step - loss: 0.1210 - accuracy: 0.9575 - val_loss: 0.1164 - val_accuracy: 0.9581\n",
            "Epoch 4/30\n",
            "1507/1507 [==============================] - 3s 2ms/step - loss: 0.1188 - accuracy: 0.9581 - val_loss: 0.1149 - val_accuracy: 0.9591\n",
            "Epoch 5/30\n",
            "1507/1507 [==============================] - 3s 2ms/step - loss: 0.1172 - accuracy: 0.9582 - val_loss: 0.1133 - val_accuracy: 0.9586\n",
            "Epoch 6/30\n",
            "1507/1507 [==============================] - 3s 2ms/step - loss: 0.1158 - accuracy: 0.9583 - val_loss: 0.1128 - val_accuracy: 0.9583\n",
            "Epoch 7/30\n",
            "1507/1507 [==============================] - 3s 2ms/step - loss: 0.1146 - accuracy: 0.9583 - val_loss: 0.1118 - val_accuracy: 0.9586\n",
            "Epoch 8/30\n",
            "1507/1507 [==============================] - 3s 2ms/step - loss: 0.1136 - accuracy: 0.9585 - val_loss: 0.1112 - val_accuracy: 0.9581\n",
            "Epoch 9/30\n",
            "1507/1507 [==============================] - 4s 3ms/step - loss: 0.1129 - accuracy: 0.9583 - val_loss: 0.1102 - val_accuracy: 0.9588\n",
            "Epoch 10/30\n",
            "1507/1507 [==============================] - 3s 2ms/step - loss: 0.1122 - accuracy: 0.9581 - val_loss: 0.1104 - val_accuracy: 0.9576\n",
            "Epoch 11/30\n",
            "1507/1507 [==============================] - 3s 2ms/step - loss: 0.1118 - accuracy: 0.9584 - val_loss: 0.1099 - val_accuracy: 0.9581\n",
            "Epoch 12/30\n",
            "1507/1507 [==============================] - 3s 2ms/step - loss: 0.1114 - accuracy: 0.9585 - val_loss: 0.1092 - val_accuracy: 0.9588\n",
            "Epoch 13/30\n",
            "1507/1507 [==============================] - 3s 2ms/step - loss: 0.1111 - accuracy: 0.9587 - val_loss: 0.1091 - val_accuracy: 0.9579\n",
            "Epoch 14/30\n",
            "1507/1507 [==============================] - 3s 2ms/step - loss: 0.1108 - accuracy: 0.9588 - val_loss: 0.1087 - val_accuracy: 0.9580\n",
            "Epoch 15/30\n",
            "1507/1507 [==============================] - 3s 2ms/step - loss: 0.1105 - accuracy: 0.9590 - val_loss: 0.1088 - val_accuracy: 0.9588\n",
            "Epoch 16/30\n",
            "1507/1507 [==============================] - 3s 2ms/step - loss: 0.1103 - accuracy: 0.9588 - val_loss: 0.1082 - val_accuracy: 0.9578\n",
            "Epoch 17/30\n",
            "1507/1507 [==============================] - 4s 2ms/step - loss: 0.1100 - accuracy: 0.9589 - val_loss: 0.1078 - val_accuracy: 0.9579\n",
            "Epoch 18/30\n",
            "1507/1507 [==============================] - 3s 2ms/step - loss: 0.1099 - accuracy: 0.9589 - val_loss: 0.1074 - val_accuracy: 0.9585\n",
            "Epoch 19/30\n",
            "1507/1507 [==============================] - 3s 2ms/step - loss: 0.1094 - accuracy: 0.9593 - val_loss: 0.1078 - val_accuracy: 0.9580\n",
            "Epoch 20/30\n",
            "1507/1507 [==============================] - 3s 2ms/step - loss: 0.1090 - accuracy: 0.9591 - val_loss: 0.1064 - val_accuracy: 0.9587\n",
            "Epoch 21/30\n",
            "1507/1507 [==============================] - 3s 2ms/step - loss: 0.1085 - accuracy: 0.9598 - val_loss: 0.1059 - val_accuracy: 0.9588\n",
            "Epoch 22/30\n",
            "1507/1507 [==============================] - 3s 2ms/step - loss: 0.1080 - accuracy: 0.9600 - val_loss: 0.1054 - val_accuracy: 0.9588\n",
            "Epoch 23/30\n",
            "1507/1507 [==============================] - 3s 2ms/step - loss: 0.1073 - accuracy: 0.9605 - val_loss: 0.1048 - val_accuracy: 0.9598\n",
            "Epoch 24/30\n",
            "1507/1507 [==============================] - 3s 2ms/step - loss: 0.1062 - accuracy: 0.9607 - val_loss: 0.1030 - val_accuracy: 0.9613\n",
            "Epoch 25/30\n",
            "1507/1507 [==============================] - 3s 2ms/step - loss: 0.1045 - accuracy: 0.9623 - val_loss: 0.1003 - val_accuracy: 0.9634\n",
            "Epoch 26/30\n",
            "1507/1507 [==============================] - 3s 2ms/step - loss: 0.1022 - accuracy: 0.9633 - val_loss: 0.0990 - val_accuracy: 0.9648\n",
            "Epoch 27/30\n",
            "1507/1507 [==============================] - 3s 2ms/step - loss: 0.0993 - accuracy: 0.9654 - val_loss: 0.0961 - val_accuracy: 0.9656\n",
            "Epoch 28/30\n",
            "1507/1507 [==============================] - 4s 2ms/step - loss: 0.0975 - accuracy: 0.9665 - val_loss: 0.0943 - val_accuracy: 0.9659\n",
            "Epoch 29/30\n",
            "1507/1507 [==============================] - 3s 2ms/step - loss: 0.0956 - accuracy: 0.9671 - val_loss: 0.0930 - val_accuracy: 0.9673\n",
            "Epoch 30/30\n",
            "1507/1507 [==============================] - 3s 2ms/step - loss: 0.0945 - accuracy: 0.9674 - val_loss: 0.0913 - val_accuracy: 0.9684\n"
          ]
        },
        {
          "output_type": "execute_result",
          "data": {
            "text/plain": [
              "<keras.callbacks.History at 0x7f062b5027a0>"
            ]
          },
          "metadata": {},
          "execution_count": 28
        }
      ]
    },
    {
      "cell_type": "code",
      "source": [
        "# X_model의 정확도\n",
        "X_model.evaluate(X_test, y_test)"
      ],
      "metadata": {
        "colab": {
          "base_uri": "https://localhost:8080/"
        },
        "id": "EduJIBI_Etxx",
        "outputId": "07c45e4d-3cbd-4afb-d8bb-baabd1421279"
      },
      "execution_count": 29,
      "outputs": [
        {
          "output_type": "stream",
          "name": "stdout",
          "text": [
            "589/589 [==============================] - 1s 2ms/step - loss: 0.0902 - accuracy: 0.9677\n"
          ]
        },
        {
          "output_type": "execute_result",
          "data": {
            "text/plain": [
              "[0.09015793353319168, 0.9677059650421143]"
            ]
          },
          "metadata": {},
          "execution_count": 29
        }
      ]
    },
    {
      "cell_type": "markdown",
      "source": [
        "**Batch normalization**"
      ],
      "metadata": {
        "id": "_v-rmP12Kd4A"
      }
    },
    {
      "cell_type": "code",
      "source": [
        "# Batch normalization\n",
        "# B_moden 구성\n",
        "# tf.keras.layers.BatchNormalization()\n",
        "B_model = tf.keras.Sequential([\n",
        "    tf.keras.layers.Dense(units=6, activation='relu'),\n",
        "    tf.keras.layers.BatchNormalization(),\n",
        "    tf.keras.layers.Dense(units=6, activation='relu'),\n",
        "    tf.keras.layers.BatchNormalization(),\n",
        "    tf.keras.layers.Dense(units=1, activation='sigmoid')\n",
        "])"
      ],
      "metadata": {
        "id": "N4p1PBCiKb1T"
      },
      "execution_count": 30,
      "outputs": []
    },
    {
      "cell_type": "code",
      "source": [
        "# 컴파일 및 훈련\n",
        "B_model.compile(optimizer='adam', loss='binary_crossentropy', metrics=['accuracy'])\n",
        "B_model.fit(X_train, y_train, batch_size=32, epochs=30)"
      ],
      "metadata": {
        "colab": {
          "base_uri": "https://localhost:8080/"
        },
        "id": "4ZJLpOsyIcQT",
        "outputId": "fad44542-3ad5-4ebc-8711-c47868800e84"
      },
      "execution_count": 31,
      "outputs": [
        {
          "output_type": "stream",
          "name": "stdout",
          "text": [
            "Epoch 1/30\n",
            "1507/1507 [==============================] - 6s 3ms/step - loss: 0.2471 - accuracy: 0.9081\n",
            "Epoch 2/30\n",
            "1507/1507 [==============================] - 3s 2ms/step - loss: 0.1387 - accuracy: 0.9508\n",
            "Epoch 3/30\n",
            "1507/1507 [==============================] - 3s 2ms/step - loss: 0.1319 - accuracy: 0.9533\n",
            "Epoch 4/30\n",
            "1507/1507 [==============================] - 4s 3ms/step - loss: 0.1307 - accuracy: 0.9537\n",
            "Epoch 5/30\n",
            "1507/1507 [==============================] - 4s 2ms/step - loss: 0.1275 - accuracy: 0.9547\n",
            "Epoch 6/30\n",
            "1507/1507 [==============================] - 4s 2ms/step - loss: 0.1259 - accuracy: 0.9555\n",
            "Epoch 7/30\n",
            "1507/1507 [==============================] - 4s 3ms/step - loss: 0.1244 - accuracy: 0.9553\n",
            "Epoch 8/30\n",
            "1507/1507 [==============================] - 4s 2ms/step - loss: 0.1219 - accuracy: 0.9561\n",
            "Epoch 9/30\n",
            "1507/1507 [==============================] - 4s 2ms/step - loss: 0.1194 - accuracy: 0.9583\n",
            "Epoch 10/30\n",
            "1507/1507 [==============================] - 4s 2ms/step - loss: 0.1179 - accuracy: 0.9587\n",
            "Epoch 11/30\n",
            "1507/1507 [==============================] - 4s 2ms/step - loss: 0.1161 - accuracy: 0.9584\n",
            "Epoch 12/30\n",
            "1507/1507 [==============================] - 4s 2ms/step - loss: 0.1161 - accuracy: 0.9590\n",
            "Epoch 13/30\n",
            "1507/1507 [==============================] - 3s 2ms/step - loss: 0.1142 - accuracy: 0.9594\n",
            "Epoch 14/30\n",
            "1507/1507 [==============================] - 4s 3ms/step - loss: 0.1138 - accuracy: 0.9600\n",
            "Epoch 15/30\n",
            "1507/1507 [==============================] - 3s 2ms/step - loss: 0.1143 - accuracy: 0.9593\n",
            "Epoch 16/30\n",
            "1507/1507 [==============================] - 3s 2ms/step - loss: 0.1127 - accuracy: 0.9605\n",
            "Epoch 17/30\n",
            "1507/1507 [==============================] - 4s 2ms/step - loss: 0.1122 - accuracy: 0.9601\n",
            "Epoch 18/30\n",
            "1507/1507 [==============================] - 4s 2ms/step - loss: 0.1117 - accuracy: 0.9604\n",
            "Epoch 19/30\n",
            "1507/1507 [==============================] - 4s 2ms/step - loss: 0.1117 - accuracy: 0.9613\n",
            "Epoch 20/30\n",
            "1507/1507 [==============================] - 4s 3ms/step - loss: 0.1109 - accuracy: 0.9612\n",
            "Epoch 21/30\n",
            "1507/1507 [==============================] - 4s 2ms/step - loss: 0.1102 - accuracy: 0.9614\n",
            "Epoch 22/30\n",
            "1507/1507 [==============================] - 3s 2ms/step - loss: 0.1091 - accuracy: 0.9622\n",
            "Epoch 23/30\n",
            "1507/1507 [==============================] - 4s 2ms/step - loss: 0.1084 - accuracy: 0.9623\n",
            "Epoch 24/30\n",
            "1507/1507 [==============================] - 4s 3ms/step - loss: 0.1078 - accuracy: 0.9623\n",
            "Epoch 25/30\n",
            "1507/1507 [==============================] - 3s 2ms/step - loss: 0.1078 - accuracy: 0.9630\n",
            "Epoch 26/30\n",
            "1507/1507 [==============================] - 3s 2ms/step - loss: 0.1065 - accuracy: 0.9630\n",
            "Epoch 27/30\n",
            "1507/1507 [==============================] - 4s 3ms/step - loss: 0.1063 - accuracy: 0.9629\n",
            "Epoch 28/30\n",
            "1507/1507 [==============================] - 3s 2ms/step - loss: 0.1062 - accuracy: 0.9640\n",
            "Epoch 29/30\n",
            "1507/1507 [==============================] - 3s 2ms/step - loss: 0.1044 - accuracy: 0.9641\n",
            "Epoch 30/30\n",
            "1507/1507 [==============================] - 4s 2ms/step - loss: 0.1022 - accuracy: 0.9660\n"
          ]
        },
        {
          "output_type": "execute_result",
          "data": {
            "text/plain": [
              "<keras.callbacks.History at 0x7f062b4af760>"
            ]
          },
          "metadata": {},
          "execution_count": 31
        }
      ]
    },
    {
      "cell_type": "code",
      "source": [
        "# B_model의 정확도\n",
        "B_model.evaluate(X_test, y_test)"
      ],
      "metadata": {
        "colab": {
          "base_uri": "https://localhost:8080/"
        },
        "id": "2JKkukTCK5oc",
        "outputId": "2cedd254-5a0d-4d2d-b83d-8cf2743c3ac1"
      },
      "execution_count": 32,
      "outputs": [
        {
          "output_type": "stream",
          "name": "stdout",
          "text": [
            "589/589 [==============================] - 1s 1ms/step - loss: 0.0924 - accuracy: 0.9689\n"
          ]
        },
        {
          "output_type": "execute_result",
          "data": {
            "text/plain": [
              "[0.0923667624592781, 0.9689276218414307]"
            ]
          },
          "metadata": {},
          "execution_count": 32
        }
      ]
    },
    {
      "cell_type": "markdown",
      "source": [
        "**L1 regularity**"
      ],
      "metadata": {
        "id": "jbxjJQSkLrn-"
      }
    },
    {
      "cell_type": "code",
      "source": [
        "# L1 regularity\n",
        "# L1_model 구성\n",
        "# kernel_regularizer=tf.keras.regularizers.l1(0.01)\n",
        "# L2 regularity를 사용할 때는 regularizers.l2로 바꾸면 된다.\n",
        "L1_model = tf.keras.models.Sequential()\n",
        "L1_model.add(tf.keras.layers.Dense(units = 6, kernel_regularizer=tf.keras.regularizers.l1(0.01), activation = 'relu'))\n",
        "L1_model.add(tf.keras.layers.Dense(units = 6, kernel_regularizer=tf.keras.regularizers.l1(0.01), activation = 'relu'))\n",
        "L1_model.add(tf.keras.layers.Dense(units = 1, activation = 'sigmoid'))"
      ],
      "metadata": {
        "id": "R98w1fFqLr-h"
      },
      "execution_count": 33,
      "outputs": []
    },
    {
      "cell_type": "code",
      "source": [
        "# 컴파일 및 훈련\n",
        "L1_model.compile(optimizer = 'adam', loss = 'binary_crossentropy', metrics = ['accuracy'])\n",
        "history = L1_model.fit(X_train, y_train, batch_size=32, epochs = 30, validation_data = (X_val, y_val))"
      ],
      "metadata": {
        "colab": {
          "base_uri": "https://localhost:8080/"
        },
        "id": "vfLIwlhcIkj7",
        "outputId": "d8fc9baf-097f-47cb-a1b7-b6738a9d82d3"
      },
      "execution_count": 34,
      "outputs": [
        {
          "output_type": "stream",
          "name": "stdout",
          "text": [
            "Epoch 1/30\n",
            "1507/1507 [==============================] - 4s 2ms/step - loss: 0.3892 - accuracy: 0.9054 - val_loss: 0.2003 - val_accuracy: 0.9575\n",
            "Epoch 2/30\n",
            "1507/1507 [==============================] - 4s 2ms/step - loss: 0.1769 - accuracy: 0.9578 - val_loss: 0.1602 - val_accuracy: 0.9578\n",
            "Epoch 3/30\n",
            "1507/1507 [==============================] - 4s 3ms/step - loss: 0.1593 - accuracy: 0.9580 - val_loss: 0.1554 - val_accuracy: 0.9576\n",
            "Epoch 4/30\n",
            "1507/1507 [==============================] - 3s 2ms/step - loss: 0.1561 - accuracy: 0.9579 - val_loss: 0.1526 - val_accuracy: 0.9581\n",
            "Epoch 5/30\n",
            "1507/1507 [==============================] - 3s 2ms/step - loss: 0.1542 - accuracy: 0.9579 - val_loss: 0.1510 - val_accuracy: 0.9577\n",
            "Epoch 6/30\n",
            "1507/1507 [==============================] - 7s 5ms/step - loss: 0.1527 - accuracy: 0.9580 - val_loss: 0.1494 - val_accuracy: 0.9578\n",
            "Epoch 7/30\n",
            "1507/1507 [==============================] - 6s 4ms/step - loss: 0.1516 - accuracy: 0.9581 - val_loss: 0.1484 - val_accuracy: 0.9578\n",
            "Epoch 8/30\n",
            "1507/1507 [==============================] - 8s 5ms/step - loss: 0.1507 - accuracy: 0.9577 - val_loss: 0.1477 - val_accuracy: 0.9583\n",
            "Epoch 9/30\n",
            "1507/1507 [==============================] - 4s 3ms/step - loss: 0.1501 - accuracy: 0.9579 - val_loss: 0.1471 - val_accuracy: 0.9580\n",
            "Epoch 10/30\n",
            "1507/1507 [==============================] - 6s 4ms/step - loss: 0.1496 - accuracy: 0.9580 - val_loss: 0.1464 - val_accuracy: 0.9578\n",
            "Epoch 11/30\n",
            "1507/1507 [==============================] - 4s 3ms/step - loss: 0.1489 - accuracy: 0.9580 - val_loss: 0.1461 - val_accuracy: 0.9583\n",
            "Epoch 12/30\n",
            "1507/1507 [==============================] - 7s 5ms/step - loss: 0.1485 - accuracy: 0.9580 - val_loss: 0.1459 - val_accuracy: 0.9578\n",
            "Epoch 13/30\n",
            "1507/1507 [==============================] - 6s 4ms/step - loss: 0.1479 - accuracy: 0.9582 - val_loss: 0.1450 - val_accuracy: 0.9582\n",
            "Epoch 14/30\n",
            "1507/1507 [==============================] - 5s 3ms/step - loss: 0.1476 - accuracy: 0.9580 - val_loss: 0.1447 - val_accuracy: 0.9576\n",
            "Epoch 15/30\n",
            "1507/1507 [==============================] - 5s 3ms/step - loss: 0.1474 - accuracy: 0.9581 - val_loss: 0.1449 - val_accuracy: 0.9571\n",
            "Epoch 16/30\n",
            "1507/1507 [==============================] - 4s 3ms/step - loss: 0.1469 - accuracy: 0.9577 - val_loss: 0.1441 - val_accuracy: 0.9581\n",
            "Epoch 17/30\n",
            "1507/1507 [==============================] - 3s 2ms/step - loss: 0.1467 - accuracy: 0.9580 - val_loss: 0.1445 - val_accuracy: 0.9570\n",
            "Epoch 18/30\n",
            "1507/1507 [==============================] - 4s 2ms/step - loss: 0.1463 - accuracy: 0.9579 - val_loss: 0.1434 - val_accuracy: 0.9572\n",
            "Epoch 19/30\n",
            "1507/1507 [==============================] - 6s 4ms/step - loss: 0.1463 - accuracy: 0.9581 - val_loss: 0.1432 - val_accuracy: 0.9579\n",
            "Epoch 20/30\n",
            "1507/1507 [==============================] - 3s 2ms/step - loss: 0.1458 - accuracy: 0.9583 - val_loss: 0.1431 - val_accuracy: 0.9577\n",
            "Epoch 21/30\n",
            "1507/1507 [==============================] - 4s 3ms/step - loss: 0.1456 - accuracy: 0.9580 - val_loss: 0.1428 - val_accuracy: 0.9573\n",
            "Epoch 22/30\n",
            "1507/1507 [==============================] - 4s 3ms/step - loss: 0.1454 - accuracy: 0.9580 - val_loss: 0.1424 - val_accuracy: 0.9576\n",
            "Epoch 23/30\n",
            "1507/1507 [==============================] - 5s 3ms/step - loss: 0.1452 - accuracy: 0.9581 - val_loss: 0.1423 - val_accuracy: 0.9578\n",
            "Epoch 24/30\n",
            "1507/1507 [==============================] - 5s 3ms/step - loss: 0.1450 - accuracy: 0.9581 - val_loss: 0.1420 - val_accuracy: 0.9578\n",
            "Epoch 25/30\n",
            "1507/1507 [==============================] - 4s 3ms/step - loss: 0.1447 - accuracy: 0.9581 - val_loss: 0.1417 - val_accuracy: 0.9579\n",
            "Epoch 26/30\n",
            "1507/1507 [==============================] - 6s 4ms/step - loss: 0.1445 - accuracy: 0.9587 - val_loss: 0.1424 - val_accuracy: 0.9576\n",
            "Epoch 27/30\n",
            "1507/1507 [==============================] - 3s 2ms/step - loss: 0.1442 - accuracy: 0.9580 - val_loss: 0.1433 - val_accuracy: 0.9579\n",
            "Epoch 28/30\n",
            "1507/1507 [==============================] - 3s 2ms/step - loss: 0.1441 - accuracy: 0.9581 - val_loss: 0.1410 - val_accuracy: 0.9583\n",
            "Epoch 29/30\n",
            "1507/1507 [==============================] - 5s 3ms/step - loss: 0.1438 - accuracy: 0.9579 - val_loss: 0.1410 - val_accuracy: 0.9578\n",
            "Epoch 30/30\n",
            "1507/1507 [==============================] - 3s 2ms/step - loss: 0.1439 - accuracy: 0.9578 - val_loss: 0.1410 - val_accuracy: 0.9584\n"
          ]
        }
      ]
    },
    {
      "cell_type": "code",
      "source": [
        "# 훈련 세트와 검증 세트의 손실 값 저장\n",
        "train_loss = history.history['loss']\n",
        "val_loss = history.history['val_loss']\n",
        "\n",
        "# epoch에 따른 손실 값 그래프\n",
        "plt.plot(range(1, len(train_loss) + 1), train_loss, label='Train Loss')\n",
        "plt.plot(range(1, len(val_loss) + 1), val_loss, label='Validation Loss')\n",
        "plt.grid(True)\n",
        "plt.xlabel('Epoch')\n",
        "plt.ylabel('Loss')\n",
        "plt.legend()\n",
        "plt.show()"
      ],
      "metadata": {
        "colab": {
          "base_uri": "https://localhost:8080/",
          "height": 453
        },
        "id": "cEQyh4W7UvPO",
        "outputId": "bf532e98-009c-48d8-f9be-e84a985170ce"
      },
      "execution_count": 35,
      "outputs": [
        {
          "output_type": "display_data",
          "data": {
            "text/plain": [
              "<Figure size 640x480 with 1 Axes>"
            ],
            "image/png": "[encoded data removed]"
          },
          "metadata": {}
        }
      ]
    },
    {
      "cell_type": "code",
      "source": [
        "# L1_model의 정확도\n",
        "L1_model.evaluate(X_test, y_test)"
      ],
      "metadata": {
        "colab": {
          "base_uri": "https://localhost:8080/"
        },
        "id": "xtv90ttSNzzS",
        "outputId": "b0fcef67-d59f-4005-ee09-0572139a4a2e"
      },
      "execution_count": 36,
      "outputs": [
        {
          "output_type": "stream",
          "name": "stdout",
          "text": [
            "589/589 [==============================] - 1s 1ms/step - loss: 0.1405 - accuracy: 0.9585\n"
          ]
        },
        {
          "output_type": "execute_result",
          "data": {
            "text/plain": [
              "[0.140473410487175, 0.9585170149803162]"
            ]
          },
          "metadata": {},
          "execution_count": 36
        }
      ]
    },
    {
      "cell_type": "markdown",
      "source": [
        "**Drop out**"
      ],
      "metadata": {
        "id": "laWjWb_xTTlD"
      }
    },
    {
      "cell_type": "code",
      "source": [
        "# Drop out\n",
        "# D_model 구성\n",
        "# initializer은 He initialization을 사용.\n",
        "# tf.keras.layers.Dropout(rate = )\n",
        "D_model = tf.keras.Sequential([\n",
        "    tf.keras.layers.Dense(units=6, activation='relu', kernel_initializer='he_normal'),\n",
        "    tf.keras.layers.Dropout(rate=0.2),\n",
        "    tf.keras.layers.Dense(units=6, activation='relu', kernel_initializer='he_normal'),\n",
        "    tf.keras.layers.Dropout(rate=0.2),\n",
        "    tf.keras.layers.Dense(units=1, activation='sigmoid', kernel_initializer='he_normal')\n",
        "])"
      ],
      "metadata": {
        "id": "v1GWuzaETVd1"
      },
      "execution_count": 37,
      "outputs": []
    },
    {
      "cell_type": "code",
      "source": [
        "# 컴파일 및 훈련\n",
        "D_model.compile(optimizer = 'adam', loss = 'binary_crossentropy', metrics = ['accuracy'])\n",
        "history = D_model.fit(X_train, y_train, batch_size=32, epochs = 30, validation_data = (X_val, y_val))"
      ],
      "metadata": {
        "colab": {
          "base_uri": "https://localhost:8080/"
        },
        "id": "susjcG5FM168",
        "outputId": "7d2459d6-23d9-4324-f3ff-c24cc18718d3"
      },
      "execution_count": 38,
      "outputs": [
        {
          "output_type": "stream",
          "name": "stdout",
          "text": [
            "Epoch 1/30\n",
            "1507/1507 [==============================] - 4s 2ms/step - loss: 0.3258 - accuracy: 0.8702 - val_loss: 0.1735 - val_accuracy: 0.9253\n",
            "Epoch 2/30\n",
            "1507/1507 [==============================] - 4s 2ms/step - loss: 0.1818 - accuracy: 0.9312 - val_loss: 0.1358 - val_accuracy: 0.9543\n",
            "Epoch 3/30\n",
            "1507/1507 [==============================] - 3s 2ms/step - loss: 0.1573 - accuracy: 0.9434 - val_loss: 0.1289 - val_accuracy: 0.9564\n",
            "Epoch 4/30\n",
            "1507/1507 [==============================] - 3s 2ms/step - loss: 0.1459 - accuracy: 0.9485 - val_loss: 0.1211 - val_accuracy: 0.9580\n",
            "Epoch 5/30\n",
            "1507/1507 [==============================] - 3s 2ms/step - loss: 0.1388 - accuracy: 0.9517 - val_loss: 0.1184 - val_accuracy: 0.9582\n",
            "Epoch 6/30\n",
            "1507/1507 [==============================] - 4s 3ms/step - loss: 0.1386 - accuracy: 0.9516 - val_loss: 0.1188 - val_accuracy: 0.9575\n",
            "Epoch 7/30\n",
            "1507/1507 [==============================] - 3s 2ms/step - loss: 0.1371 - accuracy: 0.9522 - val_loss: 0.1168 - val_accuracy: 0.9578\n",
            "Epoch 8/30\n",
            "1507/1507 [==============================] - 3s 2ms/step - loss: 0.1356 - accuracy: 0.9519 - val_loss: 0.1169 - val_accuracy: 0.9579\n",
            "Epoch 9/30\n",
            "1507/1507 [==============================] - 3s 2ms/step - loss: 0.1351 - accuracy: 0.9521 - val_loss: 0.1171 - val_accuracy: 0.9571\n",
            "Epoch 10/30\n",
            "1507/1507 [==============================] - 4s 3ms/step - loss: 0.1355 - accuracy: 0.9516 - val_loss: 0.1170 - val_accuracy: 0.9566\n",
            "Epoch 11/30\n",
            "1507/1507 [==============================] - 3s 2ms/step - loss: 0.1334 - accuracy: 0.9520 - val_loss: 0.1160 - val_accuracy: 0.9570\n",
            "Epoch 12/30\n",
            "1507/1507 [==============================] - 3s 2ms/step - loss: 0.1329 - accuracy: 0.9527 - val_loss: 0.1163 - val_accuracy: 0.9570\n",
            "Epoch 13/30\n",
            "1507/1507 [==============================] - 4s 3ms/step - loss: 0.1336 - accuracy: 0.9518 - val_loss: 0.1153 - val_accuracy: 0.9569\n",
            "Epoch 14/30\n",
            "1507/1507 [==============================] - 3s 2ms/step - loss: 0.1352 - accuracy: 0.9504 - val_loss: 0.1159 - val_accuracy: 0.9574\n",
            "Epoch 15/30\n",
            "1507/1507 [==============================] - 3s 2ms/step - loss: 0.1313 - accuracy: 0.9527 - val_loss: 0.1151 - val_accuracy: 0.9571\n",
            "Epoch 16/30\n",
            "1507/1507 [==============================] - 3s 2ms/step - loss: 0.1315 - accuracy: 0.9531 - val_loss: 0.1158 - val_accuracy: 0.9565\n",
            "Epoch 17/30\n",
            "1507/1507 [==============================] - 4s 2ms/step - loss: 0.1330 - accuracy: 0.9520 - val_loss: 0.1151 - val_accuracy: 0.9568\n",
            "Epoch 18/30\n",
            "1507/1507 [==============================] - 3s 2ms/step - loss: 0.1329 - accuracy: 0.9520 - val_loss: 0.1144 - val_accuracy: 0.9571\n",
            "Epoch 19/30\n",
            "1507/1507 [==============================] - 3s 2ms/step - loss: 0.1322 - accuracy: 0.9521 - val_loss: 0.1133 - val_accuracy: 0.9571\n",
            "Epoch 20/30\n",
            "1507/1507 [==============================] - 4s 3ms/step - loss: 0.1310 - accuracy: 0.9524 - val_loss: 0.1134 - val_accuracy: 0.9570\n",
            "Epoch 21/30\n",
            "1507/1507 [==============================] - 3s 2ms/step - loss: 0.1317 - accuracy: 0.9526 - val_loss: 0.1130 - val_accuracy: 0.9574\n",
            "Epoch 22/30\n",
            "1507/1507 [==============================] - 3s 2ms/step - loss: 0.1300 - accuracy: 0.9522 - val_loss: 0.1125 - val_accuracy: 0.9583\n",
            "Epoch 23/30\n",
            "1507/1507 [==============================] - 5s 4ms/step - loss: 0.1313 - accuracy: 0.9520 - val_loss: 0.1111 - val_accuracy: 0.9588\n",
            "Epoch 24/30\n",
            "1507/1507 [==============================] - 3s 2ms/step - loss: 0.1305 - accuracy: 0.9521 - val_loss: 0.1108 - val_accuracy: 0.9598\n",
            "Epoch 25/30\n",
            "1507/1507 [==============================] - 3s 2ms/step - loss: 0.1293 - accuracy: 0.9533 - val_loss: 0.1085 - val_accuracy: 0.9610\n",
            "Epoch 26/30\n",
            "1507/1507 [==============================] - 4s 2ms/step - loss: 0.1296 - accuracy: 0.9529 - val_loss: 0.1071 - val_accuracy: 0.9613\n",
            "Epoch 27/30\n",
            "1507/1507 [==============================] - 4s 2ms/step - loss: 0.1302 - accuracy: 0.9521 - val_loss: 0.1077 - val_accuracy: 0.9609\n",
            "Epoch 28/30\n",
            "1507/1507 [==============================] - 3s 2ms/step - loss: 0.1277 - accuracy: 0.9534 - val_loss: 0.1051 - val_accuracy: 0.9627\n",
            "Epoch 29/30\n",
            "1507/1507 [==============================] - 3s 2ms/step - loss: 0.1280 - accuracy: 0.9534 - val_loss: 0.1047 - val_accuracy: 0.9632\n",
            "Epoch 30/30\n",
            "1507/1507 [==============================] - 4s 3ms/step - loss: 0.1281 - accuracy: 0.9539 - val_loss: 0.1045 - val_accuracy: 0.9629\n"
          ]
        }
      ]
    },
    {
      "cell_type": "code",
      "source": [
        "# 훈련 세트와 검증 세트의 손실 값 저장\n",
        "train_loss = history.history['loss']\n",
        "val_loss = history.history['val_loss']\n",
        "\n",
        "# epoch에 따른 손실 값 그래프\n",
        "plt.plot(range(1, len(train_loss) + 1), train_loss, label='Train Loss')\n",
        "plt.plot(range(1, len(val_loss) + 1), val_loss, label='Validation Loss')\n",
        "plt.grid(True)\n",
        "plt.xlabel('Epoch')\n",
        "plt.ylabel('Loss')\n",
        "plt.legend()\n",
        "plt.show()"
      ],
      "metadata": {
        "colab": {
          "base_uri": "https://localhost:8080/",
          "height": 449
        },
        "id": "FfbHA5idXDHy",
        "outputId": "fe02cc50-042d-4525-d532-da3d240868f9"
      },
      "execution_count": 39,
      "outputs": [
        {
          "output_type": "display_data",
          "data": {
            "text/plain": [
              "<Figure size 640x480 with 1 Axes>"
            ],
            "image/png": "[encoded data removed]"
          },
          "metadata": {}
        }
      ]
    },
    {
      "cell_type": "code",
      "source": [
        "# D_model의 정확도\n",
        "D_model.evaluate(X_test, y_test)"
      ],
      "metadata": {
        "colab": {
          "base_uri": "https://localhost:8080/"
        },
        "id": "pQCPD1DCUcIU",
        "outputId": "ea2351a8-c5bc-46f7-fedc-6f670f7aad62"
      },
      "execution_count": 40,
      "outputs": [
        {
          "output_type": "stream",
          "name": "stdout",
          "text": [
            "589/589 [==============================] - 1s 1ms/step - loss: 0.1028 - accuracy: 0.9643\n"
          ]
        },
        {
          "output_type": "execute_result",
          "data": {
            "text/plain": [
              "[0.10275564342737198, 0.9642534852027893]"
            ]
          },
          "metadata": {},
          "execution_count": 40
        }
      ]
    },
    {
      "cell_type": "markdown",
      "source": [
        "**일부러 성능 저하시키기**"
      ],
      "metadata": {
        "id": "rdiAT2kIZya7"
      }
    },
    {
      "cell_type": "code",
      "source": [
        "# 데이터에 잡음 추가\n",
        "# noise_factor로 잡음의 정도를 조절\n",
        "noise_factor = 0.5\n",
        "\n",
        "noisy_X_train = X_train + noise_factor * np.random.randn(*X_train.shape)\n",
        "noisy_X_val = X_val + noise_factor * np.random.randn(*X_val.shape)\n",
        "\n",
        "# any_model 구성\n",
        "any_model = tf.keras.models.Sequential()\n",
        "any_model.add(tf.keras.layers.Dense(units = 6, activation = 'relu'))\n",
        "any_model.add(tf.keras.layers.Dense(units = 6, activation = 'relu'))\n",
        "any_model.add(tf.keras.layers.Dense(units = 1, activation = 'sigmoid'))"
      ],
      "metadata": {
        "id": "r-V3Dc3UNGom"
      },
      "execution_count": 41,
      "outputs": []
    },
    {
      "cell_type": "code",
      "source": [
        "# 모델 컴파일\n",
        "any_model.compile(optimizer='adam', loss='categorical_crossentropy', metrics=['accuracy'])\n",
        "\n",
        "# 잡음이 추가된 데이터로 모델 학습\n",
        "history = any_model.fit(noisy_X_train, y_train, batch_size=32, epochs=10)"
      ],
      "metadata": {
        "colab": {
          "base_uri": "https://localhost:8080/"
        },
        "id": "Qxp11uf3M6KN",
        "outputId": "58117fe4-86fa-411f-82d0-6d02f34b5523"
      },
      "execution_count": 42,
      "outputs": [
        {
          "output_type": "stream",
          "name": "stdout",
          "text": [
            "Epoch 1/10\n"
          ]
        },
        {
          "output_type": "stream",
          "name": "stderr",
          "text": [
            "/usr/local/lib/python3.10/dist-packages/tensorflow/python/util/dispatch.py:1176: SyntaxWarning: In loss categorical_crossentropy, expected y_pred.shape to be (batch_size, num_classes) with num_classes > 1. Received: y_pred.shape=(None, 1). Consider using 'binary_crossentropy' if you only have 2 classes.\n",
            "  return dispatch_target(*args, **kwargs)\n"
          ]
        },
        {
          "output_type": "stream",
          "name": "stdout",
          "text": [
            "1507/1507 [==============================] - 3s 2ms/step - loss: 0.0000e+00 - accuracy: 0.9015\n",
            "Epoch 2/10\n",
            "1507/1507 [==============================] - 2s 2ms/step - loss: 0.0000e+00 - accuracy: 0.9108\n",
            "Epoch 3/10\n",
            "1507/1507 [==============================] - 2s 2ms/step - loss: 0.0000e+00 - accuracy: 0.9108\n",
            "Epoch 4/10\n",
            "1507/1507 [==============================] - 3s 2ms/step - loss: 0.0000e+00 - accuracy: 0.9108\n",
            "Epoch 5/10\n",
            "1507/1507 [==============================] - 2s 2ms/step - loss: 0.0000e+00 - accuracy: 0.9108\n",
            "Epoch 6/10\n",
            "1507/1507 [==============================] - 2s 2ms/step - loss: 0.0000e+00 - accuracy: 0.9108\n",
            "Epoch 7/10\n",
            "1507/1507 [==============================] - 2s 2ms/step - loss: 0.0000e+00 - accuracy: 0.9108\n",
            "Epoch 8/10\n",
            "1507/1507 [==============================] - 2s 2ms/step - loss: 0.0000e+00 - accuracy: 0.9108\n",
            "Epoch 9/10\n",
            "1507/1507 [==============================] - 3s 2ms/step - loss: 0.0000e+00 - accuracy: 0.9108\n",
            "Epoch 10/10\n",
            "1507/1507 [==============================] - 2s 2ms/step - loss: 0.0000e+00 - accuracy: 0.9108\n"
          ]
        }
      ]
    },
    {
      "cell_type": "code",
      "source": [
        "# any_model의 예측값\n",
        "y_pred = any_model.predict(X_test)\n",
        "y_pred = (y_pred>0.5)\n",
        "y_pred"
      ],
      "metadata": {
        "colab": {
          "base_uri": "https://localhost:8080/"
        },
        "id": "KPMRo3r3BTQD",
        "outputId": "7756026e-7c77-4cc8-91ac-15f90ea9114c"
      },
      "execution_count": 45,
      "outputs": [
        {
          "output_type": "stream",
          "name": "stdout",
          "text": [
            "589/589 [==============================] - 1s 1ms/step\n"
          ]
        },
        {
          "output_type": "execute_result",
          "data": {
            "text/plain": [
              "array([[False],\n",
              "       [False],\n",
              "       [False],\n",
              "       ...,\n",
              "       [False],\n",
              "       [False],\n",
              "       [False]])"
            ]
          },
          "metadata": {},
          "execution_count": 45
        }
      ]
    },
    {
      "cell_type": "code",
      "source": [
        "# y_pred를 이진수 변환. False = 0 or True = 1\n",
        "y_pred_binary = np.where(y_pred, 1, 0)\n",
        "y_pred_binary"
      ],
      "metadata": {
        "colab": {
          "base_uri": "https://localhost:8080/"
        },
        "id": "CwlsVue4F1I1",
        "outputId": "f4ec864a-f1e0-44be-f5b0-2f85c7e4397e"
      },
      "execution_count": 46,
      "outputs": [
        {
          "output_type": "execute_result",
          "data": {
            "text/plain": [
              "array([[0],\n",
              "       [0],\n",
              "       [0],\n",
              "       ...,\n",
              "       [0],\n",
              "       [0],\n",
              "       [0]])"
            ]
          },
          "metadata": {},
          "execution_count": 46
        }
      ]
    },
    {
      "cell_type": "code",
      "source": [
        "y_test"
      ],
      "metadata": {
        "colab": {
          "base_uri": "https://localhost:8080/"
        },
        "id": "fYm89XxqF88_",
        "outputId": "272b5fa6-9ee2-4631-ce7a-f8849bfab9f5"
      },
      "execution_count": 47,
      "outputs": [
        {
          "output_type": "execute_result",
          "data": {
            "text/plain": [
              "array([0, 0, 0, ..., 0, 0, 0])"
            ]
          },
          "metadata": {},
          "execution_count": 47
        }
      ]
    },
    {
      "cell_type": "code",
      "source": [
        "# Confusion Matrix\n",
        "from sklearn.metrics import confusion_matrix\n",
        "cm = confusion_matrix(y_test, y_pred)\n",
        "\n",
        "print(cm)"
      ],
      "metadata": {
        "colab": {
          "base_uri": "https://localhost:8080/"
        },
        "id": "LnM20DBJGKL3",
        "outputId": "7c09e589-5473-4e98-83b8-dfe46660cd46"
      },
      "execution_count": 50,
      "outputs": [
        {
          "output_type": "stream",
          "name": "stdout",
          "text": [
            "[[17077     0]\n",
            " [ 1750     0]]\n"
          ]
        }
      ]
    },
    {
      "cell_type": "code",
      "source": [
        "# ROC Curve\n",
        "from sklearn.metrics import roc_curve\n",
        "fpr, tpr, thresholds = roc_curve(y_test, y_pred_binary)\n",
        "\n",
        "# AUC\n",
        "from sklearn.metrics import auc\n",
        "roc_auc = auc(fpr, tpr)\n",
        "\n",
        "# ROC Curve 시각화\n",
        "plt.plot(fpr, tpr, label='ROC curve (AUC = %0.2f)' % roc_auc)\n",
        "plt.xlim([0.0, 1.0])\n",
        "plt.ylim([0.0, 1.05])\n",
        "plt.xlabel('False Positive Rate')\n",
        "plt.ylabel('True Positive Rate')\n",
        "plt.title('Receiver Operating Characteristic')\n",
        "plt.legend(loc=\"lower right\")\n",
        "plt.show()\n",
        "\n",
        "# confusion matrix에서부터 2번째 column값이 0이 되어버려서 가치가 없어진 모델이 되었다.\n",
        "# 때문에 AUC도 최저값인 0.5를 츨력하고 있다."
      ],
      "metadata": {
        "colab": {
          "base_uri": "https://localhost:8080/",
          "height": 472
        },
        "id": "dJl1M9VRGFpB",
        "outputId": "a335be3a-7ad5-4571-a37f-f1ad6bed185f"
      },
      "execution_count": 53,
      "outputs": [
        {
          "output_type": "display_data",
          "data": {
            "text/plain": [
              "<Figure size 640x480 with 1 Axes>"
            ],
            "image/png": "[encoded data removed]"
          },
          "metadata": {}
        }
      ]
    },
    {
      "cell_type": "code",
      "source": [
        "from sklearn.metrics import precision_recall_curve\n",
        "\n",
        "# Precision, Recall, Threshold 값\n",
        "precision, recall, thresholds = precision_recall_curve(y_test, y_pred)\n",
        "\n",
        "# PR curve\n",
        "plt.plot(recall, precision, label='PR Curve')\n",
        "plt.xlabel('Recall')\n",
        "plt.ylabel('Precision')\n",
        "plt.title('Precision-Recall Curve')\n",
        "plt.legend()\n",
        "plt.show()"
      ],
      "metadata": {
        "colab": {
          "base_uri": "https://localhost:8080/",
          "height": 472
        },
        "id": "DKajtCZfJdGT",
        "outputId": "2fc0c7da-ab80-4d60-e230-6b55e739bf97"
      },
      "execution_count": 55,
      "outputs": [
        {
          "output_type": "display_data",
          "data": {
            "text/plain": [
              "<Figure size 640x480 with 1 Axes>"
            ],
            "image/png": "[encoded data removed]"
          },
          "metadata": {}
        }
      ]
    }
  ]
}