{
  "nbformat": 4,
  "nbformat_minor": 0,
  "metadata": {
    "colab": {
      "private_outputs": true,
      "provenance": [],
      "authorship_tag": "ABX9TyNeI6ZzcpGmlxdVWc5EYbh4",
      "include_colab_link": true
    },
    "kernelspec": {
      "name": "python3",
      "display_name": "Python 3"
    },
    "language_info": {
      "name": "python"
    }
  },
  "cells": [
    {
      "cell_type": "markdown",
      "metadata": {
        "id": "view-in-github",
        "colab_type": "text"
      },
      "source": [
        "<a href=\"https://colab.research.google.com/github/RedPanda54/Machine_Learning_study/blob/main/ANN.ipynb\" target=\"_parent\"><img src=\"https://colab.research.google.com/assets/colab-badge.svg\" alt=\"Open In Colab\"/></a>"
      ]
    },
    {
      "cell_type": "code",
      "execution_count": null,
      "metadata": {
        "id": "C93YhmWBvB9s"
      },
      "outputs": [],
      "source": [
        "import numpy as np\n",
        "import pandas as pd\n",
        "import matplotlib.pyplot as plt\n",
        "from matplotlib_inline.backend_inline import set_matplotlib_formats\n",
        "import seaborn as sns\n",
        "URL = \"https://raw.githubusercontent.com/RedPanda54/Machine_Learning_study/main/diabetes_prediction_dataset.csv\"\n",
        "df = pd.read_csv(URL)\n",
        "df.info()"
      ]
    },
    {
      "cell_type": "code",
      "source": [
        "df.isnull().sum() # 결측치는 없다."
      ],
      "metadata": {
        "id": "l5Gy9GkIQWKP"
      },
      "execution_count": null,
      "outputs": []
    },
    {
      "cell_type": "code",
      "source": [
        "# 데이터 통계량 파악\n",
        "df.describe()"
      ],
      "metadata": {
        "id": "NYnyZfXJAWw9"
      },
      "execution_count": null,
      "outputs": []
    },
    {
      "cell_type": "code",
      "source": [
        "df"
      ],
      "metadata": {
        "id": "yJLex-mUvUcE"
      },
      "execution_count": null,
      "outputs": []
    },
    {
      "cell_type": "code",
      "source": [
        "df.diabetes.value_counts(normalize = True).mul(100)"
      ],
      "metadata": {
        "id": "Nwxq1WWd-l3Y"
      },
      "execution_count": null,
      "outputs": []
    },
    {
      "cell_type": "code",
      "source": [
        "# 중복행 제거\n",
        "df.drop_duplicates(inplace=True) # inplace는 원본을 제거할지 말지\n",
        "df # 원본과 비교해보니 3854개의 행이 제거되었다."
      ],
      "metadata": {
        "id": "TjR2hQLMRDdy"
      },
      "execution_count": null,
      "outputs": []
    },
    {
      "cell_type": "code",
      "source": [
        "pd.crosstab(df.gender, df.smoking_history, margins = True)"
      ],
      "metadata": {
        "id": "Fmx-u0EVUSVE"
      },
      "execution_count": null,
      "outputs": []
    },
    {
      "cell_type": "code",
      "source": [
        "df['gender'].value_counts() # 검산 결과 데이터는 96146개가 맞다."
      ],
      "metadata": {
        "id": "aP6BUwrYRPSp"
      },
      "execution_count": null,
      "outputs": []
    },
    {
      "cell_type": "code",
      "source": [
        "# Do Label Encoding for gender column\n",
        "from sklearn import preprocessing\n",
        "label_encoder = preprocessing.LabelEncoder()\n",
        "df['gender'] = label_encoder.fit_transform(df['gender']) # Female = 0, Male = 1\n",
        "df"
      ],
      "metadata": {
        "id": "PMmF13uhXOYh"
      },
      "execution_count": null,
      "outputs": []
    },
    {
      "cell_type": "code",
      "source": [
        "df['smoking_history'].value_counts() # 검산 결과 데이터는 96146개가 맞다."
      ],
      "metadata": {
        "id": "xD-MKyGVRS60"
      },
      "execution_count": null,
      "outputs": []
    },
    {
      "cell_type": "code",
      "source": [
        "# Do Label Encoding for smoking_history column\n",
        "label_encoder = preprocessing.LabelEncoder()\n",
        "df['smoking_history'] = label_encoder.fit_transform(df['smoking_history']) # never = 4, No info = 0, current = 1, \n",
        "df"
      ],
      "metadata": {
        "id": "TTC48q09f7cb"
      },
      "execution_count": null,
      "outputs": []
    },
    {
      "cell_type": "code",
      "source": [
        "df.describe()"
      ],
      "metadata": {
        "id": "QAGF_fybgQW4"
      },
      "execution_count": null,
      "outputs": []
    },
    {
      "cell_type": "code",
      "source": [
        "df['age'].hist()"
      ],
      "metadata": {
        "id": "0Rr6618rgjuk"
      },
      "execution_count": null,
      "outputs": []
    },
    {
      "cell_type": "code",
      "source": [
        "df = df[df['age'].mod(1) == 0]\n",
        "df"
      ],
      "metadata": {
        "id": "mEPbQNz7gnu-"
      },
      "execution_count": null,
      "outputs": []
    },
    {
      "cell_type": "code",
      "source": [
        "## convert age column datatype to int\n",
        "df['age'] = df['age'].astype(int)\n",
        "df.head()"
      ],
      "metadata": {
        "id": "Ly5Ux6s-g23y"
      },
      "execution_count": null,
      "outputs": []
    },
    {
      "cell_type": "code",
      "source": [
        "df.info()"
      ],
      "metadata": {
        "id": "5R1N3MXcg9y4"
      },
      "execution_count": null,
      "outputs": []
    },
    {
      "cell_type": "code",
      "source": [
        "df.hist(bins=10, figsize=(10,8))\n",
        "plt.show()"
      ],
      "metadata": {
        "id": "dHi_wVVThC2b"
      },
      "execution_count": null,
      "outputs": []
    },
    {
      "cell_type": "code",
      "source": [
        "X = df.iloc[:,:-1].values\n",
        "y = df.iloc[:,-1].values"
      ],
      "metadata": {
        "id": "Qe2Ky8gaiZrF"
      },
      "execution_count": null,
      "outputs": []
    },
    {
      "cell_type": "code",
      "source": [
        "from sklearn.model_selection import train_test_split\n",
        "X_train, X_test, y_train, y_test = train_test_split(X, y, train_size=0.8, random_state=42)"
      ],
      "metadata": {
        "id": "r7OG8IRCif9z"
      },
      "execution_count": null,
      "outputs": []
    },
    {
      "cell_type": "code",
      "source": [
        "from sklearn import preprocessing\n",
        "stand = preprocessing.StandardScaler()\n",
        "X_train = stand.fit_transform(X_train)\n",
        "X_test = stand.transform(X_test)"
      ],
      "metadata": {
        "id": "UocOwsJFij8L"
      },
      "execution_count": null,
      "outputs": []
    },
    {
      "cell_type": "code",
      "source": [
        "X_train"
      ],
      "metadata": {
        "id": "154OKlfuioGN"
      },
      "execution_count": null,
      "outputs": []
    },
    {
      "cell_type": "code",
      "source": [
        "X_test"
      ],
      "metadata": {
        "id": "rphxYL-aiq6j"
      },
      "execution_count": null,
      "outputs": []
    },
    {
      "cell_type": "code",
      "source": [
        "import tensorflow as tf\n",
        "ann = tf.keras.models.Sequential()\n",
        "ann.add(tf.keras.layers.Dense(units = 6, activation = 'relu')) \n",
        "ann.add(tf.keras.layers.Dense(units = 6, activation = 'relu'))\n",
        "ann.add(tf.keras.layers.Dense(units = 1, activation = 'sigmoid'))"
      ],
      "metadata": {
        "id": "M3Dxa7SjiwJs"
      },
      "execution_count": null,
      "outputs": []
    },
    {
      "cell_type": "code",
      "source": [
        "ann.compile(optimizer = 'adam', loss = 'binary_crossentropy', metrics = ['accuracy'])"
      ],
      "metadata": {
        "id": "zFuTVT_NjB8k"
      },
      "execution_count": null,
      "outputs": []
    },
    {
      "cell_type": "code",
      "source": [
        "%%time\n",
        "ann.fit(X_train, y_train, batch_size=32, epochs = 100)"
      ],
      "metadata": {
        "id": "dE7uAJdfjFXO"
      },
      "execution_count": null,
      "outputs": []
    },
    {
      "cell_type": "code",
      "source": [
        "y_pred = ann.predict(X_test)\n",
        "y_pred = (y_pred>0.5)"
      ],
      "metadata": {
        "id": "KVT3TV3BlJ6i"
      },
      "execution_count": null,
      "outputs": []
    },
    {
      "cell_type": "code",
      "source": [
        "from sklearn.metrics import confusion_matrix, accuracy_score\n",
        "cm = confusion_matrix(y_test, y_pred)\n",
        "print(cm)\n",
        "print(accuracy_score(y_test, y_pred))"
      ],
      "metadata": {
        "id": "24_dFQvZlODt"
      },
      "execution_count": null,
      "outputs": []
    },
    {
      "cell_type": "code",
      "source": [
        "## First, Apply feature scaling to this data\n",
        "## Second, Now predict value using our winning model randonforestclassifier\n",
        "person_X = stand.transform([[1,23.0, 0,0,0,22.9,5.4, 108]])\n",
        "person_X"
      ],
      "metadata": {
        "id": "yXiptM4DlXdW"
      },
      "execution_count": null,
      "outputs": []
    },
    {
      "cell_type": "code",
      "source": [
        "person_predict = ann.predict(person_X)\n",
        "person_predict = (person_predict>0.5)\n",
        "person_predict"
      ],
      "metadata": {
        "id": "QZnZKw3OlYlP"
      },
      "execution_count": null,
      "outputs": []
    }
  ]
}