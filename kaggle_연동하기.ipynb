{
  "nbformat": 4,
  "nbformat_minor": 0,
  "metadata": {
    "colab": {
      "private_outputs": true,
      "provenance": [],
      "authorship_tag": "ABX9TyMsv2thKK8vb4xIwwP6LCe7",
      "include_colab_link": true
    },
    "kernelspec": {
      "name": "python3",
      "display_name": "Python 3"
    },
    "language_info": {
      "name": "python"
    }
  },
  "cells": [
    {
      "cell_type": "markdown",
      "metadata": {
        "id": "view-in-github",
        "colab_type": "text"
      },
      "source": [
        "<a href=\"https://colab.research.google.com/github/RedPanda54/Machine_Learning_study/blob/main/kaggle_%EC%97%B0%EB%8F%99%ED%95%98%EA%B8%B0.ipynb\" target=\"_parent\"><img src=\"https://colab.research.google.com/assets/colab-badge.svg\" alt=\"Open In Colab\"/></a>"
      ]
    },
    {
      "cell_type": "markdown",
      "source": [
        "**(1)** 먼저 캐글을 설치해주고 업데이트한다."
      ],
      "metadata": {
        "id": "zBCqvKlmJWQR"
      }
    },
    {
      "cell_type": "code",
      "execution_count": null,
      "metadata": {
        "id": "6WOzjV1QGsYA"
      },
      "outputs": [],
      "source": [
        "!pip install kaggle\n",
        "!pip install kaggole --update"
      ]
    },
    {
      "cell_type": "markdown",
      "source": [
        "**(2)** 'kaggle.com'의 'account'에서 \"Create New API Token\"을 눌러서 **'Kaggle.json'** 파일을 다운받는다."
      ],
      "metadata": {
        "id": "540gV19VJj8t"
      }
    },
    {
      "cell_type": "code",
      "source": [
        "!pip install kaggle\n",
        "from google.colab import files\n",
        "files.upload()"
      ],
      "metadata": {
        "id": "CGAzJVQ2HCZp"
      },
      "execution_count": null,
      "outputs": []
    },
    {
      "cell_type": "markdown",
      "source": [
        "**(3)** 파일 업로드 확인"
      ],
      "metadata": {
        "id": "TopcQ3NiJzN0"
      }
    },
    {
      "cell_type": "code",
      "source": [
        "ls -lha kaggle.json"
      ],
      "metadata": {
        "id": "uwbjDcskHhbF"
      },
      "execution_count": null,
      "outputs": []
    },
    {
      "cell_type": "markdown",
      "source": [
        "**(4)** 파일의 위치를 kaggle 폴더 생성 후, 하위로 넣어준다."
      ],
      "metadata": {
        "id": "OH614QrWJ35E"
      }
    },
    {
      "cell_type": "code",
      "source": [
        "!mkdir -p ~/.kaggle\n",
        "!cp kaggle.json ~/.kaggle/kaggle.json\n",
        "\n",
        "#permission warning 방지\n",
        "!chmod 600 ~/.kaggle/kaggle.json"
      ],
      "metadata": {
        "id": "c0BYmSx1H28R"
      },
      "execution_count": null,
      "outputs": []
    },
    {
      "cell_type": "markdown",
      "source": [
        "**(5)** kaggle 대회 목록 확인"
      ],
      "metadata": {
        "id": "CdXOby5YKFlF"
      }
    },
    {
      "cell_type": "code",
      "source": [
        "!kaggle competitions list"
      ],
      "metadata": {
        "id": "frk9pdd3IDe-"
      },
      "execution_count": null,
      "outputs": []
    }
  ]
}