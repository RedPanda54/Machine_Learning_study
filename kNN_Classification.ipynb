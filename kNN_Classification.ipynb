{
  "nbformat": 4,
  "nbformat_minor": 0,
  "metadata": {
    "colab": {
      "private_outputs": true,
      "provenance": [],
      "authorship_tag": "ABX9TyMVIV84V73GiODqsuvp45Ph",
      "include_colab_link": true
    },
    "kernelspec": {
      "name": "python3",
      "display_name": "Python 3"
    },
    "language_info": {
      "name": "python"
    }
  },
  "cells": [
    {
      "cell_type": "markdown",
      "metadata": {
        "id": "view-in-github",
        "colab_type": "text"
      },
      "source": [
        "<a href=\"https://colab.research.google.com/github/RedPanda54/Machine_Learning_study/blob/main/kNN_Classification.ipynb\" target=\"_parent\"><img src=\"https://colab.research.google.com/assets/colab-badge.svg\" alt=\"Open In Colab\"/></a>"
      ]
    },
    {
      "cell_type": "markdown",
      "source": [
        "(0) 'pandas'를 이용해 'fake_bills' csv파일을 불러옴."
      ],
      "metadata": {
        "id": "1qShRDwIaeSr"
      }
    },
    {
      "cell_type": "code",
      "execution_count": null,
      "metadata": {
        "id": "X2DUzTNUXCxY"
      },
      "outputs": [],
      "source": [
        "import pandas as pd\n",
        "target_URL = \"https://raw.githubusercontent.com/RedPanda54/Machine_Learning_study/main/fake_bills.csv\"\n",
        "df = pd.read_csv(target_URL, sep=';')\n",
        "df.info() # information에서 확인해보면 'margin_low'열에 null 자리가 37개가 있음을 알 수 있다."
      ]
    },
    {
      "cell_type": "code",
      "source": [
        "df.isna().sum() # 좀 더 명확하게 결측치 총 개수를 확인할 수 있다."
      ],
      "metadata": {
        "id": "I6VGtNcLdC79"
      },
      "execution_count": null,
      "outputs": []
    },
    {
      "cell_type": "markdown",
      "source": [
        "(1) One_hot_encoding"
      ],
      "metadata": {
        "id": "4pLBAxBvo0tF"
      }
    },
    {
      "cell_type": "code",
      "source": [
        "one_hot_encoding = pd.get_dummies(df, columns = ['margin_low'], dummy_na = True)\n",
        "print(one_hot_encoding)"
      ],
      "metadata": {
        "id": "Xx_khKnWadZ6"
      },
      "execution_count": null,
      "outputs": []
    },
    {
      "cell_type": "markdown",
      "source": [
        "(2)-i 'missingno'를 사용해 결측치 시각화"
      ],
      "metadata": {
        "id": "OGUT17mEngFZ"
      }
    },
    {
      "cell_type": "code",
      "source": [
        "import missingno as msno\n",
        "msno.matrix(df, figsize = (12, 5)) # matrix 키워드로 결측치가 발생한 대략적인 위치 파악"
      ],
      "metadata": {
        "id": "T2y1mx_rgfiN"
      },
      "execution_count": null,
      "outputs": []
    },
    {
      "cell_type": "code",
      "source": [
        "msno.bar(df, figsize = (12, 5)) # bar 키워드로 수치까지 표현해서 몇 개의 결측치가 있는지 파악"
      ],
      "metadata": {
        "id": "u9ZX5bAAgp7_"
      },
      "execution_count": null,
      "outputs": []
    },
    {
      "cell_type": "markdown",
      "source": [
        "(2)-ii kNN을 이용해 결측치 채우기"
      ],
      "metadata": {
        "id": "tO_6gSJSpOyI"
      }
    },
    {
      "cell_type": "code",
      "source": [
        "import numpy as np\n",
        "from sklearn.impute import KNNImputer\n",
        "imputer = KNNImputer(n_neighbors=5)\n",
        "df_imputed = pd.DataFrame(imputer.fit_transform(df), columns=df.columns)\n",
        "\n",
        "missing_values = imputer.missing_values\n",
        "'''\n",
        "for col, idx in zip(np.where(df.isna())[1], np.where(df.isna())[0]):\n",
        "    if col == np.where(df.isna())[1][0]:\n",
        "        print(\"index %d, column %s\" % (idx, df.columns[col]))\n",
        "        _, neighbors = imputer.kneighbors([df_imputed.iloc[idx, :]])\n",
        "        print(\"Neighbors: \", neighbors[0][1:])\n",
        "        print(\"Original value: \", df.iloc[idx, col])\n",
        "        print(\"Imputed value: \", df_imputed.iloc[idx, col])\n",
        "'''\n",
        "filled_df = imputer.fit_transform(df)\n",
        "pd.DataFrame(filled_df)\n",
        "# 데이터프레임을 확인해보면 4번 column에 무한소수가 껴있는것이 보일것이다. 결측치를 kNNImputer로 채운 결과이다."
      ],
      "metadata": {
        "id": "MFL2-2rNnzEe"
      },
      "execution_count": null,
      "outputs": []
    },
    {
      "cell_type": "code",
      "source": [
        "print(type(df))\n",
        "print(type(filled_df)) # 원래 dataset과 결측치를 보간한 dataset은 데이터 타입이 다르다."
      ],
      "metadata": {
        "id": "MflDsEuEEZ3_"
      },
      "execution_count": null,
      "outputs": []
    },
    {
      "cell_type": "markdown",
      "source": [
        "(3) 자료 확인 (np.corrcoef)"
      ],
      "metadata": {
        "id": "NuZmTPLjHlK0"
      }
    },
    {
      "cell_type": "code",
      "source": [
        "import matplotlib.pyplot as plt\n",
        "import seaborn as sns\n",
        "corr_mat = np.corrcoef(filled_df,rowvar=False) # 상관계수를 계산해주는 함수\n",
        "print(np.round(corr_mat,3)) # 완전히 symmetric한 형태"
      ],
      "metadata": {
        "id": "-sy00FzwqggM"
      },
      "execution_count": null,
      "outputs": []
    },
    {
      "cell_type": "code",
      "source": [
        "corr_df = pd.DataFrame(corr_mat,columns=df.columns,index=df.columns)\n",
        "sns.heatmap(corr_df, linewidth=1, vmax = 1.0, cmap='plasma')\n",
        "plt.figure(figsize=(10, 8))\n",
        "plt.show() # heatmap으로 표현"
      ],
      "metadata": {
        "id": "RM2us82ghWEt"
      },
      "execution_count": null,
      "outputs": []
    },
    {
      "cell_type": "markdown",
      "source": [
        "(4) standardization"
      ],
      "metadata": {
        "id": "n0cPkUGkIy1l"
      }
    },
    {
      "cell_type": "code",
      "source": [
        "from sklearn.preprocessing import StandardScaler\n",
        "data_standadized = StandardScaler().fit_transform(filled_df)\n",
        "pd.DataFrame(data_standadized)"
      ],
      "metadata": {
        "id": "VECobWKYoBHp"
      },
      "execution_count": null,
      "outputs": []
    },
    {
      "cell_type": "markdown",
      "source": [
        "(5) train dataset, test dataset 구분"
      ],
      "metadata": {
        "id": "FOVfVjj5KQtl"
      }
    },
    {
      "cell_type": "code",
      "source": [
        "df_data = pd.DataFrame(data_standadized)\n",
        "#df_labels = pd.DataFrame(data_standadized)\n",
        "feature_df = df_data.iloc[:, :-1]\n",
        "target_df = df_data.iloc[:, -1]"
      ],
      "metadata": {
        "id": "zEISVGZ6Z_hL"
      },
      "execution_count": null,
      "outputs": []
    },
    {
      "cell_type": "code",
      "source": [
        "from sklearn.model_selection import train_test_split\n",
        "\n",
        "training_data, test_data , training_labels, test_labels = train_test_split(feature_df, target_df, test_size = 0.3, stratify = target_df, random_state = 100)"
      ],
      "metadata": {
        "id": "C9Oz6Po1AKen"
      },
      "execution_count": null,
      "outputs": []
    },
    {
      "cell_type": "code",
      "source": [
        "from sklearn.model_selection import train_test_split\n",
        "\n",
        "training_data, test_data , training_labels, test_labels = train_test_split(feature_df, target_df, test_size = 0.3, random_state = 100)"
      ],
      "metadata": {
        "id": "AUgrNyBhjWY5"
      },
      "execution_count": null,
      "outputs": []
    },
    {
      "cell_type": "code",
      "source": [
        "print(len(training_data))\n",
        "print(len(test_data))\n",
        "print(len(training_labels))\n",
        "print(len(test_labels))"
      ],
      "metadata": {
        "id": "RzJ7b0u5ghwz"
      },
      "execution_count": null,
      "outputs": []
    },
    {
      "cell_type": "markdown",
      "source": [
        "(6) GridSearch"
      ],
      "metadata": {
        "id": "SlhZwfLpYi9L"
      }
    },
    {
      "cell_type": "code",
      "source": [
        "from sklearn.neighbors import KNeighborsClassifier\n",
        "from sklearn.model_selection import GridSearchCV\n",
        "param_grid = {'n_neighbors': np.arange(1, 25)}\n",
        "grid = GridSearchCV(KNeighborsClassifier(), param_grid = param_grid, cv=5)\n",
        "grid.fit(training_data, training_labels)"
      ],
      "metadata": {
        "id": "z7snvrxXPUmH"
      },
      "execution_count": null,
      "outputs": []
    }
  ]
}