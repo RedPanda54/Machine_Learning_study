{
  "nbformat": 4,
  "nbformat_minor": 0,
  "metadata": {
    "colab": {
      "provenance": [],
      "authorship_tag": "ABX9TyPJZqpZGo0dxIqC2Be1WabH",
      "include_colab_link": true
    },
    "kernelspec": {
      "name": "python3",
      "display_name": "Python 3"
    },
    "language_info": {
      "name": "python"
    },
    "gpuClass": "standard"
  },
  "cells": [
    {
      "cell_type": "markdown",
      "metadata": {
        "id": "view-in-github",
        "colab_type": "text"
      },
      "source": [
        "<a href=\"https://colab.research.google.com/github/RedPanda54/Machine_Learning_study/blob/main/kNN_Classification.ipynb\" target=\"_parent\"><img src=\"https://colab.research.google.com/assets/colab-badge.svg\" alt=\"Open In Colab\"/></a>"
      ]
    },
    {
      "cell_type": "markdown",
      "source": [
        "**(0) 'pandas'를 이용해 'fake_bills' csv파일을 불러옴.**"
      ],
      "metadata": {
        "id": "1qShRDwIaeSr"
      }
    },
    {
      "cell_type": "code",
      "execution_count": 1,
      "metadata": {
        "id": "X2DUzTNUXCxY",
        "colab": {
          "base_uri": "https://localhost:8080/"
        },
        "outputId": "c7c92e09-3d12-4d20-f3b5-9aefbbdee173"
      },
      "outputs": [
        {
          "output_type": "stream",
          "name": "stdout",
          "text": [
            "<class 'pandas.core.frame.DataFrame'>\n",
            "RangeIndex: 1500 entries, 0 to 1499\n",
            "Data columns (total 7 columns):\n",
            " #   Column        Non-Null Count  Dtype  \n",
            "---  ------        --------------  -----  \n",
            " 0   is_genuine    1500 non-null   bool   \n",
            " 1   diagonal      1500 non-null   float64\n",
            " 2   height_left   1500 non-null   float64\n",
            " 3   height_right  1500 non-null   float64\n",
            " 4   margin_low    1463 non-null   float64\n",
            " 5   margin_up     1500 non-null   float64\n",
            " 6   length        1500 non-null   float64\n",
            "dtypes: bool(1), float64(6)\n",
            "memory usage: 71.9 KB\n"
          ]
        }
      ],
      "source": [
        "import pandas as pd\n",
        "target_URL = \"https://raw.githubusercontent.com/RedPanda54/Machine_Learning_study/main/fake_bills.csv\"\n",
        "df = pd.read_csv(target_URL, sep=';')\n",
        "df.info() # information에서 확인해보면 'margin_low'열에 null 자리가 37개가 있음을 알 수 있다."
      ]
    },
    {
      "cell_type": "code",
      "source": [
        "df.isna().sum() # 좀 더 명확하게 결측치 총 개수를 확인할 수 있다."
      ],
      "metadata": {
        "colab": {
          "base_uri": "https://localhost:8080/"
        },
        "id": "I6VGtNcLdC79",
        "outputId": "5af20717-9502-453b-eb75-6b44d5efb92f"
      },
      "execution_count": 2,
      "outputs": [
        {
          "output_type": "execute_result",
          "data": {
            "text/plain": [
              "is_genuine       0\n",
              "diagonal         0\n",
              "height_left      0\n",
              "height_right     0\n",
              "margin_low      37\n",
              "margin_up        0\n",
              "length           0\n",
              "dtype: int64"
            ]
          },
          "metadata": {},
          "execution_count": 2
        }
      ]
    },
    {
      "cell_type": "markdown",
      "source": [
        "**(1) One_hot_encoding**"
      ],
      "metadata": {
        "id": "4pLBAxBvo0tF"
      }
    },
    {
      "cell_type": "code",
      "source": [
        "one_hot_encoding = pd.get_dummies(df, columns = ['margin_low'], dummy_na = True)\n",
        "print(one_hot_encoding)"
      ],
      "metadata": {
        "colab": {
          "base_uri": "https://localhost:8080/"
        },
        "id": "Xx_khKnWadZ6",
        "outputId": "d1cef2b7-1ad8-4170-da16-09acf94903d6"
      },
      "execution_count": 3,
      "outputs": [
        {
          "output_type": "stream",
          "name": "stdout",
          "text": [
            "      is_genuine  diagonal  height_left  height_right  margin_up  length  \\\n",
            "0           True    171.81       104.86        104.95       2.89  112.83   \n",
            "1           True    171.46       103.36        103.66       2.99  113.09   \n",
            "2           True    172.69       104.48        103.50       2.94  113.16   \n",
            "3           True    171.36       103.91        103.94       3.01  113.51   \n",
            "4           True    171.73       104.28        103.46       3.48  112.54   \n",
            "...          ...       ...          ...           ...        ...     ...   \n",
            "1495       False    171.75       104.38        104.17       3.09  111.28   \n",
            "1496       False    172.19       104.63        104.44       3.37  110.97   \n",
            "1497       False    171.80       104.01        104.12       3.36  111.95   \n",
            "1498       False    172.06       104.28        104.06       3.46  112.25   \n",
            "1499       False    171.47       104.15        103.82       3.37  112.07   \n",
            "\n",
            "      margin_low_2.98  margin_low_3.12  margin_low_3.16  margin_low_3.24  ...  \\\n",
            "0                   0                0                0                0  ...   \n",
            "1                   0                0                0                0  ...   \n",
            "2                   0                0                0                0  ...   \n",
            "3                   0                0                0                0  ...   \n",
            "4                   0                0                0                0  ...   \n",
            "...               ...              ...              ...              ...  ...   \n",
            "1495                0                0                0                0  ...   \n",
            "1496                0                0                0                0  ...   \n",
            "1497                0                0                0                0  ...   \n",
            "1498                0                0                0                0  ...   \n",
            "1499                0                0                0                0  ...   \n",
            "\n",
            "      margin_low_6.34  margin_low_6.38  margin_low_6.48  margin_low_6.49  \\\n",
            "0                   0                0                0                0   \n",
            "1                   0                0                0                0   \n",
            "2                   0                0                0                0   \n",
            "3                   0                0                0                0   \n",
            "4                   0                0                0                0   \n",
            "...               ...              ...              ...              ...   \n",
            "1495                0                0                0                0   \n",
            "1496                0                0                0                0   \n",
            "1497                0                0                0                0   \n",
            "1498                0                0                0                0   \n",
            "1499                0                0                0                0   \n",
            "\n",
            "      margin_low_6.54  margin_low_6.56  margin_low_6.65  margin_low_6.7  \\\n",
            "0                   0                0                0               0   \n",
            "1                   0                0                0               0   \n",
            "2                   0                0                0               0   \n",
            "3                   0                0                0               0   \n",
            "4                   0                0                0               0   \n",
            "...               ...              ...              ...             ...   \n",
            "1495                0                0                0               0   \n",
            "1496                0                0                0               0   \n",
            "1497                0                0                0               0   \n",
            "1498                0                0                0               0   \n",
            "1499                0                0                0               0   \n",
            "\n",
            "      margin_low_6.9  margin_low_nan  \n",
            "0                  0               0  \n",
            "1                  0               0  \n",
            "2                  0               0  \n",
            "3                  0               0  \n",
            "4                  0               0  \n",
            "...              ...             ...  \n",
            "1495               0               0  \n",
            "1496               0               0  \n",
            "1497               0               0  \n",
            "1498               0               0  \n",
            "1499               0               0  \n",
            "\n",
            "[1500 rows x 292 columns]\n"
          ]
        }
      ]
    },
    {
      "cell_type": "markdown",
      "source": [
        "**(2)-i 'missingno'를 사용해 결측치 시각화**"
      ],
      "metadata": {
        "id": "OGUT17mEngFZ"
      }
    },
    {
      "cell_type": "code",
      "source": [
        "import missingno as msno\n",
        "msno.matrix(df, figsize = (12, 5)) # matrix 키워드로 결측치가 발생한 대략적인 위치 파악"
      ],
      "metadata": {
        "colab": {
          "base_uri": "https://localhost:8080/",
          "height": 576
        },
        "id": "T2y1mx_rgfiN",
        "outputId": "0e7462ad-a8f7-4245-ed7c-1162a7d82390"
      },
      "execution_count": 4,
      "outputs": [
        {
          "output_type": "execute_result",
          "data": {
            "text/plain": [
              "<Axes: >"
            ]
          },
          "metadata": {},
          "execution_count": 4
        },
        {
          "output_type": "display_data",
          "data": {
            "text/plain": [
              "<Figure size 1200x500 with 2 Axes>"
            ],
            "image/png": "[encoded data removed]"
          },
          "metadata": {}
        }
      ]
    },
    {
      "cell_type": "code",
      "source": [
        "msno.bar(df, figsize = (12, 5)) # bar 키워드로 수치까지 표현해서 몇 개의 결측치가 있는지 파악"
      ],
      "metadata": {
        "colab": {
          "base_uri": "https://localhost:8080/",
          "height": 623
        },
        "id": "u9ZX5bAAgp7_",
        "outputId": "c2a45e37-1da1-4b7e-a473-8a3acf8ed7ae"
      },
      "execution_count": 5,
      "outputs": [
        {
          "output_type": "execute_result",
          "data": {
            "text/plain": [
              "<Axes: >"
            ]
          },
          "metadata": {},
          "execution_count": 5
        },
        {
          "output_type": "display_data",
          "data": {
            "text/plain": [
              "<Figure size 1200x500 with 3 Axes>"
            ],
            "image/png": "[encoded data removed]"
          },
          "metadata": {}
        }
      ]
    },
    {
      "cell_type": "markdown",
      "source": [
        "**(2)-ii kNN을 이용해 결측치 채우기**"
      ],
      "metadata": {
        "id": "tO_6gSJSpOyI"
      }
    },
    {
      "cell_type": "code",
      "source": [
        "import numpy as np\n",
        "from sklearn.impute import KNNImputer\n",
        "imputer = KNNImputer(n_neighbors=5)\n",
        "df_imputed = pd.DataFrame(imputer.fit_transform(df), columns=df.columns)\n",
        "filled_df = imputer.fit_transform(df)\n",
        "pd.DataFrame(filled_df)"
      ],
      "metadata": {
        "colab": {
          "base_uri": "https://localhost:8080/",
          "height": 424
        },
        "id": "MFL2-2rNnzEe",
        "outputId": "84bf09c8-c0e2-43c7-d506-15fd5d61155a"
      },
      "execution_count": 6,
      "outputs": [
        {
          "output_type": "execute_result",
          "data": {
            "text/plain": [
              "        0       1       2       3     4     5       6\n",
              "0     1.0  171.81  104.86  104.95  4.52  2.89  112.83\n",
              "1     1.0  171.46  103.36  103.66  3.77  2.99  113.09\n",
              "2     1.0  172.69  104.48  103.50  4.40  2.94  113.16\n",
              "3     1.0  171.36  103.91  103.94  3.62  3.01  113.51\n",
              "4     1.0  171.73  104.28  103.46  4.04  3.48  112.54\n",
              "...   ...     ...     ...     ...   ...   ...     ...\n",
              "1495  0.0  171.75  104.38  104.17  4.42  3.09  111.28\n",
              "1496  0.0  172.19  104.63  104.44  5.27  3.37  110.97\n",
              "1497  0.0  171.80  104.01  104.12  5.51  3.36  111.95\n",
              "1498  0.0  172.06  104.28  104.06  5.17  3.46  112.25\n",
              "1499  0.0  171.47  104.15  103.82  4.63  3.37  112.07\n",
              "\n",
              "[1500 rows x 7 columns]"
            ],
            "text/html": [
              "\n",
              "  <div id=\"df-3fa09ae5-2520-41c5-a881-c9319bae3576\">\n",
              "    <div class=\"colab-df-container\">\n",
              "      <div>\n",
              "<style scoped>\n",
              "    .dataframe tbody tr th:only-of-type {\n",
              "        vertical-align: middle;\n",
              "    }\n",
              "\n",
              "    .dataframe tbody tr th {\n",
              "        vertical-align: top;\n",
              "    }\n",
              "\n",
              "    .dataframe thead th {\n",
              "        text-align: right;\n",
              "    }\n",
              "</style>\n",
              "<table border=\"1\" class=\"dataframe\">\n",
              "  <thead>\n",
              "    <tr style=\"text-align: right;\">\n",
              "      <th></th>\n",
              "      <th>0</th>\n",
              "      <th>1</th>\n",
              "      <th>2</th>\n",
              "      <th>3</th>\n",
              "      <th>4</th>\n",
              "      <th>5</th>\n",
              "      <th>6</th>\n",
              "    </tr>\n",
              "  </thead>\n",
              "  <tbody>\n",
              "    <tr>\n",
              "      <th>0</th>\n",
              "      <td>1.0</td>\n",
              "      <td>171.81</td>\n",
              "      <td>104.86</td>\n",
              "      <td>104.95</td>\n",
              "      <td>4.52</td>\n",
              "      <td>2.89</td>\n",
              "      <td>112.83</td>\n",
              "    </tr>\n",
              "    <tr>\n",
              "      <th>1</th>\n",
              "      <td>1.0</td>\n",
              "      <td>171.46</td>\n",
              "      <td>103.36</td>\n",
              "      <td>103.66</td>\n",
              "      <td>3.77</td>\n",
              "      <td>2.99</td>\n",
              "      <td>113.09</td>\n",
              "    </tr>\n",
              "    <tr>\n",
              "      <th>2</th>\n",
              "      <td>1.0</td>\n",
              "      <td>172.69</td>\n",
              "      <td>104.48</td>\n",
              "      <td>103.50</td>\n",
              "      <td>4.40</td>\n",
              "      <td>2.94</td>\n",
              "      <td>113.16</td>\n",
              "    </tr>\n",
              "    <tr>\n",
              "      <th>3</th>\n",
              "      <td>1.0</td>\n",
              "      <td>171.36</td>\n",
              "      <td>103.91</td>\n",
              "      <td>103.94</td>\n",
              "      <td>3.62</td>\n",
              "      <td>3.01</td>\n",
              "      <td>113.51</td>\n",
              "    </tr>\n",
              "    <tr>\n",
              "      <th>4</th>\n",
              "      <td>1.0</td>\n",
              "      <td>171.73</td>\n",
              "      <td>104.28</td>\n",
              "      <td>103.46</td>\n",
              "      <td>4.04</td>\n",
              "      <td>3.48</td>\n",
              "      <td>112.54</td>\n",
              "    </tr>\n",
              "    <tr>\n",
              "      <th>...</th>\n",
              "      <td>...</td>\n",
              "      <td>...</td>\n",
              "      <td>...</td>\n",
              "      <td>...</td>\n",
              "      <td>...</td>\n",
              "      <td>...</td>\n",
              "      <td>...</td>\n",
              "    </tr>\n",
              "    <tr>\n",
              "      <th>1495</th>\n",
              "      <td>0.0</td>\n",
              "      <td>171.75</td>\n",
              "      <td>104.38</td>\n",
              "      <td>104.17</td>\n",
              "      <td>4.42</td>\n",
              "      <td>3.09</td>\n",
              "      <td>111.28</td>\n",
              "    </tr>\n",
              "    <tr>\n",
              "      <th>1496</th>\n",
              "      <td>0.0</td>\n",
              "      <td>172.19</td>\n",
              "      <td>104.63</td>\n",
              "      <td>104.44</td>\n",
              "      <td>5.27</td>\n",
              "      <td>3.37</td>\n",
              "      <td>110.97</td>\n",
              "    </tr>\n",
              "    <tr>\n",
              "      <th>1497</th>\n",
              "      <td>0.0</td>\n",
              "      <td>171.80</td>\n",
              "      <td>104.01</td>\n",
              "      <td>104.12</td>\n",
              "      <td>5.51</td>\n",
              "      <td>3.36</td>\n",
              "      <td>111.95</td>\n",
              "    </tr>\n",
              "    <tr>\n",
              "      <th>1498</th>\n",
              "      <td>0.0</td>\n",
              "      <td>172.06</td>\n",
              "      <td>104.28</td>\n",
              "      <td>104.06</td>\n",
              "      <td>5.17</td>\n",
              "      <td>3.46</td>\n",
              "      <td>112.25</td>\n",
              "    </tr>\n",
              "    <tr>\n",
              "      <th>1499</th>\n",
              "      <td>0.0</td>\n",
              "      <td>171.47</td>\n",
              "      <td>104.15</td>\n",
              "      <td>103.82</td>\n",
              "      <td>4.63</td>\n",
              "      <td>3.37</td>\n",
              "      <td>112.07</td>\n",
              "    </tr>\n",
              "  </tbody>\n",
              "</table>\n",
              "<p>1500 rows × 7 columns</p>\n",
              "</div>\n",
              "      <button class=\"colab-df-convert\" onclick=\"convertToInteractive('df-3fa09ae5-2520-41c5-a881-c9319bae3576')\"\n",
              "              title=\"Convert this dataframe to an interactive table.\"\n",
              "              style=\"display:none;\">\n",
              "        \n",
              "  <svg xmlns=\"http://www.w3.org/2000/svg\" height=\"24px\"viewBox=\"0 0 24 24\"\n",
              "       width=\"24px\">\n",
              "    <path d=\"M0 0h24v24H0V0z\" fill=\"none\"/>\n",
              "    <path d=\"M18.56 5.44l.94 2.06.94-2.06 2.06-.94-2.06-.94-.94-2.06-.94 2.06-2.06.94zm-11 1L8.5 8.5l.94-2.06 2.06-.94-2.06-.94L8.5 2.5l-.94 2.06-2.06.94zm10 10l.94 2.06.94-2.06 2.06-.94-2.06-.94-.94-2.06-.94 2.06-2.06.94z\"/><path d=\"M17.41 7.96l-1.37-1.37c-.4-.4-.92-.59-1.43-.59-.52 0-1.04.2-1.43.59L10.3 9.45l-7.72 7.72c-.78.78-.78 2.05 0 2.83L4 21.41c.39.39.9.59 1.41.59.51 0 1.02-.2 1.41-.59l7.78-7.78 2.81-2.81c.8-.78.8-2.07 0-2.86zM5.41 20L4 18.59l7.72-7.72 1.47 1.35L5.41 20z\"/>\n",
              "  </svg>\n",
              "      </button>\n",
              "      \n",
              "  <style>\n",
              "    .colab-df-container {\n",
              "      display:flex;\n",
              "      flex-wrap:wrap;\n",
              "      gap: 12px;\n",
              "    }\n",
              "\n",
              "    .colab-df-convert {\n",
              "      background-color: #E8F0FE;\n",
              "      border: none;\n",
              "      border-radius: 50%;\n",
              "      cursor: pointer;\n",
              "      display: none;\n",
              "      fill: #1967D2;\n",
              "      height: 32px;\n",
              "      padding: 0 0 0 0;\n",
              "      width: 32px;\n",
              "    }\n",
              "\n",
              "    .colab-df-convert:hover {\n",
              "      background-color: #E2EBFA;\n",
              "      box-shadow: 0px 1px 2px rgba(60, 64, 67, 0.3), 0px 1px 3px 1px rgba(60, 64, 67, 0.15);\n",
              "      fill: #174EA6;\n",
              "    }\n",
              "\n",
              "    [theme=dark] .colab-df-convert {\n",
              "      background-color: #3B4455;\n",
              "      fill: #D2E3FC;\n",
              "    }\n",
              "\n",
              "    [theme=dark] .colab-df-convert:hover {\n",
              "      background-color: #434B5C;\n",
              "      box-shadow: 0px 1px 3px 1px rgba(0, 0, 0, 0.15);\n",
              "      filter: drop-shadow(0px 1px 2px rgba(0, 0, 0, 0.3));\n",
              "      fill: #FFFFFF;\n",
              "    }\n",
              "  </style>\n",
              "\n",
              "      <script>\n",
              "        const buttonEl =\n",
              "          document.querySelector('#df-3fa09ae5-2520-41c5-a881-c9319bae3576 button.colab-df-convert');\n",
              "        buttonEl.style.display =\n",
              "          google.colab.kernel.accessAllowed ? 'block' : 'none';\n",
              "\n",
              "        async function convertToInteractive(key) {\n",
              "          const element = document.querySelector('#df-3fa09ae5-2520-41c5-a881-c9319bae3576');\n",
              "          const dataTable =\n",
              "            await google.colab.kernel.invokeFunction('convertToInteractive',\n",
              "                                                     [key], {});\n",
              "          if (!dataTable) return;\n",
              "\n",
              "          const docLinkHtml = 'Like what you see? Visit the ' +\n",
              "            '<a target=\"_blank\" href=https://colab.research.google.com/notebooks/data_table.ipynb>data table notebook</a>'\n",
              "            + ' to learn more about interactive tables.';\n",
              "          element.innerHTML = '';\n",
              "          dataTable['output_type'] = 'display_data';\n",
              "          await google.colab.output.renderOutput(dataTable, element);\n",
              "          const docLink = document.createElement('div');\n",
              "          docLink.innerHTML = docLinkHtml;\n",
              "          element.appendChild(docLink);\n",
              "        }\n",
              "      </script>\n",
              "    </div>\n",
              "  </div>\n",
              "  "
            ]
          },
          "metadata": {},
          "execution_count": 6
        }
      ]
    },
    {
      "cell_type": "code",
      "source": [
        "pd.DataFrame(df) # 원본데이터와 비교해 보았을 때 결측치 부분이 잘 보간되었음을 알수 있다."
      ],
      "metadata": {
        "colab": {
          "base_uri": "https://localhost:8080/",
          "height": 424
        },
        "id": "Htly__aktNZY",
        "outputId": "81dc1050-1207-43dc-8389-c5cbb4b17320"
      },
      "execution_count": 7,
      "outputs": [
        {
          "output_type": "execute_result",
          "data": {
            "text/plain": [
              "      is_genuine  diagonal  height_left  height_right  margin_low  margin_up  \\\n",
              "0           True    171.81       104.86        104.95        4.52       2.89   \n",
              "1           True    171.46       103.36        103.66        3.77       2.99   \n",
              "2           True    172.69       104.48        103.50        4.40       2.94   \n",
              "3           True    171.36       103.91        103.94        3.62       3.01   \n",
              "4           True    171.73       104.28        103.46        4.04       3.48   \n",
              "...          ...       ...          ...           ...         ...        ...   \n",
              "1495       False    171.75       104.38        104.17        4.42       3.09   \n",
              "1496       False    172.19       104.63        104.44        5.27       3.37   \n",
              "1497       False    171.80       104.01        104.12        5.51       3.36   \n",
              "1498       False    172.06       104.28        104.06        5.17       3.46   \n",
              "1499       False    171.47       104.15        103.82        4.63       3.37   \n",
              "\n",
              "      length  \n",
              "0     112.83  \n",
              "1     113.09  \n",
              "2     113.16  \n",
              "3     113.51  \n",
              "4     112.54  \n",
              "...      ...  \n",
              "1495  111.28  \n",
              "1496  110.97  \n",
              "1497  111.95  \n",
              "1498  112.25  \n",
              "1499  112.07  \n",
              "\n",
              "[1500 rows x 7 columns]"
            ],
            "text/html": [
              "\n",
              "  <div id=\"df-a09faa05-1c0c-4be5-8b67-521e2c6c80b8\">\n",
              "    <div class=\"colab-df-container\">\n",
              "      <div>\n",
              "<style scoped>\n",
              "    .dataframe tbody tr th:only-of-type {\n",
              "        vertical-align: middle;\n",
              "    }\n",
              "\n",
              "    .dataframe tbody tr th {\n",
              "        vertical-align: top;\n",
              "    }\n",
              "\n",
              "    .dataframe thead th {\n",
              "        text-align: right;\n",
              "    }\n",
              "</style>\n",
              "<table border=\"1\" class=\"dataframe\">\n",
              "  <thead>\n",
              "    <tr style=\"text-align: right;\">\n",
              "      <th></th>\n",
              "      <th>is_genuine</th>\n",
              "      <th>diagonal</th>\n",
              "      <th>height_left</th>\n",
              "      <th>height_right</th>\n",
              "      <th>margin_low</th>\n",
              "      <th>margin_up</th>\n",
              "      <th>length</th>\n",
              "    </tr>\n",
              "  </thead>\n",
              "  <tbody>\n",
              "    <tr>\n",
              "      <th>0</th>\n",
              "      <td>True</td>\n",
              "      <td>171.81</td>\n",
              "      <td>104.86</td>\n",
              "      <td>104.95</td>\n",
              "      <td>4.52</td>\n",
              "      <td>2.89</td>\n",
              "      <td>112.83</td>\n",
              "    </tr>\n",
              "    <tr>\n",
              "      <th>1</th>\n",
              "      <td>True</td>\n",
              "      <td>171.46</td>\n",
              "      <td>103.36</td>\n",
              "      <td>103.66</td>\n",
              "      <td>3.77</td>\n",
              "      <td>2.99</td>\n",
              "      <td>113.09</td>\n",
              "    </tr>\n",
              "    <tr>\n",
              "      <th>2</th>\n",
              "      <td>True</td>\n",
              "      <td>172.69</td>\n",
              "      <td>104.48</td>\n",
              "      <td>103.50</td>\n",
              "      <td>4.40</td>\n",
              "      <td>2.94</td>\n",
              "      <td>113.16</td>\n",
              "    </tr>\n",
              "    <tr>\n",
              "      <th>3</th>\n",
              "      <td>True</td>\n",
              "      <td>171.36</td>\n",
              "      <td>103.91</td>\n",
              "      <td>103.94</td>\n",
              "      <td>3.62</td>\n",
              "      <td>3.01</td>\n",
              "      <td>113.51</td>\n",
              "    </tr>\n",
              "    <tr>\n",
              "      <th>4</th>\n",
              "      <td>True</td>\n",
              "      <td>171.73</td>\n",
              "      <td>104.28</td>\n",
              "      <td>103.46</td>\n",
              "      <td>4.04</td>\n",
              "      <td>3.48</td>\n",
              "      <td>112.54</td>\n",
              "    </tr>\n",
              "    <tr>\n",
              "      <th>...</th>\n",
              "      <td>...</td>\n",
              "      <td>...</td>\n",
              "      <td>...</td>\n",
              "      <td>...</td>\n",
              "      <td>...</td>\n",
              "      <td>...</td>\n",
              "      <td>...</td>\n",
              "    </tr>\n",
              "    <tr>\n",
              "      <th>1495</th>\n",
              "      <td>False</td>\n",
              "      <td>171.75</td>\n",
              "      <td>104.38</td>\n",
              "      <td>104.17</td>\n",
              "      <td>4.42</td>\n",
              "      <td>3.09</td>\n",
              "      <td>111.28</td>\n",
              "    </tr>\n",
              "    <tr>\n",
              "      <th>1496</th>\n",
              "      <td>False</td>\n",
              "      <td>172.19</td>\n",
              "      <td>104.63</td>\n",
              "      <td>104.44</td>\n",
              "      <td>5.27</td>\n",
              "      <td>3.37</td>\n",
              "      <td>110.97</td>\n",
              "    </tr>\n",
              "    <tr>\n",
              "      <th>1497</th>\n",
              "      <td>False</td>\n",
              "      <td>171.80</td>\n",
              "      <td>104.01</td>\n",
              "      <td>104.12</td>\n",
              "      <td>5.51</td>\n",
              "      <td>3.36</td>\n",
              "      <td>111.95</td>\n",
              "    </tr>\n",
              "    <tr>\n",
              "      <th>1498</th>\n",
              "      <td>False</td>\n",
              "      <td>172.06</td>\n",
              "      <td>104.28</td>\n",
              "      <td>104.06</td>\n",
              "      <td>5.17</td>\n",
              "      <td>3.46</td>\n",
              "      <td>112.25</td>\n",
              "    </tr>\n",
              "    <tr>\n",
              "      <th>1499</th>\n",
              "      <td>False</td>\n",
              "      <td>171.47</td>\n",
              "      <td>104.15</td>\n",
              "      <td>103.82</td>\n",
              "      <td>4.63</td>\n",
              "      <td>3.37</td>\n",
              "      <td>112.07</td>\n",
              "    </tr>\n",
              "  </tbody>\n",
              "</table>\n",
              "<p>1500 rows × 7 columns</p>\n",
              "</div>\n",
              "      <button class=\"colab-df-convert\" onclick=\"convertToInteractive('df-a09faa05-1c0c-4be5-8b67-521e2c6c80b8')\"\n",
              "              title=\"Convert this dataframe to an interactive table.\"\n",
              "              style=\"display:none;\">\n",
              "        \n",
              "  <svg xmlns=\"http://www.w3.org/2000/svg\" height=\"24px\"viewBox=\"0 0 24 24\"\n",
              "       width=\"24px\">\n",
              "    <path d=\"M0 0h24v24H0V0z\" fill=\"none\"/>\n",
              "    <path d=\"M18.56 5.44l.94 2.06.94-2.06 2.06-.94-2.06-.94-.94-2.06-.94 2.06-2.06.94zm-11 1L8.5 8.5l.94-2.06 2.06-.94-2.06-.94L8.5 2.5l-.94 2.06-2.06.94zm10 10l.94 2.06.94-2.06 2.06-.94-2.06-.94-.94-2.06-.94 2.06-2.06.94z\"/><path d=\"M17.41 7.96l-1.37-1.37c-.4-.4-.92-.59-1.43-.59-.52 0-1.04.2-1.43.59L10.3 9.45l-7.72 7.72c-.78.78-.78 2.05 0 2.83L4 21.41c.39.39.9.59 1.41.59.51 0 1.02-.2 1.41-.59l7.78-7.78 2.81-2.81c.8-.78.8-2.07 0-2.86zM5.41 20L4 18.59l7.72-7.72 1.47 1.35L5.41 20z\"/>\n",
              "  </svg>\n",
              "      </button>\n",
              "      \n",
              "  <style>\n",
              "    .colab-df-container {\n",
              "      display:flex;\n",
              "      flex-wrap:wrap;\n",
              "      gap: 12px;\n",
              "    }\n",
              "\n",
              "    .colab-df-convert {\n",
              "      background-color: #E8F0FE;\n",
              "      border: none;\n",
              "      border-radius: 50%;\n",
              "      cursor: pointer;\n",
              "      display: none;\n",
              "      fill: #1967D2;\n",
              "      height: 32px;\n",
              "      padding: 0 0 0 0;\n",
              "      width: 32px;\n",
              "    }\n",
              "\n",
              "    .colab-df-convert:hover {\n",
              "      background-color: #E2EBFA;\n",
              "      box-shadow: 0px 1px 2px rgba(60, 64, 67, 0.3), 0px 1px 3px 1px rgba(60, 64, 67, 0.15);\n",
              "      fill: #174EA6;\n",
              "    }\n",
              "\n",
              "    [theme=dark] .colab-df-convert {\n",
              "      background-color: #3B4455;\n",
              "      fill: #D2E3FC;\n",
              "    }\n",
              "\n",
              "    [theme=dark] .colab-df-convert:hover {\n",
              "      background-color: #434B5C;\n",
              "      box-shadow: 0px 1px 3px 1px rgba(0, 0, 0, 0.15);\n",
              "      filter: drop-shadow(0px 1px 2px rgba(0, 0, 0, 0.3));\n",
              "      fill: #FFFFFF;\n",
              "    }\n",
              "  </style>\n",
              "\n",
              "      <script>\n",
              "        const buttonEl =\n",
              "          document.querySelector('#df-a09faa05-1c0c-4be5-8b67-521e2c6c80b8 button.colab-df-convert');\n",
              "        buttonEl.style.display =\n",
              "          google.colab.kernel.accessAllowed ? 'block' : 'none';\n",
              "\n",
              "        async function convertToInteractive(key) {\n",
              "          const element = document.querySelector('#df-a09faa05-1c0c-4be5-8b67-521e2c6c80b8');\n",
              "          const dataTable =\n",
              "            await google.colab.kernel.invokeFunction('convertToInteractive',\n",
              "                                                     [key], {});\n",
              "          if (!dataTable) return;\n",
              "\n",
              "          const docLinkHtml = 'Like what you see? Visit the ' +\n",
              "            '<a target=\"_blank\" href=https://colab.research.google.com/notebooks/data_table.ipynb>data table notebook</a>'\n",
              "            + ' to learn more about interactive tables.';\n",
              "          element.innerHTML = '';\n",
              "          dataTable['output_type'] = 'display_data';\n",
              "          await google.colab.output.renderOutput(dataTable, element);\n",
              "          const docLink = document.createElement('div');\n",
              "          docLink.innerHTML = docLinkHtml;\n",
              "          element.appendChild(docLink);\n",
              "        }\n",
              "      </script>\n",
              "    </div>\n",
              "  </div>\n",
              "  "
            ]
          },
          "metadata": {},
          "execution_count": 7
        }
      ]
    },
    {
      "cell_type": "code",
      "source": [
        "print(type(df))\n",
        "print(type(filled_df)) # 원래 dataset과 결측치를 보간한 dataset은 데이터 타입이 다르다."
      ],
      "metadata": {
        "colab": {
          "base_uri": "https://localhost:8080/"
        },
        "id": "MflDsEuEEZ3_",
        "outputId": "b9341ba6-8520-4b50-948e-50edd15a0afe"
      },
      "execution_count": 8,
      "outputs": [
        {
          "output_type": "stream",
          "name": "stdout",
          "text": [
            "<class 'pandas.core.frame.DataFrame'>\n",
            "<class 'numpy.ndarray'>\n"
          ]
        }
      ]
    },
    {
      "cell_type": "markdown",
      "source": [
        "**(3) 자료 확인 (np.corrcoef)**"
      ],
      "metadata": {
        "id": "NuZmTPLjHlK0"
      }
    },
    {
      "cell_type": "code",
      "source": [
        "import matplotlib.pyplot as plt\n",
        "import seaborn as sns\n",
        "corr_mat = np.corrcoef(filled_df,rowvar=False) # 상관계수를 계산해주는 함수\n",
        "print(np.round(corr_mat,3)) # 완전히 symmetric한 형태"
      ],
      "metadata": {
        "colab": {
          "base_uri": "https://localhost:8080/"
        },
        "id": "-sy00FzwqggM",
        "outputId": "da223b20-7784-4ac4-b300-ed80daa0ad84"
      },
      "execution_count": 9,
      "outputs": [
        {
          "output_type": "stream",
          "name": "stdout",
          "text": [
            "[[ 1.     0.133 -0.38  -0.485 -0.785 -0.606  0.849]\n",
            " [ 0.133  1.     0.019 -0.024 -0.111 -0.056  0.098]\n",
            " [-0.38   0.019  1.     0.242  0.308  0.247 -0.321]\n",
            " [-0.485 -0.024  0.242  1.     0.39   0.307 -0.402]\n",
            " [-0.785 -0.111  0.308  0.39   1.     0.428 -0.667]\n",
            " [-0.606 -0.056  0.247  0.307  0.428  1.    -0.521]\n",
            " [ 0.849  0.098 -0.321 -0.402 -0.667 -0.521  1.   ]]\n"
          ]
        }
      ]
    },
    {
      "cell_type": "code",
      "source": [
        "corr_df = pd.DataFrame(corr_mat,columns=df.columns,index=df.columns)\n",
        "sns.heatmap(corr_df, linewidth=1, vmax = 1.0, cmap='plasma')\n",
        "plt.figure(figsize=(10, 8))\n",
        "plt.show() # heatmap으로 표현"
      ],
      "metadata": {
        "colab": {
          "base_uri": "https://localhost:8080/",
          "height": 523
        },
        "id": "RM2us82ghWEt",
        "outputId": "edd06234-eaa4-4b16-b4f3-62fdda241cbb"
      },
      "execution_count": 10,
      "outputs": [
        {
          "output_type": "display_data",
          "data": {
            "text/plain": [
              "<Figure size 640x480 with 2 Axes>"
            ],
            "image/png": "[encoded data removed]"
          },
          "metadata": {}
        },
        {
          "output_type": "display_data",
          "data": {
            "text/plain": [
              "<Figure size 1000x800 with 0 Axes>"
            ]
          },
          "metadata": {}
        }
      ]
    },
    {
      "cell_type": "markdown",
      "source": [
        "**(4) standardization**"
      ],
      "metadata": {
        "id": "n0cPkUGkIy1l"
      }
    },
    {
      "cell_type": "code",
      "source": [
        "from sklearn.preprocessing import StandardScaler\n",
        "data_standadized = StandardScaler().fit_transform(filled_df)\n",
        "pd.DataFrame(data_standadized)"
      ],
      "metadata": {
        "colab": {
          "base_uri": "https://localhost:8080/",
          "height": 424
        },
        "id": "VECobWKYoBHp",
        "outputId": "be5115c8-fb2e-4b48-c287-9f31156ab6b4"
      },
      "execution_count": 11,
      "outputs": [
        {
          "output_type": "execute_result",
          "data": {
            "text/plain": [
              "             0         1         2         3         4         5         6\n",
              "0     0.707107 -0.486540  2.774123  3.163240  0.054615 -1.128325  0.173651\n",
              "1     0.707107 -1.633729 -2.236535 -0.799668 -1.082481 -0.696799  0.471666\n",
              "2     0.707107  2.397823  1.504756 -1.291191 -0.127320 -0.912562  0.551901\n",
              "3     0.707107 -1.961498 -0.399294  0.060498 -1.309900 -0.610494  0.953075\n",
              "4     0.707107 -0.748754  0.836669 -1.414072 -0.673126  1.417677 -0.158750\n",
              "...        ...       ...       ...       ...       ...       ...       ...\n",
              "1495 -1.414214 -0.683201  1.170713  0.767063 -0.096998 -0.265273 -1.602978\n",
              "1496 -1.414214  0.758981  2.005822  1.596509  1.191711  0.942999 -1.958303\n",
              "1497 -1.414214 -0.519316 -0.065250  0.613462  1.555581  0.899846 -0.835016\n",
              "1498 -1.414214  0.332882  0.836669  0.429141  1.040098  1.331372 -0.491152\n",
              "1499 -1.414214 -1.600953  0.402412 -0.308144  0.221389  0.942999 -0.697470\n",
              "\n",
              "[1500 rows x 7 columns]"
            ],
            "text/html": [
              "\n",
              "  <div id=\"df-51fe8b41-e8c8-4583-bdee-067311f7673c\">\n",
              "    <div class=\"colab-df-container\">\n",
              "      <div>\n",
              "<style scoped>\n",
              "    .dataframe tbody tr th:only-of-type {\n",
              "        vertical-align: middle;\n",
              "    }\n",
              "\n",
              "    .dataframe tbody tr th {\n",
              "        vertical-align: top;\n",
              "    }\n",
              "\n",
              "    .dataframe thead th {\n",
              "        text-align: right;\n",
              "    }\n",
              "</style>\n",
              "<table border=\"1\" class=\"dataframe\">\n",
              "  <thead>\n",
              "    <tr style=\"text-align: right;\">\n",
              "      <th></th>\n",
              "      <th>0</th>\n",
              "      <th>1</th>\n",
              "      <th>2</th>\n",
              "      <th>3</th>\n",
              "      <th>4</th>\n",
              "      <th>5</th>\n",
              "      <th>6</th>\n",
              "    </tr>\n",
              "  </thead>\n",
              "  <tbody>\n",
              "    <tr>\n",
              "      <th>0</th>\n",
              "      <td>0.707107</td>\n",
              "      <td>-0.486540</td>\n",
              "      <td>2.774123</td>\n",
              "      <td>3.163240</td>\n",
              "      <td>0.054615</td>\n",
              "      <td>-1.128325</td>\n",
              "      <td>0.173651</td>\n",
              "    </tr>\n",
              "    <tr>\n",
              "      <th>1</th>\n",
              "      <td>0.707107</td>\n",
              "      <td>-1.633729</td>\n",
              "      <td>-2.236535</td>\n",
              "      <td>-0.799668</td>\n",
              "      <td>-1.082481</td>\n",
              "      <td>-0.696799</td>\n",
              "      <td>0.471666</td>\n",
              "    </tr>\n",
              "    <tr>\n",
              "      <th>2</th>\n",
              "      <td>0.707107</td>\n",
              "      <td>2.397823</td>\n",
              "      <td>1.504756</td>\n",
              "      <td>-1.291191</td>\n",
              "      <td>-0.127320</td>\n",
              "      <td>-0.912562</td>\n",
              "      <td>0.551901</td>\n",
              "    </tr>\n",
              "    <tr>\n",
              "      <th>3</th>\n",
              "      <td>0.707107</td>\n",
              "      <td>-1.961498</td>\n",
              "      <td>-0.399294</td>\n",
              "      <td>0.060498</td>\n",
              "      <td>-1.309900</td>\n",
              "      <td>-0.610494</td>\n",
              "      <td>0.953075</td>\n",
              "    </tr>\n",
              "    <tr>\n",
              "      <th>4</th>\n",
              "      <td>0.707107</td>\n",
              "      <td>-0.748754</td>\n",
              "      <td>0.836669</td>\n",
              "      <td>-1.414072</td>\n",
              "      <td>-0.673126</td>\n",
              "      <td>1.417677</td>\n",
              "      <td>-0.158750</td>\n",
              "    </tr>\n",
              "    <tr>\n",
              "      <th>...</th>\n",
              "      <td>...</td>\n",
              "      <td>...</td>\n",
              "      <td>...</td>\n",
              "      <td>...</td>\n",
              "      <td>...</td>\n",
              "      <td>...</td>\n",
              "      <td>...</td>\n",
              "    </tr>\n",
              "    <tr>\n",
              "      <th>1495</th>\n",
              "      <td>-1.414214</td>\n",
              "      <td>-0.683201</td>\n",
              "      <td>1.170713</td>\n",
              "      <td>0.767063</td>\n",
              "      <td>-0.096998</td>\n",
              "      <td>-0.265273</td>\n",
              "      <td>-1.602978</td>\n",
              "    </tr>\n",
              "    <tr>\n",
              "      <th>1496</th>\n",
              "      <td>-1.414214</td>\n",
              "      <td>0.758981</td>\n",
              "      <td>2.005822</td>\n",
              "      <td>1.596509</td>\n",
              "      <td>1.191711</td>\n",
              "      <td>0.942999</td>\n",
              "      <td>-1.958303</td>\n",
              "    </tr>\n",
              "    <tr>\n",
              "      <th>1497</th>\n",
              "      <td>-1.414214</td>\n",
              "      <td>-0.519316</td>\n",
              "      <td>-0.065250</td>\n",
              "      <td>0.613462</td>\n",
              "      <td>1.555581</td>\n",
              "      <td>0.899846</td>\n",
              "      <td>-0.835016</td>\n",
              "    </tr>\n",
              "    <tr>\n",
              "      <th>1498</th>\n",
              "      <td>-1.414214</td>\n",
              "      <td>0.332882</td>\n",
              "      <td>0.836669</td>\n",
              "      <td>0.429141</td>\n",
              "      <td>1.040098</td>\n",
              "      <td>1.331372</td>\n",
              "      <td>-0.491152</td>\n",
              "    </tr>\n",
              "    <tr>\n",
              "      <th>1499</th>\n",
              "      <td>-1.414214</td>\n",
              "      <td>-1.600953</td>\n",
              "      <td>0.402412</td>\n",
              "      <td>-0.308144</td>\n",
              "      <td>0.221389</td>\n",
              "      <td>0.942999</td>\n",
              "      <td>-0.697470</td>\n",
              "    </tr>\n",
              "  </tbody>\n",
              "</table>\n",
              "<p>1500 rows × 7 columns</p>\n",
              "</div>\n",
              "      <button class=\"colab-df-convert\" onclick=\"convertToInteractive('df-51fe8b41-e8c8-4583-bdee-067311f7673c')\"\n",
              "              title=\"Convert this dataframe to an interactive table.\"\n",
              "              style=\"display:none;\">\n",
              "        \n",
              "  <svg xmlns=\"http://www.w3.org/2000/svg\" height=\"24px\"viewBox=\"0 0 24 24\"\n",
              "       width=\"24px\">\n",
              "    <path d=\"M0 0h24v24H0V0z\" fill=\"none\"/>\n",
              "    <path d=\"M18.56 5.44l.94 2.06.94-2.06 2.06-.94-2.06-.94-.94-2.06-.94 2.06-2.06.94zm-11 1L8.5 8.5l.94-2.06 2.06-.94-2.06-.94L8.5 2.5l-.94 2.06-2.06.94zm10 10l.94 2.06.94-2.06 2.06-.94-2.06-.94-.94-2.06-.94 2.06-2.06.94z\"/><path d=\"M17.41 7.96l-1.37-1.37c-.4-.4-.92-.59-1.43-.59-.52 0-1.04.2-1.43.59L10.3 9.45l-7.72 7.72c-.78.78-.78 2.05 0 2.83L4 21.41c.39.39.9.59 1.41.59.51 0 1.02-.2 1.41-.59l7.78-7.78 2.81-2.81c.8-.78.8-2.07 0-2.86zM5.41 20L4 18.59l7.72-7.72 1.47 1.35L5.41 20z\"/>\n",
              "  </svg>\n",
              "      </button>\n",
              "      \n",
              "  <style>\n",
              "    .colab-df-container {\n",
              "      display:flex;\n",
              "      flex-wrap:wrap;\n",
              "      gap: 12px;\n",
              "    }\n",
              "\n",
              "    .colab-df-convert {\n",
              "      background-color: #E8F0FE;\n",
              "      border: none;\n",
              "      border-radius: 50%;\n",
              "      cursor: pointer;\n",
              "      display: none;\n",
              "      fill: #1967D2;\n",
              "      height: 32px;\n",
              "      padding: 0 0 0 0;\n",
              "      width: 32px;\n",
              "    }\n",
              "\n",
              "    .colab-df-convert:hover {\n",
              "      background-color: #E2EBFA;\n",
              "      box-shadow: 0px 1px 2px rgba(60, 64, 67, 0.3), 0px 1px 3px 1px rgba(60, 64, 67, 0.15);\n",
              "      fill: #174EA6;\n",
              "    }\n",
              "\n",
              "    [theme=dark] .colab-df-convert {\n",
              "      background-color: #3B4455;\n",
              "      fill: #D2E3FC;\n",
              "    }\n",
              "\n",
              "    [theme=dark] .colab-df-convert:hover {\n",
              "      background-color: #434B5C;\n",
              "      box-shadow: 0px 1px 3px 1px rgba(0, 0, 0, 0.15);\n",
              "      filter: drop-shadow(0px 1px 2px rgba(0, 0, 0, 0.3));\n",
              "      fill: #FFFFFF;\n",
              "    }\n",
              "  </style>\n",
              "\n",
              "      <script>\n",
              "        const buttonEl =\n",
              "          document.querySelector('#df-51fe8b41-e8c8-4583-bdee-067311f7673c button.colab-df-convert');\n",
              "        buttonEl.style.display =\n",
              "          google.colab.kernel.accessAllowed ? 'block' : 'none';\n",
              "\n",
              "        async function convertToInteractive(key) {\n",
              "          const element = document.querySelector('#df-51fe8b41-e8c8-4583-bdee-067311f7673c');\n",
              "          const dataTable =\n",
              "            await google.colab.kernel.invokeFunction('convertToInteractive',\n",
              "                                                     [key], {});\n",
              "          if (!dataTable) return;\n",
              "\n",
              "          const docLinkHtml = 'Like what you see? Visit the ' +\n",
              "            '<a target=\"_blank\" href=https://colab.research.google.com/notebooks/data_table.ipynb>data table notebook</a>'\n",
              "            + ' to learn more about interactive tables.';\n",
              "          element.innerHTML = '';\n",
              "          dataTable['output_type'] = 'display_data';\n",
              "          await google.colab.output.renderOutput(dataTable, element);\n",
              "          const docLink = document.createElement('div');\n",
              "          docLink.innerHTML = docLinkHtml;\n",
              "          element.appendChild(docLink);\n",
              "        }\n",
              "      </script>\n",
              "    </div>\n",
              "  </div>\n",
              "  "
            ]
          },
          "metadata": {},
          "execution_count": 11
        }
      ]
    },
    {
      "cell_type": "markdown",
      "source": [
        "**(5) train dataset, test dataset 구분**"
      ],
      "metadata": {
        "id": "FOVfVjj5KQtl"
      }
    },
    {
      "cell_type": "code",
      "source": [
        "df_sta = pd.DataFrame(data_standadized)\n",
        "feature_df = df_sta.iloc[:, :-1]\n",
        "target_df = df_sta.iloc[:, -1]\n",
        "target_df_encoded = pd.get_dummies(target_df)\n",
        "df_sta.keys()"
      ],
      "metadata": {
        "id": "zEISVGZ6Z_hL",
        "colab": {
          "base_uri": "https://localhost:8080/"
        },
        "outputId": "e0997662-034e-46fa-cdca-6c99fa03b9f9"
      },
      "execution_count": 17,
      "outputs": [
        {
          "output_type": "execute_result",
          "data": {
            "text/plain": [
              "RangeIndex(start=0, stop=7, step=1)"
            ]
          },
          "metadata": {},
          "execution_count": 17
        }
      ]
    },
    {
      "cell_type": "code",
      "source": [
        "from sklearn.model_selection import train_test_split\n",
        "\n",
        "X_train, X_test , y_train, y_test = train_test_split(feature_df, target_df, test_size = 0.3, stratify = target_df, random_state = 100)"
      ],
      "metadata": {
        "colab": {
          "base_uri": "https://localhost:8080/",
          "height": 355
        },
        "id": "C9Oz6Po1AKen",
        "outputId": "2f725b94-3b25-4ae2-cc18-9b0e7998d75f"
      },
      "execution_count": 13,
      "outputs": [
        {
          "output_type": "error",
          "ename": "ValueError",
          "evalue": "ignored",
          "traceback": [
            "\u001b[0;31m---------------------------------------------------------------------------\u001b[0m",
            "\u001b[0;31mValueError\u001b[0m                                Traceback (most recent call last)",
            "\u001b[0;32m<ipython-input-13-a941b368381f>\u001b[0m in \u001b[0;36m<cell line: 3>\u001b[0;34m()\u001b[0m\n\u001b[1;32m      1\u001b[0m \u001b[0;32mfrom\u001b[0m \u001b[0msklearn\u001b[0m\u001b[0;34m.\u001b[0m\u001b[0mmodel_selection\u001b[0m \u001b[0;32mimport\u001b[0m \u001b[0mtrain_test_split\u001b[0m\u001b[0;34m\u001b[0m\u001b[0;34m\u001b[0m\u001b[0m\n\u001b[1;32m      2\u001b[0m \u001b[0;34m\u001b[0m\u001b[0m\n\u001b[0;32m----> 3\u001b[0;31m \u001b[0mX_train\u001b[0m\u001b[0;34m,\u001b[0m \u001b[0mX_test\u001b[0m \u001b[0;34m,\u001b[0m \u001b[0my_train\u001b[0m\u001b[0;34m,\u001b[0m \u001b[0my_test\u001b[0m \u001b[0;34m=\u001b[0m \u001b[0mtrain_test_split\u001b[0m\u001b[0;34m(\u001b[0m\u001b[0mfeature_df\u001b[0m\u001b[0;34m,\u001b[0m \u001b[0mtarget_df\u001b[0m\u001b[0;34m,\u001b[0m \u001b[0mtest_size\u001b[0m \u001b[0;34m=\u001b[0m \u001b[0;36m0.3\u001b[0m\u001b[0;34m,\u001b[0m \u001b[0mstratify\u001b[0m \u001b[0;34m=\u001b[0m \u001b[0mtarget_df\u001b[0m\u001b[0;34m,\u001b[0m \u001b[0mrandom_state\u001b[0m \u001b[0;34m=\u001b[0m \u001b[0;36m100\u001b[0m\u001b[0;34m)\u001b[0m\u001b[0;34m\u001b[0m\u001b[0;34m\u001b[0m\u001b[0m\n\u001b[0m",
            "\u001b[0;32m/usr/local/lib/python3.10/dist-packages/sklearn/model_selection/_split.py\u001b[0m in \u001b[0;36mtrain_test_split\u001b[0;34m(test_size, train_size, random_state, shuffle, stratify, *arrays)\u001b[0m\n\u001b[1;32m   2581\u001b[0m         \u001b[0mcv\u001b[0m \u001b[0;34m=\u001b[0m \u001b[0mCVClass\u001b[0m\u001b[0;34m(\u001b[0m\u001b[0mtest_size\u001b[0m\u001b[0;34m=\u001b[0m\u001b[0mn_test\u001b[0m\u001b[0;34m,\u001b[0m \u001b[0mtrain_size\u001b[0m\u001b[0;34m=\u001b[0m\u001b[0mn_train\u001b[0m\u001b[0;34m,\u001b[0m \u001b[0mrandom_state\u001b[0m\u001b[0;34m=\u001b[0m\u001b[0mrandom_state\u001b[0m\u001b[0;34m)\u001b[0m\u001b[0;34m\u001b[0m\u001b[0;34m\u001b[0m\u001b[0m\n\u001b[1;32m   2582\u001b[0m \u001b[0;34m\u001b[0m\u001b[0m\n\u001b[0;32m-> 2583\u001b[0;31m         \u001b[0mtrain\u001b[0m\u001b[0;34m,\u001b[0m \u001b[0mtest\u001b[0m \u001b[0;34m=\u001b[0m \u001b[0mnext\u001b[0m\u001b[0;34m(\u001b[0m\u001b[0mcv\u001b[0m\u001b[0;34m.\u001b[0m\u001b[0msplit\u001b[0m\u001b[0;34m(\u001b[0m\u001b[0mX\u001b[0m\u001b[0;34m=\u001b[0m\u001b[0marrays\u001b[0m\u001b[0;34m[\u001b[0m\u001b[0;36m0\u001b[0m\u001b[0;34m]\u001b[0m\u001b[0;34m,\u001b[0m \u001b[0my\u001b[0m\u001b[0;34m=\u001b[0m\u001b[0mstratify\u001b[0m\u001b[0;34m)\u001b[0m\u001b[0;34m)\u001b[0m\u001b[0;34m\u001b[0m\u001b[0;34m\u001b[0m\u001b[0m\n\u001b[0m\u001b[1;32m   2584\u001b[0m \u001b[0;34m\u001b[0m\u001b[0m\n\u001b[1;32m   2585\u001b[0m     return list(\n",
            "\u001b[0;32m/usr/local/lib/python3.10/dist-packages/sklearn/model_selection/_split.py\u001b[0m in \u001b[0;36msplit\u001b[0;34m(self, X, y, groups)\u001b[0m\n\u001b[1;32m   1687\u001b[0m         \"\"\"\n\u001b[1;32m   1688\u001b[0m         \u001b[0mX\u001b[0m\u001b[0;34m,\u001b[0m \u001b[0my\u001b[0m\u001b[0;34m,\u001b[0m \u001b[0mgroups\u001b[0m \u001b[0;34m=\u001b[0m \u001b[0mindexable\u001b[0m\u001b[0;34m(\u001b[0m\u001b[0mX\u001b[0m\u001b[0;34m,\u001b[0m \u001b[0my\u001b[0m\u001b[0;34m,\u001b[0m \u001b[0mgroups\u001b[0m\u001b[0;34m)\u001b[0m\u001b[0;34m\u001b[0m\u001b[0;34m\u001b[0m\u001b[0m\n\u001b[0;32m-> 1689\u001b[0;31m         \u001b[0;32mfor\u001b[0m \u001b[0mtrain\u001b[0m\u001b[0;34m,\u001b[0m \u001b[0mtest\u001b[0m \u001b[0;32min\u001b[0m \u001b[0mself\u001b[0m\u001b[0;34m.\u001b[0m\u001b[0m_iter_indices\u001b[0m\u001b[0;34m(\u001b[0m\u001b[0mX\u001b[0m\u001b[0;34m,\u001b[0m \u001b[0my\u001b[0m\u001b[0;34m,\u001b[0m \u001b[0mgroups\u001b[0m\u001b[0;34m)\u001b[0m\u001b[0;34m:\u001b[0m\u001b[0;34m\u001b[0m\u001b[0;34m\u001b[0m\u001b[0m\n\u001b[0m\u001b[1;32m   1690\u001b[0m             \u001b[0;32myield\u001b[0m \u001b[0mtrain\u001b[0m\u001b[0;34m,\u001b[0m \u001b[0mtest\u001b[0m\u001b[0;34m\u001b[0m\u001b[0;34m\u001b[0m\u001b[0m\n\u001b[1;32m   1691\u001b[0m \u001b[0;34m\u001b[0m\u001b[0m\n",
            "\u001b[0;32m/usr/local/lib/python3.10/dist-packages/sklearn/model_selection/_split.py\u001b[0m in \u001b[0;36m_iter_indices\u001b[0;34m(self, X, y, groups)\u001b[0m\n\u001b[1;32m   2076\u001b[0m         \u001b[0mclass_counts\u001b[0m \u001b[0;34m=\u001b[0m \u001b[0mnp\u001b[0m\u001b[0;34m.\u001b[0m\u001b[0mbincount\u001b[0m\u001b[0;34m(\u001b[0m\u001b[0my_indices\u001b[0m\u001b[0;34m)\u001b[0m\u001b[0;34m\u001b[0m\u001b[0;34m\u001b[0m\u001b[0m\n\u001b[1;32m   2077\u001b[0m         \u001b[0;32mif\u001b[0m \u001b[0mnp\u001b[0m\u001b[0;34m.\u001b[0m\u001b[0mmin\u001b[0m\u001b[0;34m(\u001b[0m\u001b[0mclass_counts\u001b[0m\u001b[0;34m)\u001b[0m \u001b[0;34m<\u001b[0m \u001b[0;36m2\u001b[0m\u001b[0;34m:\u001b[0m\u001b[0;34m\u001b[0m\u001b[0;34m\u001b[0m\u001b[0m\n\u001b[0;32m-> 2078\u001b[0;31m             raise ValueError(\n\u001b[0m\u001b[1;32m   2079\u001b[0m                 \u001b[0;34m\"The least populated class in y has only 1\"\u001b[0m\u001b[0;34m\u001b[0m\u001b[0;34m\u001b[0m\u001b[0m\n\u001b[1;32m   2080\u001b[0m                 \u001b[0;34m\" member, which is too few. The minimum\"\u001b[0m\u001b[0;34m\u001b[0m\u001b[0;34m\u001b[0m\u001b[0m\n",
            "\u001b[0;31mValueError\u001b[0m: The least populated class in y has only 1 member, which is too few. The minimum number of groups for any class cannot be less than 2."
          ]
        }
      ]
    },
    {
      "cell_type": "code",
      "source": [
        "from sklearn.model_selection import train_test_split\n",
        "X_train, X_test , y_train, y_test = train_test_split(feature_df, target_df_encoded, test_size = 0.3, random_state = 100)"
      ],
      "metadata": {
        "id": "AUgrNyBhjWY5"
      },
      "execution_count": 18,
      "outputs": []
    },
    {
      "cell_type": "code",
      "source": [
        "print(len(X_train))\n",
        "print(len(X_test))\n",
        "print(len(y_train))\n",
        "print(len(y_test))"
      ],
      "metadata": {
        "colab": {
          "base_uri": "https://localhost:8080/"
        },
        "id": "RzJ7b0u5ghwz",
        "outputId": "17227f45-4b7c-41d9-c470-4310e5101602"
      },
      "execution_count": 19,
      "outputs": [
        {
          "output_type": "stream",
          "name": "stdout",
          "text": [
            "1050\n",
            "450\n",
            "1050\n",
            "450\n"
          ]
        }
      ]
    },
    {
      "cell_type": "markdown",
      "source": [
        "**(6) GridSearch**"
      ],
      "metadata": {
        "id": "SlhZwfLpYi9L"
      }
    },
    {
      "cell_type": "code",
      "source": [
        "from sklearn.neighbors import KNeighborsClassifier\n",
        "from sklearn.model_selection import GridSearchCV\n",
        "param_grid = {'n_neighbors': np.arange(1,25)}\n",
        "grid = GridSearchCV(KNeighborsClassifier(), param_grid, cv=10, scoring='accuracy')\n",
        "grid.fit(X_train, y_train)"
      ],
      "metadata": {
        "colab": {
          "base_uri": "https://localhost:8080/",
          "height": 118
        },
        "id": "z7snvrxXPUmH",
        "outputId": "15401d8d-eda1-4111-e00b-eb77a1046f5a"
      },
      "execution_count": 26,
      "outputs": [
        {
          "output_type": "execute_result",
          "data": {
            "text/plain": [
              "GridSearchCV(cv=10, estimator=KNeighborsClassifier(),\n",
              "             param_grid={'n_neighbors': array([ 1,  2,  3,  4,  5,  6,  7,  8,  9, 10, 11, 12, 13, 14, 15, 16, 17,\n",
              "       18, 19, 20, 21, 22, 23, 24])},\n",
              "             scoring='accuracy')"
            ],
            "text/html": [
              "<style>#sk-container-id-2 {color: black;background-color: white;}#sk-container-id-2 pre{padding: 0;}#sk-container-id-2 div.sk-toggleable {background-color: white;}#sk-container-id-2 label.sk-toggleable__label {cursor: pointer;display: block;width: 100%;margin-bottom: 0;padding: 0.3em;box-sizing: border-box;text-align: center;}#sk-container-id-2 label.sk-toggleable__label-arrow:before {content: \"▸\";float: left;margin-right: 0.25em;color: #696969;}#sk-container-id-2 label.sk-toggleable__label-arrow:hover:before {color: black;}#sk-container-id-2 div.sk-estimator:hover label.sk-toggleable__label-arrow:before {color: black;}#sk-container-id-2 div.sk-toggleable__content {max-height: 0;max-width: 0;overflow: hidden;text-align: left;background-color: #f0f8ff;}#sk-container-id-2 div.sk-toggleable__content pre {margin: 0.2em;color: black;border-radius: 0.25em;background-color: #f0f8ff;}#sk-container-id-2 input.sk-toggleable__control:checked~div.sk-toggleable__content {max-height: 200px;max-width: 100%;overflow: auto;}#sk-container-id-2 input.sk-toggleable__control:checked~label.sk-toggleable__label-arrow:before {content: \"▾\";}#sk-container-id-2 div.sk-estimator input.sk-toggleable__control:checked~label.sk-toggleable__label {background-color: #d4ebff;}#sk-container-id-2 div.sk-label input.sk-toggleable__control:checked~label.sk-toggleable__label {background-color: #d4ebff;}#sk-container-id-2 input.sk-hidden--visually {border: 0;clip: rect(1px 1px 1px 1px);clip: rect(1px, 1px, 1px, 1px);height: 1px;margin: -1px;overflow: hidden;padding: 0;position: absolute;width: 1px;}#sk-container-id-2 div.sk-estimator {font-family: monospace;background-color: #f0f8ff;border: 1px dotted black;border-radius: 0.25em;box-sizing: border-box;margin-bottom: 0.5em;}#sk-container-id-2 div.sk-estimator:hover {background-color: #d4ebff;}#sk-container-id-2 div.sk-parallel-item::after {content: \"\";width: 100%;border-bottom: 1px solid gray;flex-grow: 1;}#sk-container-id-2 div.sk-label:hover label.sk-toggleable__label {background-color: #d4ebff;}#sk-container-id-2 div.sk-serial::before {content: \"\";position: absolute;border-left: 1px solid gray;box-sizing: border-box;top: 0;bottom: 0;left: 50%;z-index: 0;}#sk-container-id-2 div.sk-serial {display: flex;flex-direction: column;align-items: center;background-color: white;padding-right: 0.2em;padding-left: 0.2em;position: relative;}#sk-container-id-2 div.sk-item {position: relative;z-index: 1;}#sk-container-id-2 div.sk-parallel {display: flex;align-items: stretch;justify-content: center;background-color: white;position: relative;}#sk-container-id-2 div.sk-item::before, #sk-container-id-2 div.sk-parallel-item::before {content: \"\";position: absolute;border-left: 1px solid gray;box-sizing: border-box;top: 0;bottom: 0;left: 50%;z-index: -1;}#sk-container-id-2 div.sk-parallel-item {display: flex;flex-direction: column;z-index: 1;position: relative;background-color: white;}#sk-container-id-2 div.sk-parallel-item:first-child::after {align-self: flex-end;width: 50%;}#sk-container-id-2 div.sk-parallel-item:last-child::after {align-self: flex-start;width: 50%;}#sk-container-id-2 div.sk-parallel-item:only-child::after {width: 0;}#sk-container-id-2 div.sk-dashed-wrapped {border: 1px dashed gray;margin: 0 0.4em 0.5em 0.4em;box-sizing: border-box;padding-bottom: 0.4em;background-color: white;}#sk-container-id-2 div.sk-label label {font-family: monospace;font-weight: bold;display: inline-block;line-height: 1.2em;}#sk-container-id-2 div.sk-label-container {text-align: center;}#sk-container-id-2 div.sk-container {/* jupyter's `normalize.less` sets `[hidden] { display: none; }` but bootstrap.min.css set `[hidden] { display: none !important; }` so we also need the `!important` here to be able to override the default hidden behavior on the sphinx rendered scikit-learn.org. See: https://github.com/scikit-learn/scikit-learn/issues/21755 */display: inline-block !important;position: relative;}#sk-container-id-2 div.sk-text-repr-fallback {display: none;}</style><div id=\"sk-container-id-2\" class=\"sk-top-container\"><div class=\"sk-text-repr-fallback\"><pre>GridSearchCV(cv=10, estimator=KNeighborsClassifier(),\n",
              "             param_grid={&#x27;n_neighbors&#x27;: array([ 1,  2,  3,  4,  5,  6,  7,  8,  9, 10, 11, 12, 13, 14, 15, 16, 17,\n",
              "       18, 19, 20, 21, 22, 23, 24])},\n",
              "             scoring=&#x27;accuracy&#x27;)</pre><b>In a Jupyter environment, please rerun this cell to show the HTML representation or trust the notebook. <br />On GitHub, the HTML representation is unable to render, please try loading this page with nbviewer.org.</b></div><div class=\"sk-container\" hidden><div class=\"sk-item sk-dashed-wrapped\"><div class=\"sk-label-container\"><div class=\"sk-label sk-toggleable\"><input class=\"sk-toggleable__control sk-hidden--visually\" id=\"sk-estimator-id-4\" type=\"checkbox\" ><label for=\"sk-estimator-id-4\" class=\"sk-toggleable__label sk-toggleable__label-arrow\">GridSearchCV</label><div class=\"sk-toggleable__content\"><pre>GridSearchCV(cv=10, estimator=KNeighborsClassifier(),\n",
              "             param_grid={&#x27;n_neighbors&#x27;: array([ 1,  2,  3,  4,  5,  6,  7,  8,  9, 10, 11, 12, 13, 14, 15, 16, 17,\n",
              "       18, 19, 20, 21, 22, 23, 24])},\n",
              "             scoring=&#x27;accuracy&#x27;)</pre></div></div></div><div class=\"sk-parallel\"><div class=\"sk-parallel-item\"><div class=\"sk-item\"><div class=\"sk-label-container\"><div class=\"sk-label sk-toggleable\"><input class=\"sk-toggleable__control sk-hidden--visually\" id=\"sk-estimator-id-5\" type=\"checkbox\" ><label for=\"sk-estimator-id-5\" class=\"sk-toggleable__label sk-toggleable__label-arrow\">estimator: KNeighborsClassifier</label><div class=\"sk-toggleable__content\"><pre>KNeighborsClassifier()</pre></div></div></div><div class=\"sk-serial\"><div class=\"sk-item\"><div class=\"sk-estimator sk-toggleable\"><input class=\"sk-toggleable__control sk-hidden--visually\" id=\"sk-estimator-id-6\" type=\"checkbox\" ><label for=\"sk-estimator-id-6\" class=\"sk-toggleable__label sk-toggleable__label-arrow\">KNeighborsClassifier</label><div class=\"sk-toggleable__content\"><pre>KNeighborsClassifier()</pre></div></div></div></div></div></div></div></div></div></div>"
            ]
          },
          "metadata": {},
          "execution_count": 26
        }
      ]
    },
    {
      "cell_type": "markdown",
      "source": [
        "**(7) score**"
      ],
      "metadata": {
        "id": "Mw8Z3cF3mvz6"
      }
    },
    {
      "cell_type": "code",
      "source": [
        "y_pred = grid.predict(X_test)\n"
      ],
      "metadata": {
        "id": "6BTLIaSbnWBP"
      },
      "execution_count": 27,
      "outputs": []
    }
  ]
}