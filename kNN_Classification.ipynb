{
  "nbformat": 4,
  "nbformat_minor": 0,
  "metadata": {
    "colab": {
      "private_outputs": true,
      "provenance": [],
      "authorship_tag": "ABX9TyPMO4K5vSnvZNeRLnonb7Mc",
      "include_colab_link": true
    },
    "kernelspec": {
      "name": "python3",
      "display_name": "Python 3"
    },
    "language_info": {
      "name": "python"
    }
  },
  "cells": [
    {
      "cell_type": "markdown",
      "metadata": {
        "id": "view-in-github",
        "colab_type": "text"
      },
      "source": [
        "<a href=\"https://colab.research.google.com/github/RedPanda54/Machine_Learning_study/blob/main/kNN_Classification.ipynb\" target=\"_parent\"><img src=\"https://colab.research.google.com/assets/colab-badge.svg\" alt=\"Open In Colab\"/></a>"
      ]
    },
    {
      "cell_type": "code",
      "execution_count": null,
      "metadata": {
        "id": "X2DUzTNUXCxY"
      },
      "outputs": [],
      "source": [
        "import pandas as pd\n",
        "target_URL = \"https://raw.githubusercontent.com/RedPanda54/Machine_Learning_study/main/fake_bills.csv\"\n",
        "df = pd.read_csv(target_URL, sep=';')\n",
        "df.info()"
      ]
    }
  ]
}